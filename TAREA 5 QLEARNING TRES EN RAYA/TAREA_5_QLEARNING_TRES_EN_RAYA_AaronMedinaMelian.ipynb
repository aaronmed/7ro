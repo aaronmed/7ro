{
 "cells": [
  {
   "cell_type": "markdown",
   "metadata": {},
   "source": [
    "# TAREA 5 - QLEARNING TRES EN RAYA\n",
    "\n",
    "Aarón Medina Melián"
   ]
  },
  {
   "cell_type": "markdown",
   "metadata": {},
   "source": [
    "Importación de librerías"
   ]
  },
  {
   "cell_type": "code",
   "execution_count": null,
   "metadata": {},
   "outputs": [],
   "source": [
    "import matplotlib.pyplot as plt\n",
    "import numpy as np"
   ]
  },
  {
   "cell_type": "markdown",
   "metadata": {},
   "source": [
    "Función que dibuja el tablero dado un estado"
   ]
  },
  {
   "cell_type": "code",
   "execution_count": null,
   "metadata": {},
   "outputs": [],
   "source": [
    "# Función para dibujar el tablero a partir de un array de 1D\n",
    "def dibujar_tablero(array):\n",
    "    if len(array) != 9:\n",
    "        print(\"El array debe tener exactamente 9 elementos.\")\n",
    "        return\n",
    "    \n",
    "    tablero = np.array(array).reshape((3, 3))\n",
    "\n",
    "    plt.figure(figsize=(6, 6))\n",
    "    plt.imshow(np.ones((3, 3, 3)))\n",
    "    plt.xticks([]), plt.yticks([])\n",
    "\n",
    "    for i in range(1, 3):\n",
    "        plt.plot([i, i], [0, 3], color=\"black\", linewidth=2)\n",
    "        plt.plot([0, 3], [i, i], color=\"black\", linewidth=2)\n",
    "\n",
    "    for i in range(3):\n",
    "        for j in range(3):\n",
    "            if tablero[i, j] == 1:\n",
    "                plt.plot(j + 0.5, i + 0.5, 'o', markersize=40, markeredgecolor='blue', markerfacecolor='none')\n",
    "            elif tablero[i, j] == 2:\n",
    "                plt.plot(j + 0.5, i + 0.5, 'x', markersize=40, color='red')\n",
    "\n",
    "    plt.show()\n"
   ]
  },
  {
   "cell_type": "markdown",
   "metadata": {},
   "source": [
    "Función que comprueba si es victoria del jugador 1"
   ]
  },
  {
   "cell_type": "code",
   "execution_count": null,
   "metadata": {},
   "outputs": [],
   "source": [
    "def es_victoria_jugador1(array):\n",
    "    # Combinaciones de victoria para el jugador 1 (círculos)\n",
    "    combinaciones_victoria = [\n",
    "        [0, 1, 2], [3, 4, 5], [6, 7, 8],  # Filas\n",
    "        [0, 3, 6], [1, 4, 7], [2, 5, 8],  # Columnas\n",
    "        [0, 4, 8], [2, 4, 6]              # Diagonales\n",
    "    ]\n",
    "\n",
    "    # Verificar cada combinación de victoria\n",
    "    for combinacion in combinaciones_victoria:\n",
    "        if all(array[i] == 1 for i in combinacion):\n",
    "            return True  # Hay una victoria del jugador 1 en esta combinación\n",
    "\n",
    "    return False  # No hay victoria del jugador 1 en ninguna combinación"
   ]
  },
  {
   "cell_type": "markdown",
   "metadata": {},
   "source": [
    "Función que comprueba si es victoria del jugador 2"
   ]
  },
  {
   "cell_type": "code",
   "execution_count": null,
   "metadata": {},
   "outputs": [],
   "source": [
    "def es_victoria_jugador2(array):\n",
    "    # Combinaciones de victoria para el jugador 2 (cruces)\n",
    "    combinaciones_victoria = [\n",
    "        [0, 1, 2], [3, 4, 5], [6, 7, 8],  # Filas\n",
    "        [0, 3, 6], [1, 4, 7], [2, 5, 8],  # Columnas\n",
    "        [0, 4, 8], [2, 4, 6]              # Diagonales\n",
    "    ]\n",
    "\n",
    "    # Verificar cada combinación de victoria\n",
    "    for combinacion in combinaciones_victoria:\n",
    "        if all(array[i] == 2 for i in combinacion):\n",
    "            return True  # Hay una victoria del jugador 2 en esta combinación\n",
    "\n",
    "    return False  # No hay victoria del jugador 2 en ninguna combinación\n"
   ]
  },
  {
   "cell_type": "markdown",
   "metadata": {},
   "source": [
    "Función que comprueba si un estado es empate"
   ]
  },
  {
   "cell_type": "code",
   "execution_count": null,
   "metadata": {},
   "outputs": [],
   "source": [
    "def es_empate(array):\n",
    "    # Verificar si no hay celdas vacías (0) en el array\n",
    "    return all(elem != 0 for elem in array)"
   ]
  },
  {
   "cell_type": "markdown",
   "metadata": {},
   "source": [
    "Función que comprueba si un estado es válido o no"
   ]
  },
  {
   "cell_type": "code",
   "execution_count": null,
   "metadata": {},
   "outputs": [],
   "source": [
    "def es_estado_valido(array):\n",
    "    # Verificar si el array tiene la longitud correcta (9 elementos)\n",
    "    if len(array) != 9:\n",
    "        return False\n",
    "\n",
    "    # Verificar si cada elemento del array es 0, 1 o 2\n",
    "    for elem in array:\n",
    "        if elem not in [0, 1, 2]:\n",
    "            return False\n",
    "\n",
    "    # Contar el número de círculos y cruces\n",
    "    num_circulos = array.count(1)\n",
    "    num_cruces = array.count(2)\n",
    "\n",
    "    # Verificar si la diferencia entre el número de círculos y cruces es 0 o 1\n",
    "    if abs(num_circulos - num_cruces) > 1:\n",
    "        return False\n",
    "\n",
    "    # Verificar si el primer movimiento fue realizado por el jugador con el símbolo \"1\"\n",
    "    if array.count(1) < array.count(2):\n",
    "        return False\n",
    "\n",
    "    return True\n"
   ]
  },
  {
   "cell_type": "markdown",
   "metadata": {},
   "source": [
    "Función que calcula el estado desde la representación numérica"
   ]
  },
  {
   "cell_type": "code",
   "execution_count": null,
   "metadata": {},
   "outputs": [],
   "source": [
    "def estado_desde_numero(numero):\n",
    "    if not isinstance(numero, int) or numero < 0 or numero >= 3**9:\n",
    "        print(\"Número no válido.\")\n",
    "        return None\n",
    "\n",
    "    # Convertir el número a una representación ternaria\n",
    "    ternario = np.base_repr(numero, base=3, padding=9)[-9:]\n",
    "\n",
    "    # Mapear los dígitos ternarios a los valores del juego (0, 1, 2)\n",
    "    estado = list(map(int, ternario))\n",
    "\n",
    "    return estado"
   ]
  },
  {
   "cell_type": "markdown",
   "metadata": {},
   "source": [
    "Función que calcula la representación numérica de un estado"
   ]
  },
  {
   "cell_type": "code",
   "execution_count": null,
   "metadata": {},
   "outputs": [],
   "source": [
    "\n",
    "def numero_desde_estado(estado):\n",
    "    # Verificar si el estado es una lista de 9 números enteros\n",
    "    if not isinstance(estado, list) or len(estado) != 9 or not all(isinstance(num, int) for num in estado):\n",
    "        print(\"Estado no válido.\")\n",
    "        return None\n",
    "\n",
    "    # Convertir la lista de dígitos a un número en base 3\n",
    "    numero = int(''.join(map(str, estado)), 3)\n",
    "\n",
    "    return numero"
   ]
  },
  {
   "cell_type": "markdown",
   "metadata": {},
   "source": [
    "Generación de los estados posibles "
   ]
  },
  {
   "cell_type": "code",
   "execution_count": null,
   "metadata": {},
   "outputs": [],
   "source": [
    "estados_posibles = []\n",
    "estados_valores = []\n",
    "numero_estados_totales = 0\n",
    "numero_estados_validos = 0\n",
    "matriz_recompensas = []\n",
    "\n",
    "diccionario = {}\n",
    "diccionaroInverso = {}\n",
    "\n",
    "for a in range(3):\n",
    "    for b in range(3):\n",
    "        for c in range(3):\n",
    "            for d in range(3):\n",
    "                for e in range(3):\n",
    "                    for f in range(3):\n",
    "                        for g in range(3):\n",
    "                            for h in range(3):\n",
    "                                for i in range(3):\n",
    "                                    estado = [a, b, c, d, e, f, g, h, i]\n",
    "                                    numero_estados_totales += 1\n",
    "                                    if (estado.count(2) == estado.count(1)) or (estado.count(1) == (estado.count(2) + 1)):\n",
    "                                        if not(es_victoria_jugador1(estado) and es_victoria_jugador2(estado)):\n",
    "                                            valor_estado = 0\n",
    "                                            for i, j in zip(range(0, 9, 1), range(8, -1, -1)):\n",
    "                                                valor_estado += 3**i*estado[j]\n",
    "                                            if es_victoria_jugador1(estado):\n",
    "                                                matriz_recompensas.append(100)\n",
    "                                            elif es_victoria_jugador2(estado):\n",
    "                                                matriz_recompensas.append(-100)\n",
    "                                            elif es_empate(estado):\n",
    "                                                matriz_recompensas.append(1)\n",
    "                                            else:\n",
    "                                                matriz_recompensas.append(0)\n",
    "                                            estados_posibles.append(estado)\n",
    "                                            estados_valores.append(valor_estado)\n",
    "                                            diccionario[numero_estados_validos] = valor_estado\n",
    "                                            diccionaroInverso[valor_estado] = numero_estados_validos\n",
    "                                            numero_estados_validos += 1\n",
    "\n",
    "                                        \n",
    "print(estados_posibles)\n",
    "print(estados_valores)\n",
    "print(\"Hay\",numero_estados_totales,\"estados totales\")\n",
    "print(\"Hay\",numero_estados_validos,\"estados válidos\")\n"
   ]
  },
  {
   "cell_type": "markdown",
   "metadata": {},
   "source": [
    "Generación de la matriz de transición"
   ]
  },
  {
   "cell_type": "code",
   "execution_count": null,
   "metadata": {},
   "outputs": [],
   "source": [
    "matriz_transicion =  np.zeros((numero_estados_validos, 9), dtype=int)\n",
    "\n",
    "for indice_estado, estado in enumerate(estados_posibles):\n",
    "    for indice_accion in range(len(estado)):\n",
    "        aux_estado = estado.copy()\n",
    "        if aux_estado[indice_accion] in [1, 2]:\n",
    "            matriz_transicion[indice_estado, indice_accion] = -1\n",
    "        else:\n",
    "            aux_estado[indice_accion] = 1\n",
    "            if es_estado_valido(aux_estado) and not(es_victoria_jugador1(aux_estado) and es_victoria_jugador2(aux_estado)):\n",
    "                matriz_transicion[indice_estado, indice_accion] = diccionaroInverso[numero_desde_estado(aux_estado)]\n",
    "            else:\n",
    "                aux_estado[indice_accion] = 2\n",
    "                if es_estado_valido(aux_estado) and not(es_victoria_jugador1(aux_estado) and es_victoria_jugador2(aux_estado)):\n",
    "                    matriz_transicion[indice_estado, indice_accion] = diccionaroInverso[numero_desde_estado(aux_estado)]\n",
    "                else:\n",
    "                    matriz_transicion[indice_estado, indice_accion] = -1\n",
    "\n",
    "\n",
    "for fila in matriz_transicion:\n",
    "    print(fila)"
   ]
  },
  {
   "cell_type": "markdown",
   "metadata": {},
   "source": [
    "Creación de la matriz Q"
   ]
  },
  {
   "cell_type": "code",
   "execution_count": null,
   "metadata": {},
   "outputs": [],
   "source": [
    "matriz_q = np.zeros((matriz_transicion.shape[0], matriz_transicion.shape[1]), dtype=float)\n",
    "v = 0.9  # Factor de aprendizaje (learning rate)\n",
    "y = 0.8  # Factor de descuento (discount factor)\n",
    "\n",
    "s = 0\n",
    "entrenar = 0\n",
    "while entrenar < 1000000:\n",
    "    a = np.random.randint(9)\n",
    "    while matriz_transicion[s,a] == -1:\n",
    "        a = np.random.randint(9)\n",
    "    \n",
    "    siguiente = matriz_transicion[s,a] \n",
    "\n",
    "    matriz_q[s, a] = (1 - v) * matriz_q[s, a] + v * (matriz_recompensas[siguiente] + y * max(matriz_q[siguiente,]))\n",
    "    \n",
    "    if matriz_recompensas[siguiente] != 0:\n",
    "        s = 0\n",
    "    else:\n",
    "        s = siguiente\n",
    "        \n",
    "    entrenar += 1\n",
    "    \n",
    "    \n",
    "# for fila in matriz_q:\n",
    "#      print(fila)"
   ]
  },
  {
   "cell_type": "markdown",
   "metadata": {},
   "source": [
    "Comprobación jugando partidas (SIN EMPEZAR)"
   ]
  },
  {
   "cell_type": "code",
   "execution_count": null,
   "metadata": {},
   "outputs": [],
   "source": [
    "partidas = 0\n",
    "while partidas < 100:\n",
    "    a = np.random.randint(9)\n",
    "    while matriz_transicion[s,a] == -1:\n",
    "        a = np.random.randint(9)"
   ]
  }
 ],
 "metadata": {
  "kernelspec": {
   "display_name": "base",
   "language": "python",
   "name": "python3"
  },
  "language_info": {
   "codemirror_mode": {
    "name": "ipython",
    "version": 3
   },
   "file_extension": ".py",
   "mimetype": "text/x-python",
   "name": "python",
   "nbconvert_exporter": "python",
   "pygments_lexer": "ipython3",
   "version": "3.11.7"
  }
 },
 "nbformat": 4,
 "nbformat_minor": 2
}
