{
  "cells": [
    {
      "cell_type": "markdown",
      "metadata": {
        "id": "DdCUq3uKivCo"
      },
      "source": [
        "# **TAREA CNN (Chess Data Set)**"
      ]
    },
    {
      "cell_type": "markdown",
      "metadata": {
        "id": "QLrGC7Zzihtp"
      },
      "source": [
        "Aarón Medina Melián"
      ]
    },
    {
      "cell_type": "markdown",
      "source": [
        "En esta tarea entrenaremos una red convolucional con el objetivo de que clasifique adecuadamente las imágenes de las piezas del ajedrez. El dataset lo obtendremos de Kaggle, realizaremos data augmentetion para tener un dataset más amplio y definiremos el modelo."
      ],
      "metadata": {
        "id": "LQh0DoUcikIV"
      }
    },
    {
      "cell_type": "markdown",
      "metadata": {
        "id": "tbLXVQDRh2gY"
      },
      "source": [
        "https://www.kaggle.com/datasets/niteshfre/chessman-image-dataset?resource=download"
      ]
    },
    {
      "cell_type": "markdown",
      "metadata": {
        "id": "-suAhyvvF6t9"
      },
      "source": [
        "# Importación e instalación de las librerías necesarias"
      ]
    },
    {
      "cell_type": "code",
      "execution_count": 1,
      "metadata": {
        "colab": {
          "base_uri": "https://localhost:8080/"
        },
        "id": "5qZ6nLl1I3cV",
        "outputId": "0612f028-2d01-42c8-8095-a2f9a184df58"
      },
      "outputs": [
        {
          "output_type": "stream",
          "name": "stdout",
          "text": [
            "Collecting split-folders\n",
            "  Downloading split_folders-0.5.1-py3-none-any.whl (8.4 kB)\n",
            "Installing collected packages: split-folders\n",
            "Successfully installed split-folders-0.5.1\n"
          ]
        }
      ],
      "source": [
        "!pip install split-folders"
      ]
    },
    {
      "cell_type": "code",
      "execution_count": 2,
      "metadata": {
        "id": "sIIjB272JLL_"
      },
      "outputs": [],
      "source": [
        "!pip install -q kaggle"
      ]
    },
    {
      "cell_type": "code",
      "execution_count": 3,
      "metadata": {
        "id": "P-mJkg22LMbs"
      },
      "outputs": [],
      "source": [
        "import tensorflow as tf\n",
        "import numpy as np\n",
        "import pandas as pd\n",
        "import os\n",
        "from PIL import Image, ImageOps, ImageDraw\n",
        "import keras\n",
        "from keras import layers\n",
        "import matplotlib.pyplot as plt\n",
        "from google.colab import files\n",
        "import cv2\n",
        "import glob\n",
        "import splitfolders\n",
        "import secrets\n",
        "import string\n",
        "from collections import Counter\n",
        "from sklearn.metrics import confusion_matrix, classification_report\n",
        "from keras.preprocessing.image import ImageDataGenerator\n",
        "import random\n",
        "\n",
        "from keras import regularizers, initializers"
      ]
    },
    {
      "cell_type": "markdown",
      "metadata": {
        "id": "KaX9yubAh6WY"
      },
      "source": [
        "#Importación del dataset desde Kaggle"
      ]
    },
    {
      "cell_type": "markdown",
      "metadata": {
        "id": "t_RQO2_NiBtI"
      },
      "source": [
        "##Conectar con la API"
      ]
    },
    {
      "cell_type": "markdown",
      "source": [
        "En este post de Kaggle he encontrado la manera de poder obtener las imágenes del dataset a partir de la API de Kaggle, generando un Token que he guardado en mi Github para luego añadirlo y poder obtener las imágenes con mayor comodidad."
      ],
      "metadata": {
        "id": "8oA0Y5_QUz-J"
      }
    },
    {
      "cell_type": "markdown",
      "metadata": {
        "id": "smPPyFrNOe1F"
      },
      "source": [
        "https://www.kaggle.com/discussions/general/74235"
      ]
    },
    {
      "cell_type": "markdown",
      "metadata": {
        "id": "ngAsoNdKOYuK"
      },
      "source": [
        "![image.png](data:image/png;base64,iVBORw0KGgoAAAANSUhEUgAAA38AAACmCAYAAABqbjb1AAAgAElEQVR4Ae2d308cR7r+909JpEi+QNqLSHuxFyvthaVcWMqFpdxEipDlQRp7BQiLLxYyQiMhZETiH2Ltg4iYaANRsAJ74hDZnNgc25wl5oBt1piY9YagcIgdjmFlMcqONTuJz/PVW93VXf1jumdgGIbhQUIz011d9dan3qqup+tH/wr8IwESIAESIAESIAESIAESIAESqHkCv6r5HDKDJEACJEACJEACJEACJEACJEACoPijE5AACZAACZAACZAACZAACZDAASBA8XcACplZJAESIAESIAESIAESIAESIAGKP/oACZAACZAACZAACZAACZAACRwAAhR/B6CQmUUSIAESIAESIAESIAESIAESoPijD5AACZAACZAACZAACZAACZDAASBA8XcACplZJAESIAESIAESIAESIAESIAGKP/oACZAACZAACZAACZAACZAACRwAAhR/B6CQmUUSIAESIAESIAESIAESIAESoPijD5AACZAACZAACZAACZAACZDAASBA8XcACplZJAESIAESIAESIAESIAESIAGKP/oACZAACZAACZAACZAACZAACRwAArUr/nKPcfX8eXzg/H+F5V8KlGhmHh874cxrzuPj8bv4ZjUXvNC85pN5ZIIheIQESIAESIAESIAESIAESIAEqoZAzYq/3F9SOPT6G3jN+f89/vioAPf1z3DMCWde437/9XuD+CZrXG9ec+wzbBin+JUESIAESIAESIAESIAESIAEqo1AjYq/HL5O1RnCzxJxh87Oh/M3hVyUCDw67I4emtdQ/IVz5VESIAESIAESIAESIAESIIGqIVCb4i93F5119qhdXZ07Alh3Fg/Cpn5GCLnMvcs4quN6vQ6df7GngEZcUzWlS0NIgARIgARIgARIgARIgARIwCZQk+IvdzvljPodSn2Fqx16+qYh3kwXiBFyy+m33fjO26OHMdeY0fM7CZAACZAACZAACZAACZAACew1gRoUfznc8ok9rxi8i8D2LTFCbmM04Yi/1/TU0Zhr9rpgmT4JkAAJkAAJkAAJkAAJkAAJmARqT/xlvkKzXrdXl8LXovTCjpkUIoWcd/3g7/7tsXVl5DVm5PxOAiRAAiRAAiRAAiRAAiRAAntPoObEX+ZaizNKdyilR/kymGiKmPppCrl3h/HNiwwy8r/+HW71vYdfazH5urFjqHkNN3zZe0+mBSRAAiRAAiRAAiRAAiRAApEEakz8ZXD1D1rkvYHO2+4ET1MUvtZx2zv10xRyjtBz49Gvizh8dt69zryG4i/SyXiSBEiABEiABEiABEiABEhg7wnUlvh7MY6kI97q8Jsjb+PI2/b/kd+6u36+nsItVxcCppBzrjfE35vvoHP0MTLmTqHmNRR/e+/JtIAESIAESIAESIAESIAESCCSQE2Jv8z4SWfKpx6tK/TZfC3jgjGFnDnt057+mTNFn77KvIbiT1PhJwmQAAmQAAmQAAmQAAmQQJUSqCHxt4Erx9zRuqOnzuOD877/U++44rDpKzjybztCbjvXVKkT0CwSIAESIAESIAESIAESIIHaJ1A74s8UY/5pnbocPdNCWzCh1Z95bbGjeNu5RtvBTxIgARIgARIgARIgARIgARKoMIGaEX+ed/GZo3oeoN4NYZLjtvrbjpDbzjUeW/iDBEiABEiABEiABEiABEiABCpHoEbE3w/4+Kg75dOzns/H0iMS/zBuTf3cjpDbzjU+W/iTBEiABEiABEiABEiABEiABCpFoEbEX6VwMR0SIAESIAESIAESIAESIAES2J8EKP72Z7nRahIgARIgARIgARIgARIgARIoiQDFX0m4GJgESIAESIAESIAESIAESIAE9icBir/9WW60mgRIgARIgARIgARIgARIgARKIkDxVxIuBiYBEiABEiABEiABEiABEiCB/UmA4m9/lhutJgESIAESIAESIAESIAESIIGSCFD8lYSLgUmABEiABEiABEiABEiABEhgfxKg+Nuf5UarSYAESIAESIAESIAESIAESKAkAhR/JeFiYBIgARIgARIgARIgARIgARLYnwQo/vZnudFqEiABEiABEiABEiABEiABEiiJAMVfSbgYmARIgARIgARIgARIgARIgAT2JwGKv/1ZbrSaBEiABEiABEiABEiABEiABEoiQPFXEi4GJgESIAESIAESIAESIAESIIH9SYDib3+WG60mARIgARIgARIgARIgARIggZIIUPyVhIuBSYAESIAESIAESIAESIAESGB/EqD425/lRqtJgARIgARIgARIgARIgARIoCQCFH8l4WJgEiABEiABEiABEiABEiABEtifBCj+9me50WoSIAESIAESIAESIAESIAESKIkAxV9JuBiYBEiABEiABEiABEiABEiABPYnAYq//VlutJoESIAESIAESIAESIAESIAESiJA8VcSLgYmARIgARIgARIgARIgARIggf1JgOJvf5YbrSYBEiABEiABEiABEiABEiCBkghQ/JWEi4FJgARIgARIgARIgARIgARIYH8SoPjbn+VGq0mABEiABEiABEiABEiABEigJAIUfyXhYmASIAESIAESIAESIAESIAES2J8Eakf85V8iu/UyvBRyL5HN5sPP+Y5m1+aw8G2BeHxht/VTbPkpxJZsRtmff7WtWEu/SNIrkgle5QuzjUk5/1MG+ZDsxly2e6ftvIRylrLZknLQ/yF+UKj8ds/i6o15cxEzDzer175KWVYMh1Lqm8/u/E+bWH24iNXnLxHqt77wVfnz1SaWphaxFdG+7XrbW2kwMe2mtI1uW5NBNldpA2swPalne8VxB3W86JIoNX8xPlh0ulUTMI/8VrX0KcSWMrfJRbSTRRVFueIpKrG9CVR1fcu9wbDtVGtH/D0YQP3xASyFoNj4MoX6/vmQM/5DGcy8n0Ti/TvI+k+V6bey5cx1bJjxPb2OroYkur5cN4/u6vel/mSRTACsX0dXAbbRRq5j8kwSQw+iQ8WefbGChUfrKIuGfDCAxPEkem5kAsmqsjmeRL35n0xh7KEbNrT8AjEdjAOrwy2obx7BarHZLWc5FptmaLgMVmcXsVGmTmKAQ0g+S6pv2ubsIsbONKL+eCOaWtvQlEyiXvzxUchDCX1NlXzmny5iYcWtN/h2BE3HWzD2rTbQXwa73/bqlCv2GdluWm2jp605nkSi9RImS334GOJvu5vHPDYezWH1xfZTCfjH9qPyXCn1rJL3UTPxbdVxM4Iivpecv0gfDEvQXy/DwuzlsXkMHS9Dn6IsWRBbUpgsZ7ct0E5u09ByxbPN5Hf/sjL1LXff0KpNgeKvwkUTEA/ZeQw1V/6GVdKNquQbiIZapgoqwt4vmHUSJX3mcb8vifb2DiRC4guUDYDs7ACajndjyu7ohIUpyYSDHLhs5bhTiLtw0zZNCslnSfVN4nq1jslUEk1909hwnnrksTF1CU0N3eXtcJi2l+m7qieRD9x2uQzKlI8dRRPZblpto0eovLLL93gLRh6XkHKIv5Vw9TaC7rxdj/ePbZgFoGRxtL1kQq8quY6HxhJ9sOT8RfpgWFrVXi/FvhoWf2FFwmMhBHbeBoVEeqAOHUzxl9/E0pdpnDvThp6LI5gynrQ+u53G0O015QTZh1+o79lvb2KkJ4XOnjQm/dPcXmWwemME/V0S1xgWNjNY+nMaM9+H+5FHPIjwO9WI1sH5wEhj9m83MXa5F51nepEencYz/1Dk8zmM2+dHbqwg+/0dDP150Y0nxq7AjSq/iYXRAZw7k8K5y2NYeO70OIMjf1trmBm9hJ5WO2zBmX+6gr7E6g3hHRK3wpTHxt0xpBXjAYzfdSNUZdDTgfrGbqQHDa52/pxrptbcvIejB3Jz6G/oxtRT+ezAhFXMTmhP2ThHN1Un/NykNYoRHsYJ7PmyMTuCockVzzG8mMf44E2s6lGnrSeYGhaW3egfvonVLSP41iImBr/AknnMX85GcOtrYZbqvPjNoE7vOpZc1CjK3430VHjH59YwI7a+ED+y4zf8tmA5isAWX7/YjdauSxi78QRZY2qg1MeJh+u2/1zA1HPbgIh8qBCFuCqmvWg/3oKuPreuG9kCck8wNXgdy7qMAKh24doTd/Q59wSTkt+fYHGzORTKp1Xf5rA1O6baCmlLzHbHk74wuX0BidNjeGaw0GGWP2rBiY8W9U8gqu6q/N7BqvDotxiPz24CMi1ItYHd6B+dMwRmSDn6/VJSjkhTWKVTLag/3Ysh7b+mLxcoA7PtVZmLSAMIsdPwN319oXbehed+i2pzLT/MOOUnbf3Mmm8E1mkXLaZbMqOj4IyJEPFnm7LxeQr1XTdhVvtCthXyN8S1jxH3QGVGofqjuF9CV2MS7T1pzz0n+/00xqUeq3vWXMEpvqH+oRKNabvcorK/5bHx4Lpzb5b6FBRHheOU9nnsrjFso/xyBPeNQxt3RzAyZd0o4nwgcE9F4bRVBuLKSK6PzZ8PShE+WMiXUKBeSgoFr/ElH/xp19Pnm1gYtvozqr+Cl3g2JW1hCufkfmg6e2R6QfEnberQlWl3JkdB3w1ap/JWyG/NNktf6rn/2kL5qXHP87WVqn7eXlH80k4fEcDmIiYHe9HZdcnT37HKwLjnR9ZT1z+se+eK2wcKsV2VYeR9Nrp9K7Z+a1SeT9WWp+1+8oi3H61svYNn2RVMCZMzvRj50rdE4FXG9hfdz9Z9S08q/FECgQMo/jKY6Umi6f0xLKysYXUqjc5kNyafWtTMBtzq6Hej79wYZmbnMDN6QU1dcp/Kys2mBYn2NKZm57AwNYa+M93oai38ZMoRD/rJfn9Q+G1N9iLR0IGhG4tYfryIyb4WJFLGVFE1TbQFfaPTWJidw9RgCj2plDE6Fm+XmU/kFjFyqhGdgzdVfJLP1mQHJrRuya1jaXbF6oy8eoKR5qQKu7y2hiVh0jyAJb84VTjtDk6q2xO3GrmweQN5LH3U5mUotoxaiavpQZ/2or51QDG2phpZZai4P3yC5YfX0S+jp9eMu3ZIJchO9jqdKsl/+6hX/Tll47nWEn9d1yyVFB7Gc4H74/EwTjQOY9nowD8b7UCib84SEes30ZN0y1H5lzmqo57a+qaVRD7lt1meuoCJqTkszF5H2mCJx8PKf8Vvlh8/wcxwNxLNaSzZIife392syTcvC7kRtqGrqxdDNyTtmxhqTyLRc0f5TXg5AhsTYoO29yZGzjQqPtqdpJxaT3eg8/J1zOipmjH5gOLaiM6PbH/+tBuJ5CXcl0iVL4+g53gb0hNz3qmJTvb8N5YVjLcmUd8wgCVdljJ9uHUMz3wcCuVT1bfmNtXRkTprtSW+snXSBxYuJ9H5ebQ/q+C+urtwI43OhhYMPbQf3tg+1HVuAJPSRn15CU3HO9DT7S2nE/3ztrC1yzGVMtqXDiTMOu5L099ebK3MYepyG+q7R7Cgy8z05QJlENUmBfKFaH8Dott5A7X6GtfmKj9MdTvlNzXYgURDL2b01Ed7BofZhnamutG6DfGHrTs4d7wXM3aHOMq2cH+Lax9j2PjapamPUm79gUwLvIl0axI9n8650/GlTqp71hM8W5vHxPstaAq5twnsUP/w3wfs9qNpcNF94OIrtI0vvW3HkNx7z5izaHz3Fn+cUoeNGSD56Utqyr87Gmu1A/3TVl2K8wGP/8bmJ66MpH2Ny58PSBE+GOVLhdrGyGt8JgR/6np6AWNyT5oasZa4dF2w25dp5SvmzJ7o9CQ+t3+lZuY0D2BBi8dI3w1ap+6JhfzWbLP0pZ77b3xb6dxTL19XfSvpy9Wf7sa5brvPqNvrB9722ppKGl1PFSe5d86u4NnKNIbaG90pzz7bvfdZi7nZp4zz7UhOmk2hT7vPKH3umcdPsKx8IOweZfcDpB/dnETTx0/sGOP7s4WS5vHCBA6g+JMK24EJR3wAW8/XnE1JzAZcVdzWEazqDp89reSEdsq1MbQ32J1KzViOGY2TPqw/VZztaYxLI3AyjSVjgE2HQXYNq+ZT5dw0+o93Y1KNethTF69oZSZXWcecBrQIu8x8bt3oRuLitPvUSG7QckyLFMcwd/3fgsMkj62nmwU2orBunv64n10xBNCLm+jxM9TH9MiLp8G18ptfW/GMhqobd+q652m5abZ0Bqe6ktAjeHhkCzMjkFfM2CfWvkCX+IutE0PDGHF4v1qiwV3zuIaJ00n033U7E54RHBlhMtn4GnAVd4CFkaJwM6aoqjPrcxj7aFqJFOQ2sfq9MdQH276HVhyx/m4kJV+9LKybct+UMRqi7Hc7sfDb/moRI40dGDdd2T6meSs/fd/rm3H5CIyMIY/la2lMOGvlxNbCwkvypkS6nrYo+TgzgKEz7nS85Y9b0GrXQS8HIJBPu92o9+Qjj/sXzY6qCdcvPs1z3u8qbf8o0fQla9RQgqoyaPMwFmHptGES5mHaEbJQoiqJdk/78lLZqh+WFNNeKLs0P8cOk3mwDMw2KTZftp2F/S26nfdSlKGGqDbXmk7oLT+rjHR7ovzF14ZKXS60Dh2wrneFhmmRj02MbUF/yyO6fYxmI/XHW/6AOuY8LAv6pyqvy3NuJnKb2NgMu7lZQcL9w51er0Jlp0NnaKhzahaHr+1Q4Y06pXw/Ik4Vh+uTS/2NSPcPqAdW6uGTEuGXcN++DwXbIq8PmP5r1buItBFTRsXkz6WtvhXlg3G+pOqVy8Qqh+i64TPD91N8LQktoOXkxucdqO8x9lV4LiPkLufoumjFJ/dUS/hdwn3jlhbvu17zIv1W+Y+PheceZtnirSvetlLFbz8kVCm/mkPaN617aTDp3Essv9FpRtdT8TfPA8IXm3imN/EzbX81j6GGFow8MvL+agXjvr5IVPsWycmINvTrqzy2VtY8MwGeXWlDYtCevWLfo9z14NY9NCEPziXCsP7sSnQ/O9QOHvQQOIDiz37idqoXYzesHfRMImYDrhzeeDIo4dQxu1OjBIfZiKmI/B1+M3b7elnYnxrGiIxAFng6itxLPHs8h4UbYxi63I0mp7Mq8budUB27ssW2tRi73HxandDOwTvqyZSMSqh/NdpmjWzoNNSn/RQncWYAk1NP8Cxs51LnAu/N0TmsR8REtsrT1jNpNbLqpD1rjcw4osDT4DqxIP/TGpZl5HM0jXRXizHy6YZxvqkGxrjBKJHhbRBV2TY0orW1zfo/1YhEQxv6jBXdYT7hpBHyxSMipBFzRgK9wsu51GDjvRHYIQqwkLPh5e7EbH3Jv8TGyiIWpq5jbPACOhvcp6hheTP93RdTqPhzha6ElpuXvpGFiKKVMbSelCeXts+pT2tUQXcWXD/1pV4wH+H1w3u1zy7vSeuX2GbffGTEWISelKUl+LxpBLiFlFFYPuRYeOffqjfp2TDDzGO2gLRHpZ0z5siR2QmwAwTSVWH0ZllWh2bIfiCg43R9q7j2IuA3ATuCZeAyKiJftvgr7G/R7bzOl+ezYJtriz9TzHrWl1n2aiHoxCk+tJ2RP3+9kQgjbAuKP8uCwu1jFBvx7Ub0/dmsk/ZI7sVpexQuKP6sWQWN6Oy/jpnHa7E7bvr9Q/lX4OGdZWeAq2TPqJ8Ob3kIajxQiY/TLLcnGGm8hPsvZEmAdZ9wfd5KwfVPN0WzLpnn49O24ihYRkXkz7VCvpl5Mc6E+WCUL4X5nkQXeY2RXuCr3Z4Ym775yz5wn4hMz4qvr1/W4rsPZa1ki/Fdn4FqFkkBvw20Wf57mNgS7IupGUZ2vzBwbwjh6+HhSTOqngLWCGkbzg3fxNLKpjOAoXJoxiM+0JAObIYoDzD1Q0DTdzUh07dLrd86Dvczj/zzFSzNTmNyOI2+dmPDQdNWfYE6Zt2T/PXQCiJl7fZd9GX8LJ7AgRB/8pTBs9unzB+evW6tMzqZROJU2pm2aFaCYMX1ir+ta92od26IGvo6JtoLO6WKs3EAC/Jo0Z6m4b+5bVzrRqKhEV0X0xgavYmFx9fR73SiFzHU4H2Sr1KedTdFKcYuN5/WtEa1fmMwjSHP/x1rxEhnTX/mN7F8w1qjJzsQJrquY8MZCdSB5LNAJ/bpF+i0O0XKVrU2yJ+2sb7P35mWKbNdjUicTKF/MI3xG3NYviYi0pgaa5phj+T4d9aT3wmjQ6fKpn0Mq86rHoJbSof5hC8p709pxOzOhIgHd6RPytE7Aq0uNNiUKv7Cy901J/sgjdaGRrT3DGBo+DpmHk5jzPDVsLypYwYjN7bwkb/CnXH/jdMecbLXcnr9Ttb5WWssXT91U47OR4H64V4eFKWec/qHdAalnskN2L7By01UbupSpo6I93MIyace+fNx9NxcdbL2p+dpsO+cdMSs18VYdTcgEtXTZVt0h9xYA+kaN1qrIxbSvjh1sLj2IuA3ATuixF8R+YoVf7JpTuF23o80us2NE3+WvfqBhRO3WZedg/qL1TaGin/Fyn1QFWdbQPwV0z4WZCP1x14P67kXmOv7QsSfZOv5E0ypdeMtSBxvRE/ENHy/f6i2yxw5tDHJKHUoI89otWZqTZfW4YuJU3XU5R4uD91Uh11ElFXfpZ6Yu0KHtUVmXTLPx6YdV0ZF5M/NtXwrzgdjfSlMnET2R7xWBH+VLv6ibbTiS7QPIC0bYnkenhfju0ELC/ptoM3yt+1iS8g93OiLBe+pwXbPUxf8aRasp1Y+st/PYVL2DLAfVA89sGfemPGIL7V/4d1hXo/A2vck03c1IdO31bES6reOQ32qvS1kJ+NepAdHMDm1iPvDHW6f3LRVX6iOWeIvvF8T3c/W0fCzMIHaEX9q6oD/SZBk3Jrup28ICoVHqLxUr3cIewISrLhe8SdPQ/xruqCm3sWIP1OkqLUS7ppDQDqd3hEpqGmfegTFehpk3pQkTzLdwRE/RdhlVvbIjmaY75j8Xq1grNWYTukJb3US9PQ4fcrzVLTATU6HVZ9Ox9M+GpI/FafJ1ROBPd1yctP7Xq1HI2i1hZkEDytvTzRFhvFeY/lf/90nGG81O9XhT7U9bDzlbsdq3Fi86QCh/ui85ynMb7xPz8Ly77kx+RL0hg/e5ANPdP3l6J/u44tffpp+ap2Oy0fYeXnQYr7/K3gDDkka8mS068oY+p21ftbowOSXvcGHBqbv+fMZmg8rb552yTAi/2AAJ/RDIuM44J1WZD69dYKZT3pDbqyBm7pxo7XKzDtNS+I1p+kU014E/CZgR7AMzLKOzVdR4s8hAuEmr/HR7bx5Jr7NDfNDb/kJE3/cqi6XPPJnr29xptzH3Q/8HdLwdiDQPpptuIdNARHhAVZA/JlxfjuCVmPdoudy3Y6aD0N0m+4JaLdPvlFoFUS1HcaUcnXQCu/UqWLilFHyhgGMf9rmiExrpP86Rhr1PdcyyvRPbaZZlzzn49LW5w1mnjIqJn/aCPsz3geL8KWA+CvmGp8hnp/B+0KgbfCkGZeeEZ/98Nwp70IC2GNPyA+jDOSVNI7fxt5/LVv8D33MttJ7j5S0g+2eh4e/nTRt89RTOx/G+ezUBdTrqZJmPOZMECf79ii5PWvE47t2GNO31SEjLQ8nJ87wL+oBi29pgmdAxrRVR6GO2bNRpI+o86XPq7Ip3M/WwfhZmEDtiD+7U5RoH8bSC3utQT6D5SsyimYszF+/js6Gbkys6TBrmDAWiZuVIFhxfeJPRrbUduw3sfo8g+zzJxjvakNTY2GnDI9TFnbrTVOsG2v/lH5H1kusSh6ckT8g/zCttnsfe7CmxMyzqUvobDbEXxF2mfmUKTTtJpNXGSz0t+DEQHCxff7egLLVWWC9NYd0wfxaeUkkDd5bc+rVFs5opz33vOtzd/MVNZffXA8pnWlZe6mXkEjD0HDJ2RAB2RWMp5Ku+PX7u9xoDZHnnvauwQsrGzes9c0fRm24EPMOQmn8Es0tOCG7NxoRZmVtlrlY3c8Gln1dn1o7YOafTiN9KiKfAZYvsfqpu3OglHn7p+4Cu61p2fzD9VV/3sRUdczspBn2e8MbN2UnjO9G5y9Hu8429c+5O3zKGkvZgMne68Tjp3a8cfkIcN2cRr/ngYrY1Yaxv2mHcgz2fpENIRqSaj2sDinrguSYXrcpF3g52J1x01+3If5ErOjNpBae2qnn1rEgG404bYU1/c1Td/NrmJA2Sa9LDrmxCj+3w6TXBXqnfdabfillImtG9OsHimgvFBN5X6ruMATsCJaBp6z9afjzFSf+Ytp5b0HHt7ke2+yLPRzth3jOfUXq8qkkEsWKPxnNff4Ek+fakGiW6Yfawnjb1Mif6W9x7WMMm0D9UewbjQ21LJv67B2QZcrhQn8jzHqcvTuAE85DE50X9zPgH4G2K49nn8t90bthlhuD9ZDHTdMOb74vt6g47XuUOZtG8Uu662btRON8wHM+Lu24MtIbFjltY0j+XBjWt1gfLMKXVL0y28b4a6LvgcH7gip7zz3FvE/EpeeNT/eF9IZ98b5rQovz27j7r2VL4pSx4YyvrQzcG0oRf5H11OLk9pvyePZnY9M/T3trPTB064q9XtLoF3t81/B36z4RxwmI9AG5j542+m9yP24ufton7KVGTl5V/7RN3Ye9M43MsuX3OAI1JP5kms8mFmRnMuMl3fLS3Ckt9GwaG5MX0NqQxIlTMj0lidZzd5xpi2YlCFbckM5wfg0zsoW6rBM7Iy/oXYl8sXlYnDI6qXYgtRv67KMRdMp0ypMtONEg02e+QNoQf5KN7MMx9aoKSbfnI9lC3p32qbIZY5eZTwm/NTtsp9momJzoHMGy3nLR5mZ9vMTysDBuRJNMNTjeiM5h4xUTnrBWAzU0Ja+0kPwUCL85p3Z5rG9oxAmVb9+LrO0pMjJN0xKN2oYkTjQ3QsTl5Oe+/Bt2yKioOb3TOKXWcelt1cPLxgwd7Oirxesh05U8V9lPqTwdbhXgJVa/tHwxkWyE5P/cqLFds5Sz7QtqiqpMT54qnE8V5eY00n+GVWsAACAASURBVK1WXEq4tA64C+Kf3kGfiMdki3pheOvgdYydqaD4C5SjZHDF6vAeb8SJk2JbG/q18isgmhCTDxFOq6O9OCHCrQBXNbVI2onAml2j5NRCee1z1nFrNMedkidHA34Tkk9/fZPr5FjQJ8z0rfZM8qGnLJ/oHMaCscGBhHbqbtKqX+390+7iek8nwIo7kK4K4xV/6c+voyeZxImT4kveda+eNFWdTiLQXthTfer1mpgQO/xl4GcUma848SflEtHOG5TVV13PCrW5ftvkIj9HnZ5q56RNmpXNojRXf4pW26jLVdXvk23o6Q/Z9j7ufhDwt/j2Udsadg9U9Ue3S3ab3X7RvUdKTqyp10l3pCG7iLEzjaptaVX12NeG+7Pv9w85b9wHAm2X/3plhJ2mfd+QVybN+OtUEXGq+usZWbBGEP0zVuJ8IHA+Mu34MoJmGpU/HxddroV8MM7PJTp/vYy7Jvoe6BVrKv4vU+6UP2W/Kf7ce154XQyLz3p4bj2QNu6pBXzXg0wzTrYgzG913sPvv5bdE7OF28rAvaEU8RfXhtn3wcTJNnU/T5y6gBm9kaG/vTXuswnVx+rFhPGKs4Dv+tu3GE6RPvBqHTPyUEv6jNJfO5XGpDyU1g8A/LZKAXnuSYB7z2+0+8RzatCG4s/jzSX9qC3xp7OuprqZ07z0CePTDpPXj/SNUyV91U+2nYsipqo4YYr5kkd+K7jmzLnSl67qlJoL5n3n4dvZ0YnH88VKM6t32fSc8/3Iv0R262WBXT59Ye2f+Z8i8iNhZGpe5AYyvnhtG3xHK/pT1qQ4o5iFUtbvF3Se5vsC2lMz84Ey84Ur5aew1Dt/+a6TciiqjH3X7epPGfnYMnYKLSKx2HzsBtci7Cp/kJi2QCVYTJhiLDM7VxJnVB0vob0oJunQMDvMV0nt/A7TEvt3zee2YVtc+xjHJu58WHmV2oYXiqNA2xUWXN034sJHtIehcZbzYFTacWUkdkRdH2ZnrA9uw5dkd9IC/ZGi7oFhdkYeK5xe5GX6ZKm+u2O/FXuj2kpt2DY+Y/Ki7oNx/q+TddaL6wMlfhbgVJQP7DRt2daoGvsuJSKsluC1Kf4qRTf3BCOnWtA/tW6JoPxLrF6TEQfvyEC5zdm60YtEagzL9vTW/OY8Rk4b763bI7vKnc/qj08WHXvXhXhtfomt55tY/jQV/toMb2D+IoEqIGCKvyowhyaQAAlUMYG4e2AVm07TykSAPlAmkBWNhuJvh7iz395EutOaKlkvw9pdA5jxTTPdYRLBy2V663Av2pPWdLDEyQ6cG11019fIw8K9sCtoaY0fyWD14Zrn/YieDP8kUzDb0NkzVmAKrSc0f5BAFRBYxFhrG8bMd0JVgVU0gQRIoBoJxNwDq9Fk2lRmAvSBMgOtSHQUfxXBzERIgARIgARIgARIgARIgARIYG8JUPztLX+mTgIkQAIkQAIkQAIkQAIkQAIVIUDxVxHMTIQESIAESIAESIAESIAESIAE9pYAxd/e8mfqJEACJEACJEACJEACJEACJFARAhR/FcHMREiABEiABEiABEiABEiABEhgbwlQ/O0tf6ZOAiRAAiRAAiRAAiRAAiRAAhUhQPFXEcyFEnmJZ7NzWM0WOr+N46W+EHYbSRyIS+Tlu4VeOO97iW52bQ4L35b2gvLtM7RefpvdysD5z20/tqKvtPNcdHgJWIaXuhaTnrz4NZ8vJiTDkAAJkAAJkAAJkMDBJkDxt5flv3UHfQ1J9N3ObM+KFytYeLQOs9+71J9Eff/89uLjVS6BBwOoP3MdG+4R99v6dXQd1y93z2Dm/SQS798p/L4/98oyfLNewl1/3HrHo/480T1W3ocIfktVngew5D/u/M5gdXYRG4YQ3fgyVZihc91Ov6xj8kwSQw92Gg+vJwESIAESIAESIIHaJ0Dxt5/LOESgUPyVqUBD2Doxe8Sfc7RCXyzx5xE7+U3MXGzBif55z4OAshoUK/7ELi2IrZQp/spaAoyMBEiABEiABEiABHZMoGbEX/bhFxi6vYLs324i3dWGnotjWNgEsLmIycFedHZdwvhdOWD+5bFxdwzpnhQ6ewZ859cwM/gFlp6uYEquP3cHW/alksbYxW60dl3C2I0nyL4y43S/5/92E0Oj88516swriW8EC8/ll6SRxsz37jUq7su96DzTi/ToNJ4VmBKq8tvTgfrGbqSNOCzxN4et2TH0d7WhsyeNKf+UxPwmFkYHcO5MCucuj2HhuTl26NrifoviBCAqvq1FTAzewerWE0z1W8zGZzeBV5tY+jKNc2e60T86hw3HBJv7800sDFscRm6sIIuXeDYleUrh3OBNrOrCsI0szM2O74Xk+RJ6WiW9EK7P5y0/OdMLlV4J4u/Z7TSGbq8pSyw/XEP225sYUX6VxuTDUvzOpR7+LUT8ScCHaSQa0u7IXFSZSHh1Pq18pOfiSNDGrTXMOLzmsPVURjsLjPypMu5F+/EWdPW5LLT4W7VZSH1RZe/JWIxvecICeJWx/UDX8ZCRv7i8IyZNJ+92/fAXn98m/iYBEiABEiABEiCBfUKgZsSf1dHsRt/l61iYncNkXwvqT3fjXHcaU7NzWLiRRmdDC4YeaJWRx9JHbUi02+dnb2KoPYmmwUV79EQ62W1ob08h/eW0M71yY6IbieYLmJiaw8LsTYycaUSiby58yt/WHZw73o2pF6435O9eQuL0GJ6pQ96O/NZkLxINHRi6sYjlx4sqD4lU+NTD/NNFLHzai/rWAZW/VTsNJf6a25RAEg4zoxfQZI7I5BYxcqoRnYM3FSc535rswMSKa6P3m83plM7zdaTl+lH7Al98DueHNmd7lKzr3AAmpRy+vISm4x3o6e7F0A2LoXB3R60s7l1dFzAmjKdG0NWQhPzuG53Gwuw0Jt5v8UwnjOam4/Oml+hxxTxE2DS02PHPYWowhZ5UxJRF38ifOdrq+OG5Mcw4/Fsw8lhT9fnd1Bj6TJ46WMFPr884wR4MINE4jGU54CuTQBm/eoKR5iSa3h/DzOMnWFaMWzCkyyw7j6HmpMdHOlPdaC0k/nLrWJodQc/xNqQn5rCwYk1jViwaW9Bps3B8o1AdjGXxEkv9LW6dlfBnutHVakz79OXdSVPnDTH+bLOR+rG8toYlqT/NA1gq8BDG4c8vJEACJEACJEACJLAPCNSW+GvVokpGCOaQPm52uoGlwSRar9iiRXXgvcIM2Wn0N3RgQg3iWJ3sviljI49Xixhp7MC4KZTsY9Y1/hLP435fEl1frtsnrN/to9YoEeDryGfXsLpmpJebRv/xbkyqUUJ/3ABCRqeUEHl/2hCjedy/6NqwdaMbiYvmeUAd65sLnzL44iZ6fAIW63MY+2haCVjVwe+66RndzE4bAldxbvMwW7icxImPn7gZklErp+wsJv3TWqQDG593oL7HWFP3XEahLuG+Xl8WyS2kHJVNvZhRo4d2mWi/UFa9VMyKW/MHBMRf6whWjdFgOe/kV3g2XMJ9U0zoYzo/LpmQbz6fkY1p1uYxlkqiyWYaW8av8thaWcOWYeOzK21IDC6q9J6NdgR85NmVDtQXEn/qKrErZNqnj4Wk46xJ1fkulsXaGNr97FbG0H7cFX+x/hjjz1C+MYAFh00eW083kXd+hxQJD5EACZAACZAACZDAPiFQW+LPs0FHgc6ovRlKfvoS6lPXPaIFyGCmJ4lzkzJy4etkS4GujKH15AVMyAiW838T6dYkTLFilr0a6dN25ebQ32AKzpA0ci/x7LGMVI5h6HK3d9TOjFi+FxJ/vg1fRHxYAtQSgp2Ddwz75+wRREM4G+koTqbwMs4BtrC85psXp0Y8bXGlOtNeUeDaY0dmd7itzUSCTFSH3pOnYNnKzpLh3ILxWWWrbVrBeKv3IYFYpfKty82TZ8ASCPr6EPHnu86034o3rUYFXR+yRs08DxX8aTq/rfzojV70Z+fgnC3mii3jPPLPV7A0O43J4TT62vVGQdb1Vh1wErV8fzvir4wswn1Ryk+Lv3h/DI/DyKc98pc4M4DJqSd4VmjHV+MSfiUBEiABEiABEiCB/ULgwIq/rWvdqL88FygnGZWyhFKIaJARKnuN3dBgGub/xMMCO3a+mseQPZqohKBnlMybxsa1biQaGtF1MY2h0ZtYeHwd/b7RFI/BJYu/TUymkmjv8dpu5eOOPRXVkwIUp4vT4aOCsOJLz3qvsUZdbXFUAfEXzc3L2LJUjmnxtoihBu/IpAozW+xun6WJP8XzdK/Hd7QfmWs/fUSNn7782GLFFWtFlLFM6zyVRKK1F+nBEUxOLeL+cIc9ImddH3iY8fQLdJZZ/JXKItwX1zHRrsVfvD+Gx2Hgla/5TSzfsNYCNyWTSHRdxwZH/nyQ+JMESIAESIAESGA/Ejiw4g+Ph3FCr5FySs4eRXgoB3ydbDnkn27oXBf9ZfmjFrSPPlFTCd1Ouj+NJxhpbMHIIyMuNe1TixTjuP5asvjzTX3V8UR9ak5m59d459vyxy3ulEYdj4yQ6s1Hdl38xXELKUdVtpqrJRi85QKo6Ym+USudvZ2M/KmNWZwprk6MJXwJ5kdNs20cwJI9bdQzvTkk5uxkL+o9DyHs/Nqjq3K9M03Vvl6NmJVZ/JXMQj18sdc16nypOqLFHxDrjzH+rKL1+PoKxlr1bACdKD9JgARIgARIgARIYH8SOLji79UKxk8n0fW5Xn+Xx7PPZTOXYSyrzl+wkw1Ya8Ga+ufcHT7XvkBXshuTellfmB9Ih7O5BU2yXsmzrstMw9q1sH9KjyC+xOqVbiScEaqQiEX8yZoqd3mcZ/2ZvsIzzVLWSDV0Y2LNvuhVBgv9LTgxoDe60VfZnwFOL7H6acoVD/748muYMNaf+YWSxOqxRw7saNpnHDeTsc6bHNPiD1AbxjQPYEHvILr2BXqSSc+mMvpK9ekTtJIfvY5NTfH0iUZz2icCPIHs7ACaTqaxJEXyah33Bwcw/shY++lJPCQ/dpztet2iv0z8ZSybw5w2/GZzGv3Nbh7kwUiT6SNbc9ZIYaz4a8PY31xn3DELT76FjbVRjVNnVb7akGhwxZ9Mzfb4t98fA/y9/py/N4CE6Qtbc0g3GvH7beJvEiABEiABEiABEthHBA6u+JNC2pxTu3XWNzSqDmSidQD3neVrIZ1suSa7gslzbUgcb8SJk0nUJ9vQH6n85KI1TJxOql1B3a6xHPemkX00gk6ZZnayBScaGtFz7QukDZEiV3j+Xq1jsqsRsu5Lj1yZQkSH9YutrdlhO51GJI4ncaJzBMvmphv6Qv25OY10ayPCOQFOfEmJrxHt/dPuZiI+oSRR+u3ZmfgDorl5GVtZkmOu+BNRvzycslicbETiVBpLU7sz7VOlb/jdCVXeKYxpsafWhSbRNGzuKqQLQj7D8gPkHwzgREMvZuxdX50ykfz4y/jVOmZsH25qtvI7KYLeWFe5MXkBrQ3ii41IyMON2S8Kv+rBNk9Nv5WXz9trRGPFn1wXxcLMtv7+9A76Tkm9a7TryBwmfC95d/Ie5o8qzSh/1r7QiKZTlj93Di8aGyhpQ/hJAiRAAiRAAiRAAvuPQM2Ivx2hz2aQzXplWWx8uZfIbhUanYm9OiJAHvmtDPIlmhMRYYFTVjpZz0hkgaD6cCSnStmtjfF/liF92TlzV8rUb6v9W3ju6oYiMWUsPhyVvj29tyI7XZbIIv9TBtG+W4Q/RPmz7QsVyXsB9+BhEiABEiABEiABEig3AYq/chNlfCRAAiRAAiRAAiRAAiRAAiRQhQQo/qqwUGgSCZAACZAACZAACZAACZAACZSbAMVfuYkyPhLYRQIf/ulT8H9vGOxisTJqEiABEiABEiABEqgIAYq/imBmIiRAAiRAAiRAAiRAAiRAAiSwtwQo/vaWP1MnARIgARIgARIgARIgARIggYoQoPirCGYmQgIkQAIkQAIkQAIkQAIkQAJ7S4Dib2/5M3USIAESIAESIAESIAESIAESqAgBir+KYGYiJEACJEACJEACJEACJEACJLC3BCj+9pY/UycBEiABEiABEiABEiABEiCBihCg+KsIZiZCAiRAAiRAAiRAAiRAAiRAAntLgOJvb/kzdRIgARIgARIgARIgARIgARKoCAGKv4pgZiIkQAIkQAIkQAIkQAIkQAIksLcEKP72lj9TJwESIAESIAESIAESIAESIIGKEKD4qwhmJkICJEACJEACJEACJEACJEACe0uA4m9v+TN1EiABEiABEiABEiABEiABEqgIAYq/imBmIiRAAiRAAiRAAiRAAiRAAiSwtwQOrPj7Z/Yl1p7+iMWlv+O/7z/E1NezuPVfM/jPqbv8J4NYHxBfEZ8R3xEfEl8Sn9rrP/r1/qq/1epHe+3HTJ8ESIAESIAESGB3CBw48ffj+nM8ePgNpmfu429//w4//u8Gfvrpn/j555/xf//3f7tDmbHWHAHxFfEZ8R3xIfEl8SnxLfGxSv/RrytNvDzpVZsflSdXjIUESIAESIAESKBaCRwY8bex+Q81SvNwcQmb/3hRreVBu/Y5AfEt8TEZERSf2+0/+vVuE96b+CvtR3uTS6ZKAiRAAiRAAiRQaQIHQvw9+XYF/33vrxR9lfauA5yedN7F58T3duuPfr1bZKsn3kr4UfXklpaQAAmQAAmQAAnsNoGaFn+5f/1LTcOTKXmc0rnbrsT4/QTE58T3ZCqo+GK5/ujX5SK5P+LZLT/aH7mnlSRAAiRAAiRAAuUkULPiTzrIMvXu+//5oZy8GBcJlExAfFB8sRwCkH5dMv6auaCcflQzUJgREiABEiABEiCBkgjUrPiT0RYKv5J8gYF3kYD4ovjkTv/o1zsluL+vL5cf7W8KtJ4ESIAESIAESGC7BGpS/MlaKJluxz8SqCYC4pM7WQNIv66m0tw7W3bqR3tnOVMmARIgARIgARLYawI1J/7U7of3/so1fnvtWUw/QEDWbskmMNvZBZR+HcB5YA/sxI8OLDRmnARIgARIgARIQBGoOfEna6tkhzz+kUA1ElC7N95/WLJp9OuSkdX0Bdv1o5qGwsyRAAmQAAmQAAnEEqgp8ScvupZ3rPGPBKqZgPhoKS+Cp19Xc2nunW2l+tHeWcqUSYAESIAESIAEqoVATYk/2QyDo37V4lq0oxAB8dFSNn+hXxciebCPl+pHB5sWc08CJEACJEACJCAEakb8/TP7EtMz9ytXqtkM1h7dxYPvNpDJVS7ZHaf0Sw6ZFxlkssGYcpmMOpf7JXiu3EdyYkPEf1E2ZO049hN/G6T4qvhs3F+l/FqXfViZFFUWcRmR89nH+DD5Hjqvle/1K/Sj4vyomOJhGBIgARIgARIggdonUDPib+3pj5XZ4fOXH3C1/W0cev0NvOb8v4mjZ29jowKiKfP3u/j6L3fx4IdtKp57Zy2761ow4VkauYErxyRPCVxZ323Hn0e3w87k6H7vvhdvw4OzVvhjoxvxgasshOzYKD4b91cZv9Zl7/J3fbuM/jB/3qo3iXGUp8ToR8X6UZyf8TwJkAAJkAAJkMDBIFAz4m9x6e/48X/L06UsXPQbuJqos8TTm++gues8PuhqwZE6q9N8+Ow8tinJCifpO7NjwaPF3+tv4FDTV8g48WsBUMbOvhO3/8sPmDh/Hh+o/xSO/c7id/SUPnYeE6v+a4K/d8wiGGXFjoivis/G/VXKry3h/wbMMrDKZxgPXCeJMzf2/MajeSyXLT76UbF+FFswDEACJEACJEACJHAgCNSM+JPdEH/66Z+7Wmi5v6SskYu6FG6ZHdgfPsMxNZJlC6fMPD4WYfPJPNb+Po7u5NvonLQvyHyHW5+cRfN7byPZMYirj82IAPyyga8/OY/O5Nt499RZfDj+GBl7RHHtP86j+agllH6XSKn4navX53FlIIXk2++huWsYXxcavTPE32uv1+HYv2vBXED8FYo3M48rSrx9hTWbutgnguHD23acuce4qsKM45uCqlin+wYCo32/ZLA8OYzuU+/hSDKFD0fnPaOrAfH3w218qNIbxi09MlrIfrF59StLgP7HD8it3sbHHScV84/vaia7507iq+KzcX+V8GsgogxsA3OPxy1W//7YecCxfM0qb8VL+/z5r7CceYyrZ0+qMvv4LwZLzfuTefXQQfvLxHcb+HqgBe++N4xlO72Ne5/hw46TOPJeC7o/uesp93BmEXnYZT9y8rGaw9rkMDqTdh00sh5u886PFutHO0+JMZAACZAACZAACdQCgZoRf1Nfz+Lnn3/e1TJ5cN4a9TvyJ/8L5HNYm7emYy7LVMp1Wwy+exJJe1RLTU3MzqP7sCXefn34bfxGjRjW4diovQYqN48PjPNHfmulp0fotNhxpuQd+8yaPifi047rN0fewq+VEH0L3fdCFJcWf797C4flmroEriqhqDvPxshfZLzf4eO3JS/v4Yoy/wdcedfK22t6RPHxZfxObNF2hpaOTtcv/jK41fGWPUX1tzhss3jt8Fk8sNcrah5etgbPSPsBaBZ/aEGzPXprsX0LH8yHsAu1f3sHxVfFZ+P+KuHXxYg//PIYf1S++Q4+FvfXPn74PB4IKv379Xdw1H5AYbGsw7uf2PVF87b9QZdf8g8n7SnUZ/EAwNpown7I8lscOfymdc4o93Bme+dHTj6aWrzTwTWbcIPLcrRYPypLYoyEBEiABEiABEhg3xOoGfF3679mdvnF7m7nsvN2jDBwOsJ1ODbyHTLZHHI54Ju+30ONtmmxp8VgXQpf5wBndGXUHl355a69Ni6Bq/Yogu5ouuvcMrj6BxFdhtjToufosDMq53iq0QH/5prVWT2U+Axrv+j8afEXH+83/yb5eQOKR+YrNDvr+M7i61+AjdGEOh8Uy441KCg87p21OtK60/9LBl93WekdHrDEhMNi5C6u2NNx3am38fY74q8ugSvf5YBfMrhlp/Ha2XnTyLJ/lxd1i8/G/e2+X4sFuuxt8e6U4xswOeTunlVi/lDHOK6m5MFEnVX2EoXj879H91+s8ejMX6zwr72ewi2pMobviTvr8hNB//V6DrlsDngxjqSkr8vdEINHP4naKMbNg2cEuQJ+pPMh9WhZ8vniNrrthz4eW+IKexvni/WjbUTNS0iABEiABEiABGqQAMVf0YUq6/2sznHzNWeyZfjVTkfYGsmwAj3GH1WH8Pc4lnLXtlnTOOvwgdYauQ0s37uLq5+cxwcd79mjeFqQuR1mR/w5ousdNKspjxK3XkfnikbHUE8HPIdbHVYn/tjoXe+GL0XEm7udUuLu0Pl54K5sJFOH5iYZxfk9/vhY4hZe8t1JPeRLeKddC0uPcPTY7rI4VGeNkL727jDW9KY7RdjvFyPKOJUPr+gJMXrHh4rttFda/MmI9JG3jf8B7ZiS5QwmmmzW/hHdGJ9XPlCg/BxflhSutVgjfUdb7DWh5/FBKmGNIEduFLN3fqTFn5mPr7ustoLib8dVhRGQAAmQAAmQAAmUkUDNiL9KTI/TguR3fX41k8PavZBpn6+b4k/vTFiH3xwxOtd2R/tD6WN/N4yjzvRNWRPYgqNqFCZC/Dmd7jdx2Oy0q+/tmPCvO/J1wJG9a49S1OGQSttOq5h4tcB69zNcVaOAKdz6zpry+u7IuCV2687igRZkoY4b3mkP61D7xZoO40yDlZ1K9eBQMfb7WYh9+tguj/wVO12vEn5tjvzFiZXl9NuWOHv9DXjqgcPb9Hl3KrCKV7P1Tfs0RZMeLX7tzbe8IlT8uf2riF1C986PtB+a+dDH4niGVokSDhbrRyVEyaAkQAIkQAIkQAI1TOBXtZK3imyM8chewybTBI3dKHP3zuKwEmkncdVc8+cRf3rk8G18aGzymNnYcN6tp9cUnp60p5Ua0z716xd0p9LtaM7jAyXa2nHLeXdfDpn1Au/s83XApfxd+2W0QgvNYuLVHe63cFjWg6m1fvZawN/93hqt6bjtbBAS7ms6Du+aP2cE6P+516998o4lPOw4NYsj6cdY/pN97phMYZWUirA/hEWlxF+xG3VUxK+NaZ+RYkULvMMnkVTr+sLE9jv4WNcNPYXzdXsE2sdbl5/ry1Js9usgjHJHNoMNeSdk5As1986PwvKhj0XyDK8QJR0t1o9KipSBSYAESIAESIAEapZAzYi/ymyJn8ODs/YmJK/bI3hHfmtv8mBsNKI7yR7xB8g0SfV+wMMn8eH4XVwdOGmJRnvNnx5ZPJz6TL3L70qXfp+gFmSADnPonXZnt08tfA69cxZXJm/jStc7Vjoxa/7cQUEzX25axcS7/Cd3JEh34rWNMiIXO0W2kPAwRiSPdn2GKwP6lRpvOdNIdQdbpfvLd/jY3mjk6J+sNYGx9vvEiKrl+tguj/wVu0V/ZfzaFU6BaZ9v69FjPeXTWucnDwxkMx+9GZG75q8Oh46cRPf5s2g+Yk0RdcJothEjf3DKsQ5S7rcmP0P3O1Y821rzVwE/8vihfavQx3Zb/BXrRzV7B2PGSIAESIAESIAESiJQM+KvMi/DllcxZPDNaApH37TW9IjAOfTbBLon9XxDc/MLcwqcVS5r495rf300hat6pCQ7jz8etXc3fL0OR85/hg/9L15/cRfddqf6tbrzandEsenBQMLePVTsqsNvEoPh72fzdcAdb3F2GnXFX1Hx6h09X3/b2gVSItSbbDijiE4qIV9c4RHoKP/wFTodHm/gtTffwx+N1zDoDrYWnZCNbtQI7Fv44yOrrCK5hLHQx3ZZ/BX7cu7K+LVbBu4UWu3flj/ozV7cnVu9YtAVf2dx5Vq78+7LX783iG/0iLRmGyX+xEMy8/gwoR+qyI60v8WxgXnnlSchTuTZtKbSfhTwQ2Mzm4At4cZv+2ixfrTtBHghCZAACZAACZBATRH4Va3k5p/Zl5ieuV/Z7GQzyOiObYkp52QaW6FrsxnkItfJAZCdEf1/v+TUyiBwhgAABf1JREFUFNLI2XH+a4r5vVvxFpO2hBHOO8nUXtsfkk/xVfHZuL898es4o8LO+0e7hXkh/w67PuxYrsDU5bCwxRw7wH5UDB6GIQESIAESIAESqH0CNSP+pKgePPwGm/+QRXf8I4HqJSA+Kr5a7N++8Gu/+Cs2cwy3bQKl+tG2E+KFJEACJEACJEACNUOgpsTfj+vP8XBxqWYKhxmpTQLio+Krxf7tC7/e+Aqn1Q6zg9ZU5GIzx3DbJlCqH207IV5IAiRAAiRAAiRQMwRqSvxJqcjuiBz9qxn/rLmMiG+Kj5b6R78ulVhth9+uH9U2FeaOBEiABEiABEggjkDNib+NzX/gv+/9FfISbf6RQDUREJ8U3xQfLfWPfl0qsdoNvxM/ql0qzBkJkAAJkAAJkEAxBGpO/Emmn3y7AtkFj38kUE0ExCfFN7f7R7/eLrnaum6nflRbNJgbEiABEiABEiCBUgjUpPgTALJJxvf/Y7x+oRQqDEsCZSYgvljKJi+FkqdfFyJzMI6Xy48OBi3mkgRIgARIgARIwE+gZsVf7l//UmurKAD9Rc7flSYgPihr9sQnd/pHv94pwf17fTn9aP9SoOUkQAIkQAIkQAI7IVCz4k+gSEdZRkpkmhTXAO7ETXjtdgiIz4nviQ+WQ/hpG+jXmsTB+NwtPzoY9JhLEiABEiABEiABk0BNiz+dUVkrJRttcBdQTYSfu01A7cZ47687WuMXZyP9Oo7Q/j9fCT/a/5SYAxIgARIgARIggWIJHAjxJzDUbon3H6r3AFIEFuseDFcqAfEtef+aTPPczq6epaZHvy6V2P4IX2k/2h9UaCUJkAAJkAAJkMBOCRwY8adByQuzZRre9Mx9NSXvx//dwE8//RM///wzp4ZqSPyMJSBT8cRnxHfEh2R6p/iU+FYpL3CPTajIAPTrIkFVWbBq86Mqw0NzSIAESIAESIAEykzgwIk/ze+f2ZdYe/ojFpf+rkZppr6exa3/msF/Tt3lPxnE+oD4iviMjPCJD4kviU/t9R/9en/V32r1o732Y6ZPAiRAAiRAAiSwOwQOrPjbHZyMlQRIgARIgARIgARIgARIgASqkwDFX3WWC60iARIgARIgARIgARIgARIggbISoPgrK05GRgIkQAIkQAIkQAIkQAIkQALVSYDirzrLhVaRAAmQAAmQAAmQAAmQAAmQQFkJUPyVFScjIwESIAESIAESIAESIAESIIHqJEDxV53lQqtIgARIgARIgARIgARIgARIoKwEKP7KipORkQAJkAAJkAAJkAAJkAAJkEB1EqD4q85yoVUkQAIkQAIkQAIkQAIkQAIkUFYCFH9lxcnISIAESIAESIAESIAESIAESKA6CVD8VWe50CoSIAESIAESIAESIAESIAESKCsBir+y4mRkJEACJEACJEACJEACJEACJFCdBCj+qrNcaBUJkAAJkAAJkAAJkAAJkAAJlJUAxV9ZcTIyEiABEiABEiABEiABEiABEqhOAhR/1VkutIoESIAESIAESIAESIAESIAEykqA4q+sOBkZCZAACZAACZAACZAACZAACVQnAYq/6iwXWkUCJEACJEACJEACJEACJEACZSVA8VdWnIyMBEiABEiABEiABEiABEiABKqTAMVfdZYLrSIBEiABEiABEiABEiABEiCBshKg+CsrTkZGAiRAAiRAAiRAAiRAAiRAAtVJgOKvOsuFVpEACZAACZAACZAACZAACZBAWQlQ/JUVJyMjARIgARIgARIgARIgARIggeokQPFXneVCq0iABEiABEiABEiABEiABEigrAQo/sqKk5GRAAmQAAmQAAmQAAmQAAmQQHUSoPirznKhVSRAAiRAAiRAAiRAAiRAAiRQVgIUf2XFychIgARIgARIgARIgARIgARIoDoJUPxVZ7nQKhIgARIgARIgARIgARIgARIoKwGKv7LiZGQkQAIkQAIkQAIkQAIkQAIkUJ0EKP6qs1xoFQmQAAmQAAmQAAmQAAmQAAmUlQDFX1lxMjISIAESIAESIAESIAESIAESqE4C/x++nENObyE4tgAAAABJRU5ErkJggg==)"
      ]
    },
    {
      "cell_type": "code",
      "execution_count": 4,
      "metadata": {
        "colab": {
          "base_uri": "https://localhost:8080/"
        },
        "id": "gSJywWgIJWnu",
        "outputId": "f2c50cb0-6942-46e7-e23c-f1dd1d68a643"
      },
      "outputs": [
        {
          "output_type": "stream",
          "name": "stdout",
          "text": [
            "--2024-03-17 10:56:35--  https://raw.githubusercontent.com/aaronmed/7ro/master/kaggle.json\n",
            "Resolving raw.githubusercontent.com (raw.githubusercontent.com)... 185.199.110.133, 185.199.111.133, 185.199.109.133, ...\n",
            "Connecting to raw.githubusercontent.com (raw.githubusercontent.com)|185.199.110.133|:443... connected.\n",
            "HTTP request sent, awaiting response... 200 OK\n",
            "Length: 66 [text/plain]\n",
            "Saving to: ‘kaggle.json’\n",
            "\n",
            "\rkaggle.json           0%[                    ]       0  --.-KB/s               \rkaggle.json         100%[===================>]      66  --.-KB/s    in 0s      \n",
            "\n",
            "2024-03-17 10:56:35 (2.63 MB/s) - ‘kaggle.json’ saved [66/66]\n",
            "\n"
          ]
        }
      ],
      "source": [
        "!wget 'https://raw.githubusercontent.com/aaronmed/7ro/master/kaggle.json'"
      ]
    },
    {
      "cell_type": "code",
      "execution_count": 5,
      "metadata": {
        "colab": {
          "base_uri": "https://localhost:8080/"
        },
        "id": "h5au4hcSJoFk",
        "outputId": "4fd2d2e6-2077-47df-cd8e-6075faeb1d77"
      },
      "outputs": [
        {
          "output_type": "stream",
          "name": "stdout",
          "text": [
            "Warning: Looks like you're using an outdated API Version, please consider updating (server 1.6.7 / client 1.5.16)\n",
            "ref                                                           title                                               size  lastUpdated          downloadCount  voteCount  usabilityRating  \n",
            "------------------------------------------------------------  -------------------------------------------------  -----  -------------------  -------------  ---------  ---------------  \n",
            "syedanwarafridi/vehicle-sales-data                            Vehicle Sales Data                                  19MB  2024-02-21 20:16:17          14520        264  1.0              \n",
            "sudarshan24byte/online-food-dataset                           Online Food Dataset                                  3KB  2024-03-02 18:50:30           4383         75  0.9411765        \n",
            "arnavvvvv/spotify-music                                       Top Spotify Songs                                   47KB  2024-03-06 05:20:29           4037         59  1.0              \n",
            "tarunrm09/climate-change-indicators                           Climate change Indicators                           34KB  2024-02-22 08:53:54           7465        151  1.0              \n",
            "ravalsmit/customer-segmentation-data                          Customer Segmentation Data                           2MB  2024-03-11 18:58:59           2002         22  0.7647059        \n",
            "bhavikjikadara/student-study-performance                      Student Study Performance                            9KB  2024-03-07 06:14:09           2948         55  1.0              \n",
            "saurabhbadole/housing-price-data                              Housing Price Data                                   5KB  2024-03-13 05:07:54           1397         28  0.88235295       \n",
            "kanchana1990/spotify-oldies-dataset                           Spotify Oldies Dataset🎶                             18KB  2024-03-08 12:04:42            519         25  1.0              \n",
            "nbroad/gemma-rewrite-nbroad                                   gemma-rewrite-nbroad                                 8MB  2024-03-03 04:52:39            697         65  1.0              \n",
            "michellevp/samsung-electronics-stock-price-2000-2024          Samsung Electronics Stock Price (2000 - 2024)      112KB  2024-02-29 13:46:34           1181         28  1.0              \n",
            "mahad049/college-placement                                    college placement                                   706B  2024-03-04 04:20:09           1157         28  0.9411765        \n",
            "kanchana1990/spotify-datapopular-hip-hop-artists-and-tracks   Spotify Data:Popular Hip-Hop  Artists and Tracks🎶   16KB  2024-03-08 09:33:34           1418         45  1.0              \n",
            "arnavvvvv/netflix-movies-and-tv-shows                         Netflix Movies and TV Shows                          1MB  2024-03-04 15:49:29           3091         55  1.0              \n",
            "l3llff/banana                                                 🍌 | Banana Quality                                 271KB  2024-03-03 12:20:13           2602         46  1.0              \n",
            "arnavvvvv/animated-tv-shows-with-imdb-and-google-user-rating  Animated Movies and TV Shows                        50KB  2024-03-09 18:33:05           1028         36  1.0              \n",
            "mikhail1681/walmart-sales                                     Walmart Sales                                      122KB  2024-02-13 17:35:56           8130        109  1.0              \n",
            "bhavikjikadara/brand-laptops-dataset                          Brand Laptops Dataset                               28KB  2024-03-09 14:57:09           1555         30  1.0              \n",
            "sumanthnimmagadda/student-spending-dataset                    Student spending habits dataset.                    29KB  2024-03-05 15:01:06           2310         34  0.9411765        \n",
            "willianoliveiragibin/global-labor                             Global labor                                       283KB  2024-03-13 21:08:26            784         23  1.0              \n",
            "mexwell/busiest-airports-of-europe                            🛃 Busiest Airports of Europe                        24KB  2024-03-06 13:17:11           1041         22  1.0              \n"
          ]
        }
      ],
      "source": [
        "! mkdir ~/.kaggle\n",
        "! cp kaggle.json ~/.kaggle/\n",
        "! chmod 600 ~/.kaggle/kaggle.json\n",
        "! kaggle datasets list"
      ]
    },
    {
      "cell_type": "markdown",
      "metadata": {
        "id": "F5v-NlatiKPv"
      },
      "source": [
        "## Descargar el dataset desde Kaggle"
      ]
    },
    {
      "cell_type": "code",
      "execution_count": 6,
      "metadata": {
        "colab": {
          "base_uri": "https://localhost:8080/"
        },
        "id": "wUO4JB9qJ6fM",
        "outputId": "117a15ed-b74b-46f9-b8de-149b20bceb4f"
      },
      "outputs": [
        {
          "output_type": "stream",
          "name": "stdout",
          "text": [
            "Downloading chessman-image-dataset.zip to /content\n",
            " 87% 50.0M/57.6M [00:00<00:00, 84.9MB/s]\n",
            "100% 57.6M/57.6M [00:00<00:00, 81.8MB/s]\n"
          ]
        }
      ],
      "source": [
        "! kaggle datasets download -d 'niteshfre/chessman-image-dataset'"
      ]
    },
    {
      "cell_type": "code",
      "execution_count": 7,
      "metadata": {
        "colab": {
          "base_uri": "https://localhost:8080/"
        },
        "id": "Bncuy-uCKNfG",
        "outputId": "5088c59f-9c48-482c-d2ea-9661720ade8a"
      },
      "outputs": [
        {
          "output_type": "stream",
          "name": "stdout",
          "text": [
            "Archive:  /content/chessman-image-dataset.zip\n",
            "  inflating: Chessman-image-dataset/Chess/Bishop/00000000.JPG  \n",
            "  inflating: Chessman-image-dataset/Chess/Bishop/00000001.jpg  \n",
            "  inflating: Chessman-image-dataset/Chess/Bishop/00000002.JPG  \n",
            "  inflating: Chessman-image-dataset/Chess/Bishop/00000003.png  \n",
            "  inflating: Chessman-image-dataset/Chess/Bishop/00000004.jpg  \n",
            "  inflating: Chessman-image-dataset/Chess/Bishop/00000006.jpg  \n",
            "  inflating: Chessman-image-dataset/Chess/Bishop/00000007.jpg  \n",
            "  inflating: Chessman-image-dataset/Chess/Bishop/00000008.jpg  \n",
            "  inflating: Chessman-image-dataset/Chess/Bishop/00000009.png  \n",
            "  inflating: Chessman-image-dataset/Chess/Bishop/00000010.jpg  \n",
            "  inflating: Chessman-image-dataset/Chess/Bishop/00000011.jpg  \n",
            "  inflating: Chessman-image-dataset/Chess/Bishop/00000012.jpg  \n",
            "  inflating: Chessman-image-dataset/Chess/Bishop/00000013.jpg  \n",
            "  inflating: Chessman-image-dataset/Chess/Bishop/00000015.png  \n",
            "  inflating: Chessman-image-dataset/Chess/Bishop/00000016.jpg  \n",
            "  inflating: Chessman-image-dataset/Chess/Bishop/00000017.jpg  \n",
            "  inflating: Chessman-image-dataset/Chess/Bishop/00000018.jpg  \n",
            "  inflating: Chessman-image-dataset/Chess/Bishop/00000019.jpg  \n",
            "  inflating: Chessman-image-dataset/Chess/Bishop/00000020.jpg  \n",
            "  inflating: Chessman-image-dataset/Chess/Bishop/00000024.jpg  \n",
            "  inflating: Chessman-image-dataset/Chess/Bishop/00000025.jpg  \n",
            "  inflating: Chessman-image-dataset/Chess/Bishop/00000026.jpg  \n",
            "  inflating: Chessman-image-dataset/Chess/Bishop/00000028.jpg  \n",
            "  inflating: Chessman-image-dataset/Chess/Bishop/00000031.jpg  \n",
            "  inflating: Chessman-image-dataset/Chess/Bishop/00000034.jpg  \n",
            "  inflating: Chessman-image-dataset/Chess/Bishop/00000037.jpg  \n",
            "  inflating: Chessman-image-dataset/Chess/Bishop/00000039.jpg  \n",
            "  inflating: Chessman-image-dataset/Chess/Bishop/00000042.jpg  \n",
            "  inflating: Chessman-image-dataset/Chess/Bishop/00000044.png  \n",
            "  inflating: Chessman-image-dataset/Chess/Bishop/00000049.jpg  \n",
            "  inflating: Chessman-image-dataset/Chess/Bishop/00000054.jpeg  \n",
            "  inflating: Chessman-image-dataset/Chess/Bishop/00000061.jpg  \n",
            "  inflating: Chessman-image-dataset/Chess/Bishop/00000062.jpg  \n",
            "  inflating: Chessman-image-dataset/Chess/Bishop/00000066.jpg  \n",
            "  inflating: Chessman-image-dataset/Chess/Bishop/00000068.png  \n",
            "  inflating: Chessman-image-dataset/Chess/Bishop/00000070.jpg  \n",
            "  inflating: Chessman-image-dataset/Chess/Bishop/00000071.png  \n",
            "  inflating: Chessman-image-dataset/Chess/Bishop/00000074.jpg  \n",
            "  inflating: Chessman-image-dataset/Chess/Bishop/00000075.jpg  \n",
            "  inflating: Chessman-image-dataset/Chess/Bishop/00000078.jpg  \n",
            "  inflating: Chessman-image-dataset/Chess/Bishop/00000079.jpg  \n",
            "  inflating: Chessman-image-dataset/Chess/Bishop/00000081.jpg  \n",
            "  inflating: Chessman-image-dataset/Chess/Bishop/00000082.jpg  \n",
            "  inflating: Chessman-image-dataset/Chess/Bishop/00000086.png  \n",
            "  inflating: Chessman-image-dataset/Chess/Bishop/00000088.jpg  \n",
            "  inflating: Chessman-image-dataset/Chess/Bishop/00000089.jpg  \n",
            "  inflating: Chessman-image-dataset/Chess/Bishop/00000092.jpg  \n",
            "  inflating: Chessman-image-dataset/Chess/Bishop/00000094.jpg  \n",
            "  inflating: Chessman-image-dataset/Chess/Bishop/00000095.gif  \n",
            "  inflating: Chessman-image-dataset/Chess/Bishop/00000102.jpg  \n",
            "  inflating: Chessman-image-dataset/Chess/Bishop/00000103.jpg  \n",
            "  inflating: Chessman-image-dataset/Chess/Bishop/00000109.jpg  \n",
            "  inflating: Chessman-image-dataset/Chess/Bishop/00000110.jpg  \n",
            "  inflating: Chessman-image-dataset/Chess/Bishop/00000112.jpg  \n",
            "  inflating: Chessman-image-dataset/Chess/Bishop/00000113.png  \n",
            "  inflating: Chessman-image-dataset/Chess/Bishop/00000114.jpg  \n",
            "  inflating: Chessman-image-dataset/Chess/Bishop/00000115.jpg  \n",
            "  inflating: Chessman-image-dataset/Chess/Bishop/00000117.jpg  \n",
            "  inflating: Chessman-image-dataset/Chess/Bishop/00000120.jpg  \n",
            "  inflating: Chessman-image-dataset/Chess/Bishop/00000121.jpg  \n",
            "  inflating: Chessman-image-dataset/Chess/Bishop/00000126.jpg  \n",
            "  inflating: Chessman-image-dataset/Chess/Bishop/00000127.jpg  \n",
            "  inflating: Chessman-image-dataset/Chess/Bishop/00000129.jpg  \n",
            "  inflating: Chessman-image-dataset/Chess/Bishop/00000130.png  \n",
            "  inflating: Chessman-image-dataset/Chess/Bishop/00000136.png  \n",
            "  inflating: Chessman-image-dataset/Chess/Bishop/00000138.jpg  \n",
            "  inflating: Chessman-image-dataset/Chess/Bishop/00000145.jpg  \n",
            "  inflating: Chessman-image-dataset/Chess/Bishop/00000149.jpg  \n",
            "  inflating: Chessman-image-dataset/Chess/Bishop/00000150.png  \n",
            "  inflating: Chessman-image-dataset/Chess/Bishop/00000151.png  \n",
            "  inflating: Chessman-image-dataset/Chess/Bishop/00000158.jpg  \n",
            "  inflating: Chessman-image-dataset/Chess/Bishop/00000167.jpg  \n",
            "  inflating: Chessman-image-dataset/Chess/Bishop/00000168.jpg  \n",
            "  inflating: Chessman-image-dataset/Chess/Bishop/00000169.jpg  \n",
            "  inflating: Chessman-image-dataset/Chess/Bishop/00000174.jpg  \n",
            "  inflating: Chessman-image-dataset/Chess/Bishop/00000175.jpg  \n",
            "  inflating: Chessman-image-dataset/Chess/Bishop/00000177.jpg  \n",
            "  inflating: Chessman-image-dataset/Chess/Bishop/00000178.jpg  \n",
            "  inflating: Chessman-image-dataset/Chess/Bishop/00000182.jpg  \n",
            "  inflating: Chessman-image-dataset/Chess/Bishop/00000186.jpg  \n",
            "  inflating: Chessman-image-dataset/Chess/Bishop/00000188.jpg  \n",
            "  inflating: Chessman-image-dataset/Chess/Bishop/00000189.jpg  \n",
            "  inflating: Chessman-image-dataset/Chess/Bishop/00000192.jpg  \n",
            "  inflating: Chessman-image-dataset/Chess/Bishop/00000193.jpg  \n",
            "  inflating: Chessman-image-dataset/Chess/Bishop/00000194.jpg  \n",
            "  inflating: Chessman-image-dataset/Chess/Bishop/00000195.jpg  \n",
            "  inflating: Chessman-image-dataset/Chess/Bishop/00000199.jpg  \n",
            "  inflating: Chessman-image-dataset/Chess/King/00000000.jpg  \n",
            "  inflating: Chessman-image-dataset/Chess/King/00000003.jpg  \n",
            "  inflating: Chessman-image-dataset/Chess/King/00000004.jpg  \n",
            "  inflating: Chessman-image-dataset/Chess/King/00000005.jpg  \n",
            "  inflating: Chessman-image-dataset/Chess/King/00000006.JPG  \n",
            "  inflating: Chessman-image-dataset/Chess/King/00000007.jpg  \n",
            "  inflating: Chessman-image-dataset/Chess/King/00000008.png  \n",
            "  inflating: Chessman-image-dataset/Chess/King/00000012.jpg  \n",
            "  inflating: Chessman-image-dataset/Chess/King/00000013.png  \n",
            "  inflating: Chessman-image-dataset/Chess/King/00000014.jpg  \n",
            "  inflating: Chessman-image-dataset/Chess/King/00000015.jpg  \n",
            "  inflating: Chessman-image-dataset/Chess/King/00000019.jpg  \n",
            "  inflating: Chessman-image-dataset/Chess/King/00000021.jpg  \n",
            "  inflating: Chessman-image-dataset/Chess/King/00000022.jpg  \n",
            "  inflating: Chessman-image-dataset/Chess/King/00000023.png  \n",
            "  inflating: Chessman-image-dataset/Chess/King/00000025.jpg  \n",
            "  inflating: Chessman-image-dataset/Chess/King/00000027.png  \n",
            "  inflating: Chessman-image-dataset/Chess/King/00000030.jpg  \n",
            "  inflating: Chessman-image-dataset/Chess/King/00000031.jpg  \n",
            "  inflating: Chessman-image-dataset/Chess/King/00000032.jpg  \n",
            "  inflating: Chessman-image-dataset/Chess/King/00000035.png  \n",
            "  inflating: Chessman-image-dataset/Chess/King/00000036.jpg  \n",
            "  inflating: Chessman-image-dataset/Chess/King/00000037.jpg  \n",
            "  inflating: Chessman-image-dataset/Chess/King/00000042.jpg  \n",
            "  inflating: Chessman-image-dataset/Chess/King/00000043.jpg  \n",
            "  inflating: Chessman-image-dataset/Chess/King/00000044.jpg  \n",
            "  inflating: Chessman-image-dataset/Chess/King/00000045.jpg  \n",
            "  inflating: Chessman-image-dataset/Chess/King/00000049.png  \n",
            "  inflating: Chessman-image-dataset/Chess/King/00000051.png  \n",
            "  inflating: Chessman-image-dataset/Chess/King/00000054.jpg  \n",
            "  inflating: Chessman-image-dataset/Chess/King/00000056.jpg  \n",
            "  inflating: Chessman-image-dataset/Chess/King/00000058.jpg  \n",
            "  inflating: Chessman-image-dataset/Chess/King/00000060.jpg  \n",
            "  inflating: Chessman-image-dataset/Chess/King/00000061.jpg  \n",
            "  inflating: Chessman-image-dataset/Chess/King/00000062.jpg  \n",
            "  inflating: Chessman-image-dataset/Chess/King/00000063.jpeg  \n",
            "  inflating: Chessman-image-dataset/Chess/King/00000065.jpg  \n",
            "  inflating: Chessman-image-dataset/Chess/King/00000069.jpg  \n",
            "  inflating: Chessman-image-dataset/Chess/King/00000071.jpg  \n",
            "  inflating: Chessman-image-dataset/Chess/King/00000072.jpg  \n",
            "  inflating: Chessman-image-dataset/Chess/King/00000075.jpg  \n",
            "  inflating: Chessman-image-dataset/Chess/King/00000084.jpg  \n",
            "  inflating: Chessman-image-dataset/Chess/King/00000086.jpg  \n",
            "  inflating: Chessman-image-dataset/Chess/King/00000087.jpg  \n",
            "  inflating: Chessman-image-dataset/Chess/King/00000088.jpg  \n",
            "  inflating: Chessman-image-dataset/Chess/King/00000094.jpg  \n",
            "  inflating: Chessman-image-dataset/Chess/King/00000096.jpg  \n",
            "  inflating: Chessman-image-dataset/Chess/King/00000097.jpg  \n",
            "  inflating: Chessman-image-dataset/Chess/King/00000102.jpg  \n",
            "  inflating: Chessman-image-dataset/Chess/King/00000104.png  \n",
            "  inflating: Chessman-image-dataset/Chess/King/00000106.jpg  \n",
            "  inflating: Chessman-image-dataset/Chess/King/00000108.jpg  \n",
            "  inflating: Chessman-image-dataset/Chess/King/00000113.png  \n",
            "  inflating: Chessman-image-dataset/Chess/King/00000121.jpg  \n",
            "  inflating: Chessman-image-dataset/Chess/King/00000124.jpg  \n",
            "  inflating: Chessman-image-dataset/Chess/King/00000126.jpg  \n",
            "  inflating: Chessman-image-dataset/Chess/King/00000127.jpg  \n",
            "  inflating: Chessman-image-dataset/Chess/King/00000128.jpg  \n",
            "  inflating: Chessman-image-dataset/Chess/King/00000134.jpg  \n",
            "  inflating: Chessman-image-dataset/Chess/King/00000137.jpg  \n",
            "  inflating: Chessman-image-dataset/Chess/King/00000139.fcgi  \n",
            "  inflating: Chessman-image-dataset/Chess/King/00000142.jpg  \n",
            "  inflating: Chessman-image-dataset/Chess/King/00000144.jpg  \n",
            "  inflating: Chessman-image-dataset/Chess/King/00000145.png  \n",
            "  inflating: Chessman-image-dataset/Chess/King/00000146.jpg  \n",
            "  inflating: Chessman-image-dataset/Chess/King/00000148.png  \n",
            "  inflating: Chessman-image-dataset/Chess/King/00000150.png  \n",
            "  inflating: Chessman-image-dataset/Chess/King/00000166.png  \n",
            "  inflating: Chessman-image-dataset/Chess/King/00000167.jpg  \n",
            "  inflating: Chessman-image-dataset/Chess/King/00000172.jpg  \n",
            "  inflating: Chessman-image-dataset/Chess/King/00000173.jpg  \n",
            "  inflating: Chessman-image-dataset/Chess/King/00000175.jpg  \n",
            "  inflating: Chessman-image-dataset/Chess/King/00000192.jpg  \n",
            "  inflating: Chessman-image-dataset/Chess/King/00000194.jpg  \n",
            "  inflating: Chessman-image-dataset/Chess/King/00000197.jpg  \n",
            "  inflating: Chessman-image-dataset/Chess/King/00000199.jpg  \n",
            "  inflating: Chessman-image-dataset/Chess/Knight/00000000.jpg  \n",
            "  inflating: Chessman-image-dataset/Chess/Knight/00000001.jpg  \n",
            "  inflating: Chessman-image-dataset/Chess/Knight/00000002.jpg  \n",
            "  inflating: Chessman-image-dataset/Chess/Knight/00000005.png  \n",
            "  inflating: Chessman-image-dataset/Chess/Knight/00000006.jpg  \n",
            "  inflating: Chessman-image-dataset/Chess/Knight/00000008.jpg  \n",
            "  inflating: Chessman-image-dataset/Chess/Knight/00000009.jpg  \n",
            "  inflating: Chessman-image-dataset/Chess/Knight/00000010.JPG  \n",
            "  inflating: Chessman-image-dataset/Chess/Knight/00000012.jpg  \n",
            "  inflating: Chessman-image-dataset/Chess/Knight/00000013.jpg  \n",
            "  inflating: Chessman-image-dataset/Chess/Knight/00000017.jpg  \n",
            "  inflating: Chessman-image-dataset/Chess/Knight/00000018.jpg  \n",
            "  inflating: Chessman-image-dataset/Chess/Knight/00000019.jpg  \n",
            "  inflating: Chessman-image-dataset/Chess/Knight/00000021.jpg  \n",
            "  inflating: Chessman-image-dataset/Chess/Knight/00000022.jpg  \n",
            "  inflating: Chessman-image-dataset/Chess/Knight/00000023.jpg  \n",
            "  inflating: Chessman-image-dataset/Chess/Knight/00000024.jpg  \n",
            "  inflating: Chessman-image-dataset/Chess/Knight/00000026.jpg  \n",
            "  inflating: Chessman-image-dataset/Chess/Knight/00000028.jpg  \n",
            "  inflating: Chessman-image-dataset/Chess/Knight/00000029.jpg  \n",
            "  inflating: Chessman-image-dataset/Chess/Knight/00000030.jpg  \n",
            "  inflating: Chessman-image-dataset/Chess/Knight/00000031.png  \n",
            "  inflating: Chessman-image-dataset/Chess/Knight/00000032.jpg  \n",
            "  inflating: Chessman-image-dataset/Chess/Knight/00000034.JPG  \n",
            "  inflating: Chessman-image-dataset/Chess/Knight/00000036.jpg  \n",
            "  inflating: Chessman-image-dataset/Chess/Knight/00000037.jpg  \n",
            "  inflating: Chessman-image-dataset/Chess/Knight/00000038.jpg  \n",
            "  inflating: Chessman-image-dataset/Chess/Knight/00000039.jpg  \n",
            "  inflating: Chessman-image-dataset/Chess/Knight/00000040.png  \n",
            "  inflating: Chessman-image-dataset/Chess/Knight/00000041.jpg  \n",
            "  inflating: Chessman-image-dataset/Chess/Knight/00000043.jpg  \n",
            "  inflating: Chessman-image-dataset/Chess/Knight/00000046.jpg  \n",
            "  inflating: Chessman-image-dataset/Chess/Knight/00000047.jpg  \n",
            "  inflating: Chessman-image-dataset/Chess/Knight/00000048.jpg  \n",
            "  inflating: Chessman-image-dataset/Chess/Knight/00000049.jpg  \n",
            "  inflating: Chessman-image-dataset/Chess/Knight/00000050.jpg  \n",
            "  inflating: Chessman-image-dataset/Chess/Knight/00000055.jpg  \n",
            "  inflating: Chessman-image-dataset/Chess/Knight/00000058.png  \n",
            "  inflating: Chessman-image-dataset/Chess/Knight/00000059.jpg  \n",
            "  inflating: Chessman-image-dataset/Chess/Knight/00000060.jpg  \n",
            "  inflating: Chessman-image-dataset/Chess/Knight/00000064.jpg  \n",
            "  inflating: Chessman-image-dataset/Chess/Knight/00000065.jpg  \n",
            "  inflating: Chessman-image-dataset/Chess/Knight/00000066.jpg  \n",
            "  inflating: Chessman-image-dataset/Chess/Knight/00000067.jpg  \n",
            "  inflating: Chessman-image-dataset/Chess/Knight/00000068.jpg  \n",
            "  inflating: Chessman-image-dataset/Chess/Knight/00000071.jpg  \n",
            "  inflating: Chessman-image-dataset/Chess/Knight/00000074.jpg  \n",
            "  inflating: Chessman-image-dataset/Chess/Knight/00000075.jpg  \n",
            "  inflating: Chessman-image-dataset/Chess/Knight/00000076.jpg  \n",
            "  inflating: Chessman-image-dataset/Chess/Knight/00000078.jpg  \n",
            "  inflating: Chessman-image-dataset/Chess/Knight/00000079.jpg  \n",
            "  inflating: Chessman-image-dataset/Chess/Knight/00000081.jpg  \n",
            "  inflating: Chessman-image-dataset/Chess/Knight/00000085.png  \n",
            "  inflating: Chessman-image-dataset/Chess/Knight/00000086.jpg  \n",
            "  inflating: Chessman-image-dataset/Chess/Knight/00000088.jpg  \n",
            "  inflating: Chessman-image-dataset/Chess/Knight/00000089.jpg  \n",
            "  inflating: Chessman-image-dataset/Chess/Knight/00000090.jpg  \n",
            "  inflating: Chessman-image-dataset/Chess/Knight/00000092.jpg  \n",
            "  inflating: Chessman-image-dataset/Chess/Knight/00000094.jpg  \n",
            "  inflating: Chessman-image-dataset/Chess/Knight/00000095.jpg  \n",
            "  inflating: Chessman-image-dataset/Chess/Knight/00000097.jpg  \n",
            "  inflating: Chessman-image-dataset/Chess/Knight/00000098.jpg  \n",
            "  inflating: Chessman-image-dataset/Chess/Knight/00000099.jpg  \n",
            "  inflating: Chessman-image-dataset/Chess/Knight/00000100.jpg  \n",
            "  inflating: Chessman-image-dataset/Chess/Knight/00000101.jpg  \n",
            "  inflating: Chessman-image-dataset/Chess/Knight/00000106.jpg  \n",
            "  inflating: Chessman-image-dataset/Chess/Knight/00000109.jpg  \n",
            "  inflating: Chessman-image-dataset/Chess/Knight/00000112.jpg  \n",
            "  inflating: Chessman-image-dataset/Chess/Knight/00000113.jpg  \n",
            "  inflating: Chessman-image-dataset/Chess/Knight/00000114.jpg  \n",
            "  inflating: Chessman-image-dataset/Chess/Knight/00000116.png  \n",
            "  inflating: Chessman-image-dataset/Chess/Knight/00000118.jpg  \n",
            "  inflating: Chessman-image-dataset/Chess/Knight/00000120.jpg  \n",
            "  inflating: Chessman-image-dataset/Chess/Knight/00000122.jpg  \n",
            "  inflating: Chessman-image-dataset/Chess/Knight/00000123.jpg  \n",
            "  inflating: Chessman-image-dataset/Chess/Knight/00000125.jpg  \n",
            "  inflating: Chessman-image-dataset/Chess/Knight/00000126.png  \n",
            "  inflating: Chessman-image-dataset/Chess/Knight/00000128.jpg  \n",
            "  inflating: Chessman-image-dataset/Chess/Knight/00000133.jpg  \n",
            "  inflating: Chessman-image-dataset/Chess/Knight/00000134.jpg  \n",
            "  inflating: Chessman-image-dataset/Chess/Knight/00000137.jpg  \n",
            "  inflating: Chessman-image-dataset/Chess/Knight/00000141.jpg  \n",
            "  inflating: Chessman-image-dataset/Chess/Knight/00000142.jpg  \n",
            "  inflating: Chessman-image-dataset/Chess/Knight/00000145.jpg  \n",
            "  inflating: Chessman-image-dataset/Chess/Knight/00000146.jpg  \n",
            "  inflating: Chessman-image-dataset/Chess/Knight/00000149.jpg  \n",
            "  inflating: Chessman-image-dataset/Chess/Knight/00000154.jpg  \n",
            "  inflating: Chessman-image-dataset/Chess/Knight/00000155.jpg  \n",
            "  inflating: Chessman-image-dataset/Chess/Knight/00000160.webp  \n",
            "  inflating: Chessman-image-dataset/Chess/Knight/00000162.jpg  \n",
            "  inflating: Chessman-image-dataset/Chess/Knight/00000165.jpg  \n",
            "  inflating: Chessman-image-dataset/Chess/Knight/00000167.jpg  \n",
            "  inflating: Chessman-image-dataset/Chess/Knight/00000169.jpg  \n",
            "  inflating: Chessman-image-dataset/Chess/Knight/00000170.png  \n",
            "  inflating: Chessman-image-dataset/Chess/Knight/00000173.jpg  \n",
            "  inflating: Chessman-image-dataset/Chess/Knight/00000177.jpg  \n",
            "  inflating: Chessman-image-dataset/Chess/Knight/00000179.jpg  \n",
            "  inflating: Chessman-image-dataset/Chess/Knight/00000181.jpg  \n",
            "  inflating: Chessman-image-dataset/Chess/Knight/00000186.jpg  \n",
            "  inflating: Chessman-image-dataset/Chess/Knight/00000187.jpg  \n",
            "  inflating: Chessman-image-dataset/Chess/Knight/00000188.png  \n",
            "  inflating: Chessman-image-dataset/Chess/Knight/00000190.jpg  \n",
            "  inflating: Chessman-image-dataset/Chess/Knight/00000192.jpg  \n",
            "  inflating: Chessman-image-dataset/Chess/Knight/00000196.jpg  \n",
            "  inflating: Chessman-image-dataset/Chess/Knight/00000197.jpg  \n",
            "  inflating: Chessman-image-dataset/Chess/Knight/00000198.png  \n",
            "  inflating: Chessman-image-dataset/Chess/Pawn/00000000.jpg  \n",
            "  inflating: Chessman-image-dataset/Chess/Pawn/00000001.png  \n",
            "  inflating: Chessman-image-dataset/Chess/Pawn/00000002.jpg  \n",
            "  inflating: Chessman-image-dataset/Chess/Pawn/00000004.jpg  \n",
            "  inflating: Chessman-image-dataset/Chess/Pawn/00000005.jpg  \n",
            "  inflating: Chessman-image-dataset/Chess/Pawn/00000007.jpg  \n",
            "  inflating: Chessman-image-dataset/Chess/Pawn/00000010.jpg  \n",
            "  inflating: Chessman-image-dataset/Chess/Pawn/00000011.jpg  \n",
            "  inflating: Chessman-image-dataset/Chess/Pawn/00000012.jpg  \n",
            "  inflating: Chessman-image-dataset/Chess/Pawn/00000013.jpg  \n",
            "  inflating: Chessman-image-dataset/Chess/Pawn/00000014.png  \n",
            "  inflating: Chessman-image-dataset/Chess/Pawn/00000015.png  \n",
            "  inflating: Chessman-image-dataset/Chess/Pawn/00000016.jpg  \n",
            "  inflating: Chessman-image-dataset/Chess/Pawn/00000017.jpg  \n",
            "  inflating: Chessman-image-dataset/Chess/Pawn/00000019.jpg  \n",
            "  inflating: Chessman-image-dataset/Chess/Pawn/00000020.jpg  \n",
            "  inflating: Chessman-image-dataset/Chess/Pawn/00000021.fcgi  \n",
            "  inflating: Chessman-image-dataset/Chess/Pawn/00000022.jpg  \n",
            "  inflating: Chessman-image-dataset/Chess/Pawn/00000025.png  \n",
            "  inflating: Chessman-image-dataset/Chess/Pawn/00000026.jpg  \n",
            "  inflating: Chessman-image-dataset/Chess/Pawn/00000027.png  \n",
            "  inflating: Chessman-image-dataset/Chess/Pawn/00000028.jpg  \n",
            "  inflating: Chessman-image-dataset/Chess/Pawn/00000029.jpg  \n",
            "  inflating: Chessman-image-dataset/Chess/Pawn/00000031.jpg  \n",
            "  inflating: Chessman-image-dataset/Chess/Pawn/00000032.jpg  \n",
            "  inflating: Chessman-image-dataset/Chess/Pawn/00000033.jpg  \n",
            "  inflating: Chessman-image-dataset/Chess/Pawn/00000035.jpg  \n",
            "  inflating: Chessman-image-dataset/Chess/Pawn/00000037.jpeg  \n",
            "  inflating: Chessman-image-dataset/Chess/Pawn/00000039.jpg  \n",
            "  inflating: Chessman-image-dataset/Chess/Pawn/00000041.jpg  \n",
            "  inflating: Chessman-image-dataset/Chess/Pawn/00000042.png  \n",
            "  inflating: Chessman-image-dataset/Chess/Pawn/00000043.jpg  \n",
            "  inflating: Chessman-image-dataset/Chess/Pawn/00000048.jpg  \n",
            "  inflating: Chessman-image-dataset/Chess/Pawn/00000049.png  \n",
            "  inflating: Chessman-image-dataset/Chess/Pawn/00000055.jpg  \n",
            "  inflating: Chessman-image-dataset/Chess/Pawn/00000056.JPG  \n",
            "  inflating: Chessman-image-dataset/Chess/Pawn/00000057.jpg  \n",
            "  inflating: Chessman-image-dataset/Chess/Pawn/00000058.jpg  \n",
            "  inflating: Chessman-image-dataset/Chess/Pawn/00000059.jpg  \n",
            "  inflating: Chessman-image-dataset/Chess/Pawn/00000060.jpg  \n",
            "  inflating: Chessman-image-dataset/Chess/Pawn/00000063.jpg  \n",
            "  inflating: Chessman-image-dataset/Chess/Pawn/00000067.jpg  \n",
            "  inflating: Chessman-image-dataset/Chess/Pawn/00000069.jpg  \n",
            "  inflating: Chessman-image-dataset/Chess/Pawn/00000070.jpg  \n",
            "  inflating: Chessman-image-dataset/Chess/Pawn/00000071.jpg  \n",
            "  inflating: Chessman-image-dataset/Chess/Pawn/00000072.jpg  \n",
            "  inflating: Chessman-image-dataset/Chess/Pawn/00000073.jpg  \n",
            "  inflating: Chessman-image-dataset/Chess/Pawn/00000074.jpg  \n",
            "  inflating: Chessman-image-dataset/Chess/Pawn/00000078.jpg  \n",
            "  inflating: Chessman-image-dataset/Chess/Pawn/00000079.jpg  \n",
            "  inflating: Chessman-image-dataset/Chess/Pawn/00000080.png  \n",
            "  inflating: Chessman-image-dataset/Chess/Pawn/00000082.jpg  \n",
            "  inflating: Chessman-image-dataset/Chess/Pawn/00000083.jpg  \n",
            "  inflating: Chessman-image-dataset/Chess/Pawn/00000084.jpg  \n",
            "  inflating: Chessman-image-dataset/Chess/Pawn/00000085.jpg  \n",
            "  inflating: Chessman-image-dataset/Chess/Pawn/00000097.jpg  \n",
            "  inflating: Chessman-image-dataset/Chess/Pawn/00000099.jpg  \n",
            "  inflating: Chessman-image-dataset/Chess/Pawn/00000106.png  \n",
            "  inflating: Chessman-image-dataset/Chess/Pawn/00000107.jpg  \n",
            "  inflating: Chessman-image-dataset/Chess/Pawn/00000109.jpg  \n",
            "  inflating: Chessman-image-dataset/Chess/Pawn/00000110.jpg  \n",
            "  inflating: Chessman-image-dataset/Chess/Pawn/00000111.jpg  \n",
            "  inflating: Chessman-image-dataset/Chess/Pawn/00000112.jpg  \n",
            "  inflating: Chessman-image-dataset/Chess/Pawn/00000113.jpg  \n",
            "  inflating: Chessman-image-dataset/Chess/Pawn/00000114.jpg  \n",
            "  inflating: Chessman-image-dataset/Chess/Pawn/00000115.jpg  \n",
            "  inflating: Chessman-image-dataset/Chess/Pawn/00000116.jpg  \n",
            "  inflating: Chessman-image-dataset/Chess/Pawn/00000117.jpg  \n",
            "  inflating: Chessman-image-dataset/Chess/Pawn/00000119.png  \n",
            "  inflating: Chessman-image-dataset/Chess/Pawn/00000121.jpg  \n",
            "  inflating: Chessman-image-dataset/Chess/Pawn/00000122.jpg  \n",
            "  inflating: Chessman-image-dataset/Chess/Pawn/00000126.png  \n",
            "  inflating: Chessman-image-dataset/Chess/Pawn/00000133.jpg  \n",
            "  inflating: Chessman-image-dataset/Chess/Pawn/00000134.jpg  \n",
            "  inflating: Chessman-image-dataset/Chess/Pawn/00000135.jpg  \n",
            "  inflating: Chessman-image-dataset/Chess/Pawn/00000136.png  \n",
            "  inflating: Chessman-image-dataset/Chess/Pawn/00000137.jpg  \n",
            "  inflating: Chessman-image-dataset/Chess/Pawn/00000138.jpg  \n",
            "  inflating: Chessman-image-dataset/Chess/Pawn/00000139.jpg  \n",
            "  inflating: Chessman-image-dataset/Chess/Pawn/00000140.jpg  \n",
            "  inflating: Chessman-image-dataset/Chess/Pawn/00000141.jpg  \n",
            "  inflating: Chessman-image-dataset/Chess/Pawn/00000151.png  \n",
            "  inflating: Chessman-image-dataset/Chess/Pawn/00000152.jpg  \n",
            "  inflating: Chessman-image-dataset/Chess/Pawn/00000154.jpg  \n",
            "  inflating: Chessman-image-dataset/Chess/Pawn/00000156.png  \n",
            "  inflating: Chessman-image-dataset/Chess/Pawn/00000157.jpg  \n",
            "  inflating: Chessman-image-dataset/Chess/Pawn/00000161.jpg  \n",
            "  inflating: Chessman-image-dataset/Chess/Pawn/00000163.png  \n",
            "  inflating: Chessman-image-dataset/Chess/Pawn/00000166.jpg  \n",
            "  inflating: Chessman-image-dataset/Chess/Pawn/00000167.png  \n",
            "  inflating: Chessman-image-dataset/Chess/Pawn/00000169.jpg  \n",
            "  inflating: Chessman-image-dataset/Chess/Pawn/00000170.jpg  \n",
            "  inflating: Chessman-image-dataset/Chess/Pawn/00000171.jpg  \n",
            "  inflating: Chessman-image-dataset/Chess/Pawn/00000172.png  \n",
            "  inflating: Chessman-image-dataset/Chess/Pawn/00000174.jpg  \n",
            "  inflating: Chessman-image-dataset/Chess/Pawn/00000175.jpg  \n",
            "  inflating: Chessman-image-dataset/Chess/Pawn/00000176.jpg  \n",
            "  inflating: Chessman-image-dataset/Chess/Pawn/00000177.jpg  \n",
            "  inflating: Chessman-image-dataset/Chess/Pawn/00000178.jpg  \n",
            "  inflating: Chessman-image-dataset/Chess/Pawn/00000180.jpg  \n",
            "  inflating: Chessman-image-dataset/Chess/Pawn/00000182.jpg  \n",
            "  inflating: Chessman-image-dataset/Chess/Pawn/00000183.jpg  \n",
            "  inflating: Chessman-image-dataset/Chess/Pawn/00000192.jpg  \n",
            "  inflating: Chessman-image-dataset/Chess/Pawn/00000193.jpg  \n",
            "  inflating: Chessman-image-dataset/Chess/Pawn/00000196.jpg  \n",
            "  inflating: Chessman-image-dataset/Chess/Pawn/00000197.jpg  \n",
            "  inflating: Chessman-image-dataset/Chess/Pawn/00000199.jpg  \n",
            "  inflating: Chessman-image-dataset/Chess/Queen/00000001.jpg  \n",
            "  inflating: Chessman-image-dataset/Chess/Queen/00000003.jpg  \n",
            "  inflating: Chessman-image-dataset/Chess/Queen/00000004.JPG  \n",
            "  inflating: Chessman-image-dataset/Chess/Queen/00000005.jpg  \n",
            "  inflating: Chessman-image-dataset/Chess/Queen/00000006.jpg  \n",
            "  inflating: Chessman-image-dataset/Chess/Queen/00000007.jpg  \n",
            "  inflating: Chessman-image-dataset/Chess/Queen/00000008.jpg  \n",
            "  inflating: Chessman-image-dataset/Chess/Queen/00000010.jpg  \n",
            "  inflating: Chessman-image-dataset/Chess/Queen/00000011.jpg  \n",
            "  inflating: Chessman-image-dataset/Chess/Queen/00000012.jpg  \n",
            "  inflating: Chessman-image-dataset/Chess/Queen/00000013.jpg  \n",
            "  inflating: Chessman-image-dataset/Chess/Queen/00000014.jpg  \n",
            "  inflating: Chessman-image-dataset/Chess/Queen/00000015.jpg  \n",
            "  inflating: Chessman-image-dataset/Chess/Queen/00000017.jpg  \n",
            "  inflating: Chessman-image-dataset/Chess/Queen/00000018.jpg  \n",
            "  inflating: Chessman-image-dataset/Chess/Queen/00000019.png  \n",
            "  inflating: Chessman-image-dataset/Chess/Queen/00000021.jpg  \n",
            "  inflating: Chessman-image-dataset/Chess/Queen/00000022.jpg  \n",
            "  inflating: Chessman-image-dataset/Chess/Queen/00000023.jpg  \n",
            "  inflating: Chessman-image-dataset/Chess/Queen/00000025.jpg  \n",
            "  inflating: Chessman-image-dataset/Chess/Queen/00000026.jpg  \n",
            "  inflating: Chessman-image-dataset/Chess/Queen/00000028.jpg  \n",
            "  inflating: Chessman-image-dataset/Chess/Queen/00000030.png  \n",
            "  inflating: Chessman-image-dataset/Chess/Queen/00000032.jpeg  \n",
            "  inflating: Chessman-image-dataset/Chess/Queen/00000036.jpg  \n",
            "  inflating: Chessman-image-dataset/Chess/Queen/00000037.jpg  \n",
            "  inflating: Chessman-image-dataset/Chess/Queen/00000040.jpg  \n",
            "  inflating: Chessman-image-dataset/Chess/Queen/00000041.jpg  \n",
            "  inflating: Chessman-image-dataset/Chess/Queen/00000043.jpg  \n",
            "  inflating: Chessman-image-dataset/Chess/Queen/00000044.jpg  \n",
            "  inflating: Chessman-image-dataset/Chess/Queen/00000051.jpg  \n",
            "  inflating: Chessman-image-dataset/Chess/Queen/00000052.jpg  \n",
            "  inflating: Chessman-image-dataset/Chess/Queen/00000057.jpg  \n",
            "  inflating: Chessman-image-dataset/Chess/Queen/00000059.jpg  \n",
            "  inflating: Chessman-image-dataset/Chess/Queen/00000060.jpg  \n",
            "  inflating: Chessman-image-dataset/Chess/Queen/00000061.jpg  \n",
            "  inflating: Chessman-image-dataset/Chess/Queen/00000062.jpg  \n",
            "  inflating: Chessman-image-dataset/Chess/Queen/00000064.jpg  \n",
            "  inflating: Chessman-image-dataset/Chess/Queen/00000066.jpg  \n",
            "  inflating: Chessman-image-dataset/Chess/Queen/00000068.png  \n",
            "  inflating: Chessman-image-dataset/Chess/Queen/00000072.jpg  \n",
            "  inflating: Chessman-image-dataset/Chess/Queen/00000074.jpg  \n",
            "  inflating: Chessman-image-dataset/Chess/Queen/00000076.png  \n",
            "  inflating: Chessman-image-dataset/Chess/Queen/00000077.jpg  \n",
            "  inflating: Chessman-image-dataset/Chess/Queen/00000081.jpg  \n",
            "  inflating: Chessman-image-dataset/Chess/Queen/00000084.jpeg  \n",
            "  inflating: Chessman-image-dataset/Chess/Queen/00000086.jpg  \n",
            "  inflating: Chessman-image-dataset/Chess/Queen/00000087.jpg  \n",
            "  inflating: Chessman-image-dataset/Chess/Queen/00000088.jpg  \n",
            "  inflating: Chessman-image-dataset/Chess/Queen/00000094.jpg  \n",
            "  inflating: Chessman-image-dataset/Chess/Queen/00000098.jpg  \n",
            "  inflating: Chessman-image-dataset/Chess/Queen/00000109.jpg  \n",
            "  inflating: Chessman-image-dataset/Chess/Queen/00000116.jpg  \n",
            "  inflating: Chessman-image-dataset/Chess/Queen/00000118.jpg  \n",
            "  inflating: Chessman-image-dataset/Chess/Queen/00000119.jpg  \n",
            "  inflating: Chessman-image-dataset/Chess/Queen/00000127.jpg  \n",
            "  inflating: Chessman-image-dataset/Chess/Queen/00000131.jpg  \n",
            "  inflating: Chessman-image-dataset/Chess/Queen/00000132.png  \n",
            "  inflating: Chessman-image-dataset/Chess/Queen/00000139.jpg  \n",
            "  inflating: Chessman-image-dataset/Chess/Queen/00000143.jpg  \n",
            "  inflating: Chessman-image-dataset/Chess/Queen/00000144.png  \n",
            "  inflating: Chessman-image-dataset/Chess/Queen/00000151.jpg  \n",
            "  inflating: Chessman-image-dataset/Chess/Queen/00000162.jpg  \n",
            "  inflating: Chessman-image-dataset/Chess/Queen/00000167.jpg  \n",
            "  inflating: Chessman-image-dataset/Chess/Queen/00000170.php  \n",
            "  inflating: Chessman-image-dataset/Chess/Queen/00000173.jpg  \n",
            "  inflating: Chessman-image-dataset/Chess/Queen/00000182.jpg  \n",
            "  inflating: Chessman-image-dataset/Chess/Queen/00000193.jpg  \n",
            "  inflating: Chessman-image-dataset/Chess/Queen/00000195.jpg  \n",
            "  inflating: Chessman-image-dataset/Chess/Queen/00000196.jpg  \n",
            "  inflating: Chessman-image-dataset/Chess/Queen/00000199.jpg  \n",
            "  inflating: Chessman-image-dataset/Chess/Queen/00000200.png  \n",
            "  inflating: Chessman-image-dataset/Chess/Queen/00000204.jpg  \n",
            "  inflating: Chessman-image-dataset/Chess/Queen/00000214.jpg  \n",
            "  inflating: Chessman-image-dataset/Chess/Queen/00000219.jpg  \n",
            "  inflating: Chessman-image-dataset/Chess/Queen/00000221.jpg  \n",
            "  inflating: Chessman-image-dataset/Chess/Queen/00000232.jpg  \n",
            "  inflating: Chessman-image-dataset/Chess/Queen/00000279.jpg  \n",
            "  inflating: Chessman-image-dataset/Chess/Rook/00000002.JPG  \n",
            "  inflating: Chessman-image-dataset/Chess/Rook/00000003.JPG  \n",
            "  inflating: Chessman-image-dataset/Chess/Rook/00000004.jpg  \n",
            "  inflating: Chessman-image-dataset/Chess/Rook/00000005.jpg  \n",
            "  inflating: Chessman-image-dataset/Chess/Rook/00000006.jpg  \n",
            "  inflating: Chessman-image-dataset/Chess/Rook/00000007.jpg  \n",
            "  inflating: Chessman-image-dataset/Chess/Rook/00000008.jpg  \n",
            "  inflating: Chessman-image-dataset/Chess/Rook/00000010.jpg  \n",
            "  inflating: Chessman-image-dataset/Chess/Rook/00000011.jpg  \n",
            "  inflating: Chessman-image-dataset/Chess/Rook/00000014.jpg  \n",
            "  inflating: Chessman-image-dataset/Chess/Rook/00000015.jpg  \n",
            "  inflating: Chessman-image-dataset/Chess/Rook/00000016.jpg  \n",
            "  inflating: Chessman-image-dataset/Chess/Rook/00000017.jpg  \n",
            "  inflating: Chessman-image-dataset/Chess/Rook/00000018.jpg  \n",
            "  inflating: Chessman-image-dataset/Chess/Rook/00000019.jpg  \n",
            "  inflating: Chessman-image-dataset/Chess/Rook/00000020.jpg  \n",
            "  inflating: Chessman-image-dataset/Chess/Rook/00000021.jpg  \n",
            "  inflating: Chessman-image-dataset/Chess/Rook/00000022.jpg  \n",
            "  inflating: Chessman-image-dataset/Chess/Rook/00000024.jpg  \n",
            "  inflating: Chessman-image-dataset/Chess/Rook/00000025.jpeg  \n",
            "  inflating: Chessman-image-dataset/Chess/Rook/00000026.png  \n",
            "  inflating: Chessman-image-dataset/Chess/Rook/00000027.jpg  \n",
            "  inflating: Chessman-image-dataset/Chess/Rook/00000028.jpg  \n",
            "  inflating: Chessman-image-dataset/Chess/Rook/00000031.jpg  \n",
            "  inflating: Chessman-image-dataset/Chess/Rook/00000032.jpg  \n",
            "  inflating: Chessman-image-dataset/Chess/Rook/00000033.jpg  \n",
            "  inflating: Chessman-image-dataset/Chess/Rook/00000034.jpg  \n",
            "  inflating: Chessman-image-dataset/Chess/Rook/00000035.jpg  \n",
            "  inflating: Chessman-image-dataset/Chess/Rook/00000038.jpg  \n",
            "  inflating: Chessman-image-dataset/Chess/Rook/00000044.jpg  \n",
            "  inflating: Chessman-image-dataset/Chess/Rook/00000045.jpg  \n",
            "  inflating: Chessman-image-dataset/Chess/Rook/00000046.jpg  \n",
            "  inflating: Chessman-image-dataset/Chess/Rook/00000049.jpg  \n",
            "  inflating: Chessman-image-dataset/Chess/Rook/00000050.jpg  \n",
            "  inflating: Chessman-image-dataset/Chess/Rook/00000051.jpg  \n",
            "  inflating: Chessman-image-dataset/Chess/Rook/00000053.jpg  \n",
            "  inflating: Chessman-image-dataset/Chess/Rook/00000054.jpg  \n",
            "  inflating: Chessman-image-dataset/Chess/Rook/00000056.png  \n",
            "  inflating: Chessman-image-dataset/Chess/Rook/00000058.jpg  \n",
            "  inflating: Chessman-image-dataset/Chess/Rook/00000059.jpg  \n",
            "  inflating: Chessman-image-dataset/Chess/Rook/00000061.jpg  \n",
            "  inflating: Chessman-image-dataset/Chess/Rook/00000063.jpg  \n",
            "  inflating: Chessman-image-dataset/Chess/Rook/00000064.png  \n",
            "  inflating: Chessman-image-dataset/Chess/Rook/00000065.jpg  \n",
            "  inflating: Chessman-image-dataset/Chess/Rook/00000066.png  \n",
            "  inflating: Chessman-image-dataset/Chess/Rook/00000071.jpg  \n",
            "  inflating: Chessman-image-dataset/Chess/Rook/00000072.jpg  \n",
            "  inflating: Chessman-image-dataset/Chess/Rook/00000073.jpg  \n",
            "  inflating: Chessman-image-dataset/Chess/Rook/00000074.jpg  \n",
            "  inflating: Chessman-image-dataset/Chess/Rook/00000075.jpg  \n",
            "  inflating: Chessman-image-dataset/Chess/Rook/00000076.jpg  \n",
            "  inflating: Chessman-image-dataset/Chess/Rook/00000077.jpg  \n",
            "  inflating: Chessman-image-dataset/Chess/Rook/00000079.jpg  \n",
            "  inflating: Chessman-image-dataset/Chess/Rook/00000082.jpg  \n",
            "  inflating: Chessman-image-dataset/Chess/Rook/00000083.jpg  \n",
            "  inflating: Chessman-image-dataset/Chess/Rook/00000084.png  \n",
            "  inflating: Chessman-image-dataset/Chess/Rook/00000085.png  \n",
            "  inflating: Chessman-image-dataset/Chess/Rook/00000086.jpg  \n",
            "  inflating: Chessman-image-dataset/Chess/Rook/00000088.jpg  \n",
            "  inflating: Chessman-image-dataset/Chess/Rook/00000095.jpg  \n",
            "  inflating: Chessman-image-dataset/Chess/Rook/00000097.jpg  \n",
            "  inflating: Chessman-image-dataset/Chess/Rook/00000098.png  \n",
            "  inflating: Chessman-image-dataset/Chess/Rook/00000099.jpg  \n",
            "  inflating: Chessman-image-dataset/Chess/Rook/00000101.jpg  \n",
            "  inflating: Chessman-image-dataset/Chess/Rook/00000102.jpg  \n",
            "  inflating: Chessman-image-dataset/Chess/Rook/00000103.png  \n",
            "  inflating: Chessman-image-dataset/Chess/Rook/00000107.jpg  \n",
            "  inflating: Chessman-image-dataset/Chess/Rook/00000112.jpg  \n",
            "  inflating: Chessman-image-dataset/Chess/Rook/00000113.jpg  \n",
            "  inflating: Chessman-image-dataset/Chess/Rook/00000114.jpg  \n",
            "  inflating: Chessman-image-dataset/Chess/Rook/00000116.jpg  \n",
            "  inflating: Chessman-image-dataset/Chess/Rook/00000117.jpg  \n",
            "  inflating: Chessman-image-dataset/Chess/Rook/00000118.jpg  \n",
            "  inflating: Chessman-image-dataset/Chess/Rook/00000119.jpg  \n",
            "  inflating: Chessman-image-dataset/Chess/Rook/00000120.jpg  \n",
            "  inflating: Chessman-image-dataset/Chess/Rook/00000121.jpg  \n",
            "  inflating: Chessman-image-dataset/Chess/Rook/00000124.png  \n",
            "  inflating: Chessman-image-dataset/Chess/Rook/00000125.jpg  \n",
            "  inflating: Chessman-image-dataset/Chess/Rook/00000127.jpg  \n",
            "  inflating: Chessman-image-dataset/Chess/Rook/00000130.jpeg  \n",
            "  inflating: Chessman-image-dataset/Chess/Rook/00000131.jpg  \n",
            "  inflating: Chessman-image-dataset/Chess/Rook/00000132.jpg  \n",
            "  inflating: Chessman-image-dataset/Chess/Rook/00000135.jpg  \n",
            "  inflating: Chessman-image-dataset/Chess/Rook/00000136.jpg  \n",
            "  inflating: Chessman-image-dataset/Chess/Rook/00000142.jpg  \n",
            "  inflating: Chessman-image-dataset/Chess/Rook/00000145.jpg  \n",
            "  inflating: Chessman-image-dataset/Chess/Rook/00000147.jpg  \n",
            "  inflating: Chessman-image-dataset/Chess/Rook/00000159.jpg  \n",
            "  inflating: Chessman-image-dataset/Chess/Rook/00000160.jpg  \n",
            "  inflating: Chessman-image-dataset/Chess/Rook/00000163.jpg  \n",
            "  inflating: Chessman-image-dataset/Chess/Rook/00000164.jpg  \n",
            "  inflating: Chessman-image-dataset/Chess/Rook/00000165.jpg  \n",
            "  inflating: Chessman-image-dataset/Chess/Rook/00000168.jpg  \n",
            "  inflating: Chessman-image-dataset/Chess/Rook/00000171.jpg  \n",
            "  inflating: Chessman-image-dataset/Chess/Rook/00000177.JPG  \n",
            "  inflating: Chessman-image-dataset/Chess/Rook/00000179.png  \n",
            "  inflating: Chessman-image-dataset/Chess/Rook/00000180.jpg  \n",
            "  inflating: Chessman-image-dataset/Chess/Rook/00000184.jpg  \n",
            "  inflating: Chessman-image-dataset/Chess/Rook/00000185.jpg  \n",
            "  inflating: Chessman-image-dataset/Chess/Rook/00000189.jpg  \n",
            "  inflating: Chessman-image-dataset/Chess/Rook/00000195.jpg  \n",
            "  inflating: Chessman-image-dataset/Chess/Rook/00000197.jpg  \n"
          ]
        }
      ],
      "source": [
        "! unzip '/content/chessman-image-dataset.zip'"
      ]
    },
    {
      "cell_type": "markdown",
      "metadata": {
        "id": "whyOL1wHiOLH"
      },
      "source": [
        "#Tratamiento de las imágenes, separación en test, train, val"
      ]
    },
    {
      "cell_type": "markdown",
      "source": [
        "Una función utilizando ImageDraw para generar líneas aleatorias en las imágenes para el data_augmentetion"
      ],
      "metadata": {
        "id": "ZlsliIWB6XY1"
      }
    },
    {
      "cell_type": "code",
      "source": [
        "def dibuja_cosas_aleatorias_imagen(image):\n",
        "\n",
        "  imagen_modificada = image.copy()\n",
        "\n",
        "  # Crea un objeto ImageDraw para dibujar en la imagen\n",
        "  draw = ImageDraw.Draw(imagen_modificada)\n",
        "\n",
        "  # Tamaño de la imagen existente\n",
        "  width, height = imagen_modificada.size\n",
        "\n",
        "  # Número de líneas y formas geométricas aleatorias que quieres añadir\n",
        "  num_shapes = 50\n",
        "\n",
        "  # Añade líneas y formas aleatorias\n",
        "  for _ in range(num_shapes):\n",
        "      x1 = random.randint(50, width)\n",
        "      y1 = random.randint(0, height)\n",
        "      x2 = random.randint(0, width)\n",
        "      y2 = random.randint(25, height)\n",
        "\n",
        "      # Escoge un color aleatorio en formato RGB\n",
        "      color = (random.randint(0, 385), random.randint(0, 235), random.randint(0, 155))\n",
        "\n",
        "      draw.line([(x1, y1), (x2, y2)], fill=color, width=7)\n",
        "  return imagen_modificada"
      ],
      "metadata": {
        "id": "U1JHucogk13C"
      },
      "execution_count": 8,
      "outputs": []
    },
    {
      "cell_type": "markdown",
      "source": [
        "Este código fue usado mediante el desempeño de la tarea para probar los diferentes métodos que nos proporciona la librería ImageOps y ver las diferencias que se generaban entre la imagen origina y la imagen modificada."
      ],
      "metadata": {
        "id": "sZm7r072g_SX"
      }
    },
    {
      "cell_type": "code",
      "source": [
        "imagen = Image.open(\"/content/Chessman-image-dataset/Chess/Queen/00000001.jpg\")\n",
        "\n",
        "#imagen_modificada = ImageOps.expand(imagen, border=150, fill='red')\n",
        "\n",
        "imagen_modificada = ImageOps.posterize(imagen, 1)\n",
        "\n",
        "# Crear la figura y los subplots\n",
        "fig, axes = plt.subplots(1, 2, figsize=(8, 8))\n",
        "\n",
        "# Mostrar la imagen original a la izquierda\n",
        "axes[0].imshow(imagen)\n",
        "axes[0].axis('off')\n",
        "axes[0].set_title('Imagen Original')\n",
        "\n",
        "# Mostrar la imagen modificada a la derecha\n",
        "axes[1].imshow(imagen_modificada)\n",
        "axes[1].axis('off')\n",
        "axes[1].set_title('Imagen Modificada')\n",
        "\n",
        "plt.show()"
      ],
      "metadata": {
        "colab": {
          "base_uri": "https://localhost:8080/",
          "height": 341
        },
        "id": "DC_kC523Q65W",
        "outputId": "551a5719-aa30-443d-a6f7-b9127c7cdd19"
      },
      "execution_count": 9,
      "outputs": [
        {
          "output_type": "display_data",
          "data": {
            "text/plain": [
              "<Figure size 800x800 with 2 Axes>"
            ],
            "image/png": "[encoded data removed]"
          },
          "metadata": {}
        }
      ]
    },
    {
      "cell_type": "markdown",
      "source": [
        "Hacemos split de las imágenes para separarlas en test, train y val"
      ],
      "metadata": {
        "id": "jTdXccZVhF2m"
      }
    },
    {
      "cell_type": "code",
      "execution_count": 10,
      "metadata": {
        "colab": {
          "base_uri": "https://localhost:8080/"
        },
        "id": "lgPSadSLITjt",
        "outputId": "005a4020-8192-4a45-dd83-2c032de8c75f"
      },
      "outputs": [
        {
          "output_type": "stream",
          "name": "stderr",
          "text": [
            "Copying files: 556 files [00:00, 3227.84 files/s]\n"
          ]
        }
      ],
      "source": [
        "input_folder = \"/content/Chessman-image-dataset/Chess\"\n",
        "\n",
        "splitfolders.ratio(input_folder, output=\"Chess-splitted\", seed=42, ratio=(0.6, 0.2, 0.2))"
      ]
    },
    {
      "cell_type": "markdown",
      "source": [
        "Generamos una función que nos ayudará a la hora de nombrar las nuevas imágenes creadas"
      ],
      "metadata": {
        "id": "p2jyCRVAh4Zl"
      }
    },
    {
      "cell_type": "code",
      "source": [
        "def generar_nombre_aleatorio():\n",
        "    caracteres = string.ascii_letters + string.digits\n",
        "    codigo_aleatorio = ''.join(secrets.choice(caracteres) for _ in range(10))\n",
        "    return codigo_aleatorio"
      ],
      "metadata": {
        "id": "W7d1lS2zNXtC"
      },
      "execution_count": 11,
      "outputs": []
    },
    {
      "cell_type": "markdown",
      "source": [
        "Generamos una función que nos hará de data augmentetion, recibirá una imagen como párametro y de maneara aleatoria le aplicará uno de los filtros contenidos en el array de transforamtions"
      ],
      "metadata": {
        "id": "b0Qo5630iBA1"
      }
    },
    {
      "cell_type": "code",
      "source": [
        "def random_augmentation(image):\n",
        "    # Lista de posibles transformaciones\n",
        "    transformations = [\n",
        "        lambda img: ImageOps.crop(img, border=50), # Recortar imagen\n",
        "        lambda img: img.rotate(30), # Deformar la imagen rotándola 30 grados\n",
        "        lambda img: img.rotate(90), # Deformar la imagen rotándola 90 grados\n",
        "        lambda img: img.rotate(120), # Deformar la imagen rotándola 120 grados\n",
        "        lambda img: ImageOps.equalize(img), # Ecualizar histograma\n",
        "        lambda img: ImageOps.expand(img, border=20, fill='white'), # Expandir imagen\n",
        "        lambda img: ImageOps.expand(img, border=50, fill='white'), # Expandir imagen\n",
        "        ImageOps.flip, # Voltear horizontalmente o verticalmente\n",
        "        lambda img: ImageOps.grayscale(img), # Convertir a escala de grises\n",
        "        lambda img: ImageOps.invert(img), # Invertir colores\n",
        "        ImageOps.mirror, # Espejo horizontal\n",
        "        lambda img: ImageOps.posterize(img, 1), # Posterizar la imagen a 1 nivel\n",
        "        lambda img: ImageOps.solarize(img)  # Solarizar la imagen\n",
        "    ]\n",
        "\n",
        "    # Selecciona una primera transformación aleatoria de la lista\n",
        "    transformation = np.random.choice(transformations)\n",
        "\n",
        "    # Selecciona una segunda transformación aleatoria de la lista\n",
        "    second_transformation = np.random.choice(transformations)\n",
        "\n",
        "\n",
        "    # Aplica la primera transformación a la imagen\n",
        "    augmented_image = transformation(image)\n",
        "\n",
        "    # Aplica la segunda transformación a la imagen\n",
        "    augmented_image = second_transformation(image)\n",
        "\n",
        "    return augmented_image"
      ],
      "metadata": {
        "id": "7nYHrSKGkL8I"
      },
      "execution_count": 12,
      "outputs": []
    },
    {
      "cell_type": "markdown",
      "source": [
        "Generamos una función que nos generá las imágenes del data augmentetion recibiendo la carpeta y las veces que se repetirá el bucle"
      ],
      "metadata": {
        "id": "3g-cWUDUiJpt"
      }
    },
    {
      "cell_type": "code",
      "execution_count": 13,
      "metadata": {
        "id": "36xDt2ltkMeM"
      },
      "outputs": [],
      "source": [
        "def genera_imagenes_iteraciones(carpeta_actual, repeticiones):\n",
        "  nuevas_imagenes = 0\n",
        "  for i in range(repeticiones):\n",
        "    # Recorrer todas las subcarpetas y archivos dentro de la carpeta actual\n",
        "    for directorio_raiz, directorios, archivos in os.walk(carpeta_actual):\n",
        "        # Iterar sobre cada archivo en el directorio actual\n",
        "        for archivo in archivos:\n",
        "            # Verificar si el archivo es una imagen (puedes ampliar esta lógica según los tipos de imagen que esperas)\n",
        "            if archivo.endswith(\".jpg\") or archivo.endswith(\".png\") or archivo.endswith(\".JPG\") or archivo.endswith(\".jpeg\"):\n",
        "                # Abrir la imagen\n",
        "                ruta_archivo = os.path.join(directorio_raiz, archivo)\n",
        "\n",
        "                # Usamos este if para solamente hacer modificaciones de las imágenes originales y no de las que previamente han sido modificadas\n",
        "                if \"augmented-\" not in archivo:\n",
        "\n",
        "                  imagen = Image.open(ruta_archivo)\n",
        "\n",
        "                  # Código utilizado para ver la imagen antes de la modificación\n",
        "                  # plt.imshow(imagen)\n",
        "                  # plt.axis('off')  # Desactivar ejes\n",
        "                  # plt.show()\n",
        "\n",
        "                  imagen_modificada = random_augmentation(imagen)\n",
        "\n",
        "                  # Código utilizado para ver la imagen después de la modificación\n",
        "                  # plt.imshow(imagen_modificada)\n",
        "                  # plt.axis('off')  # Desactivar ejes\n",
        "                  # plt.show()\n",
        "\n",
        "                  # Guardar la nueva imagen en la misma carpeta con el nuevo nombre\n",
        "                  archivo = archivo.split('-', 1)\n",
        "                  archivo = archivo[1] if len(archivo) > 1 else archivo[0]\n",
        "                  nombre_nueva_imagen = \"augmented-\" + generar_nombre_aleatorio() + \"-\" + archivo\n",
        "\n",
        "                  ruta_destino = os.path.join(directorio_raiz, nombre_nueva_imagen)\n",
        "                  imagen_modificada.save(ruta_destino)\n",
        "\n",
        "                  # Cerrar la imagen original\n",
        "                  imagen.close()\n",
        "                  nuevas_imagenes = nuevas_imagenes + 1\n",
        "\n",
        "  print(\"------------------------------------------\")\n",
        "  print(\"------------------------------------------\")\n",
        "  print(\"PROCESO COMPLETADO.\")\n",
        "  print(\"SE HAN GENERADO\", nuevas_imagenes, \"NUEVAS IMÁGENES\")\n",
        "  print(\"------------------------------------------\")\n",
        "  print(\"------------------------------------------\")"
      ]
    },
    {
      "cell_type": "markdown",
      "source": [
        "Generamos nuevas imágenes. Realizaremos una segunda llamada a la función para generar más imágenes solamente de la reina ya que es de las peores que precisión suele tener debido a su parecido con las otras fichas como veremos luego en la matriz de confusión en el final de este notebook\n",
        "\n"
      ],
      "metadata": {
        "id": "0Y4B48yfhRVf"
      }
    },
    {
      "cell_type": "code",
      "source": [
        "genera_imagenes_iteraciones(\"/content/Chess-splitted/train\", 10)\n",
        "genera_imagenes_iteraciones(\"/content/Chess-splitted/train/Queen\", 15)"
      ],
      "metadata": {
        "colab": {
          "base_uri": "https://localhost:8080/"
        },
        "id": "vd6aRAiGMgD5",
        "outputId": "2e8adcbf-5f11-462e-a52e-2587671937fb"
      },
      "execution_count": 14,
      "outputs": [
        {
          "output_type": "stream",
          "name": "stdout",
          "text": [
            "------------------------------------------\n",
            "------------------------------------------\n",
            "PROCESO COMPLETADO.\n",
            "SE HAN GENERADO 3280 NUEVAS IMÁGENES\n",
            "------------------------------------------\n",
            "------------------------------------------\n",
            "------------------------------------------\n",
            "------------------------------------------\n",
            "PROCESO COMPLETADO.\n",
            "SE HAN GENERADO 675 NUEVAS IMÁGENES\n",
            "------------------------------------------\n",
            "------------------------------------------\n"
          ]
        }
      ]
    },
    {
      "cell_type": "markdown",
      "source": [
        "Esta variable contiene un mapeo de número de clase a ficha"
      ],
      "metadata": {
        "id": "fVxQWMVNdyEd"
      }
    },
    {
      "cell_type": "code",
      "execution_count": 15,
      "metadata": {
        "id": "Xl-cOOv4K4bV"
      },
      "outputs": [],
      "source": [
        "MAP_CHARACTERS = {\n",
        "    0: 'Bishop', 1: 'King', 2: 'Knight',\n",
        "    3: 'Pawn', 4: 'Queen', 5: 'Rook',\n",
        "}"
      ]
    },
    {
      "cell_type": "markdown",
      "source": [
        "Creamos una función para contar las extensiones que tienen cada uno de los archivos con el objetivo de descartar las que no nos interesen que entren en nuestros datos"
      ],
      "metadata": {
        "id": "GPLtl8B2d1Zt"
      }
    },
    {
      "cell_type": "code",
      "execution_count": 16,
      "metadata": {
        "colab": {
          "base_uri": "https://localhost:8080/"
        },
        "id": "6ekEzFsKKa2-",
        "outputId": "25eea75b-6bd3-4797-ec1c-998ccb29cce1"
      },
      "outputs": [
        {
          "output_type": "stream",
          "name": "stdout",
          "text": [
            "Extensión: .jpg, Cantidad: 465\n",
            "Extensión: .jpeg, Cantidad: 7\n",
            "Extensión: .png, Cantidad: 69\n",
            "Extensión: .JPG, Cantidad: 10\n",
            "Extensión: .php, Cantidad: 1\n",
            "Extensión: .fcgi, Cantidad: 2\n",
            "Extensión: .webp, Cantidad: 1\n",
            "Extensión: .gif, Cantidad: 1\n"
          ]
        }
      ],
      "source": [
        "def contar_extensiones(carpeta):\n",
        "\n",
        "    contador_extensiones = Counter()\n",
        "\n",
        "    # Iteramos sobre todos los archivos en la carpeta\n",
        "    for ruta, _, archivos in os.walk(carpeta):\n",
        "        for archivo in archivos:\n",
        "            # Obtenemos la extensión del archivo\n",
        "            _, extension = os.path.splitext(archivo)\n",
        "            # Añadimos la extensión al contador\n",
        "            contador_extensiones[extension] += 1\n",
        "\n",
        "    return contador_extensiones\n",
        "\n",
        "carpeta = input_folder\n",
        "resultados = contar_extensiones(carpeta)\n",
        "\n",
        "# Mostramos los resultados\n",
        "for extension, cantidad in resultados.items():\n",
        "    print(f\"Extensión: {extension}, Cantidad: {cantidad}\")"
      ]
    },
    {
      "cell_type": "markdown",
      "source": [
        "Esta función carga los datos de training en imágenes. Como las imágenes tienen tamaños distintas, utilizamos la librería opencv para hacer un resize y adaptarlas todas a tamaño IMG_SIZE x IMG_SIZE.\n"
      ],
      "metadata": {
        "id": "eE6uIsHZeATG"
      }
    },
    {
      "cell_type": "code",
      "source": [
        "IMG_SIZE = 64"
      ],
      "metadata": {
        "id": "jeKqABjEVw71"
      },
      "execution_count": 17,
      "outputs": []
    },
    {
      "cell_type": "code",
      "execution_count": 18,
      "metadata": {
        "id": "eHl19kAOFjK9"
      },
      "outputs": [],
      "source": [
        "def load_train_set(dirname, map_characters, verbose=True):\n",
        "    X_train = []\n",
        "    y_train = []\n",
        "    for label, character in map_characters.items():\n",
        "        files = os.listdir(os.path.join(dirname, character))\n",
        "        images = [file for file in files if file.endswith(\"jpg\") or file.endswith(\"png\") or file.endswith(\"jpeg\") or file.endswith(\"JPG\") or file.endswith(\"webp\")]\n",
        "        if verbose:\n",
        "          print(\"Leyendo {} imágenes encontradas de {}\".format(len(images), character))\n",
        "        for image_name in images:\n",
        "            image = cv2.imread(os.path.join(dirname, character, image_name))\n",
        "            X_train.append(cv2.resize(image,(IMG_SIZE, IMG_SIZE)))\n",
        "            y_train.append(label)\n",
        "    return np.array(X_train), np.array(y_train)"
      ]
    },
    {
      "cell_type": "markdown",
      "source": [
        "Esta función funciona de manera equivalente a la función load_train_set pero cargando los datos de test."
      ],
      "metadata": {
        "id": "v7-gkeSVeJ8G"
      }
    },
    {
      "cell_type": "code",
      "execution_count": 19,
      "metadata": {
        "id": "fgZ-kl9wFmtV"
      },
      "outputs": [],
      "source": [
        "def load_test_set(dirname, map_characters, verbose=True):\n",
        "    X_test = []\n",
        "    y_test = []\n",
        "    reverse_dict = {v: k for k, v in map_characters.items()}\n",
        "    for label, character in map_characters.items():\n",
        "        files = os.listdir(os.path.join(dirname, character))\n",
        "        images = [file for file in files if file.endswith(\"jpg\") or file.endswith(\"png\") or file.endswith(\"jpeg\") or file.endswith(\"JPG\") or file.endswith(\"webp\")]\n",
        "        for image_name in images:\n",
        "            image = cv2.imread(os.path.join(dirname, character, image_name))\n",
        "            X_test.append(cv2.resize(image,(IMG_SIZE, IMG_SIZE)))\n",
        "            y_test.append(label)\n",
        "    if verbose:\n",
        "        print(\"Leídas {} imágenes de test\".format(len(X_test)))\n",
        "    return np.array(X_test), np.array(y_test)"
      ]
    },
    {
      "cell_type": "markdown",
      "source": [
        "Cargamos los datos"
      ],
      "metadata": {
        "id": "fqMQoKTheNP-"
      }
    },
    {
      "cell_type": "code",
      "execution_count": 20,
      "metadata": {
        "colab": {
          "base_uri": "https://localhost:8080/"
        },
        "id": "4HZPwM_MFnzN",
        "outputId": "1a96c043-98be-4f7f-efd5-0bd54ae16814"
      },
      "outputs": [
        {
          "output_type": "stream",
          "name": "stdout",
          "text": [
            "Leyendo 572 imágenes encontradas de Bishop\n",
            "Leyendo 484 imágenes encontradas de King\n",
            "Leyendo 693 imágenes encontradas de Knight\n",
            "Leyendo 693 imágenes encontradas de Pawn\n",
            "Leyendo 1170 imágenes encontradas de Queen\n",
            "Leyendo 671 imágenes encontradas de Rook\n",
            "Leídas 116 imágenes de test\n"
          ]
        }
      ],
      "source": [
        "DATASET_TRAIN_PATH_COLAB = '/content/Chess-splitted/train'\n",
        "DATASET_TEST_PATH_COLAB = '/content/Chess-splitted/test'\n",
        "\n",
        "X, y = load_train_set(DATASET_TRAIN_PATH_COLAB, MAP_CHARACTERS)\n",
        "X_t, y_t = load_test_set(DATASET_TEST_PATH_COLAB, MAP_CHARACTERS)"
      ]
    },
    {
      "cell_type": "markdown",
      "source": [
        "Reorganiza aleatoriamente los datos de entrada X y sus etiquetas correspondientes y"
      ],
      "metadata": {
        "id": "xHshFwapV5Qh"
      }
    },
    {
      "cell_type": "code",
      "execution_count": 21,
      "metadata": {
        "id": "0E-hMOOXJ7jd"
      },
      "outputs": [],
      "source": [
        "perm = np.random.permutation(len(X))\n",
        "X, y = X[perm], y[perm]"
      ]
    },
    {
      "cell_type": "markdown",
      "metadata": {
        "id": "dZeQsjQKKJd1"
      },
      "source": [
        "# Normalización de las imágenes"
      ]
    },
    {
      "cell_type": "code",
      "execution_count": 22,
      "metadata": {
        "id": "-wxaxuOhJ_v1"
      },
      "outputs": [],
      "source": [
        "X = X / 255.0\n",
        "X_t = X_t / 255.0"
      ]
    },
    {
      "cell_type": "markdown",
      "metadata": {
        "id": "uS48W5SYKGoM"
      },
      "source": [
        "# Análisis de los datos a utilizar"
      ]
    },
    {
      "cell_type": "code",
      "execution_count": 23,
      "metadata": {
        "id": "YewyVvs1KBml"
      },
      "outputs": [],
      "source": [
        "def visualize_example(x):\n",
        "  plt.figure()\n",
        "  plt.imshow(x)\n",
        "  plt.colorbar()\n",
        "  plt.grid(False)\n",
        "  plt.show()"
      ]
    },
    {
      "cell_type": "code",
      "execution_count": 24,
      "metadata": {
        "colab": {
          "base_uri": "https://localhost:8080/",
          "height": 470
        },
        "id": "hWWO_us6KDeF",
        "outputId": "d1608bb0-38a1-4a58-b80a-9c8644420e68"
      },
      "outputs": [
        {
          "output_type": "display_data",
          "data": {
            "text/plain": [
              "<Figure size 640x480 with 2 Axes>"
            ],
            "image/png": "[encoded data removed]"
          },
          "metadata": {}
        },
        {
          "output_type": "stream",
          "name": "stdout",
          "text": [
            "Pawn\n",
            "(64, 64, 3)\n"
          ]
        }
      ],
      "source": [
        "visualize_example(X[70]) # Visualiza la imagen normalizada con valores de 0 a 1\n",
        "print(MAP_CHARACTERS[y[70]]) # Acceso al diccionario\n",
        "print(X[70].shape[0:3]) # Dimensiones de la imagen tras resize con los 3 canales RGB"
      ]
    },
    {
      "cell_type": "markdown",
      "metadata": {
        "id": "TrIe49r6iR_P"
      },
      "source": [
        "#Creación del modelo"
      ]
    },
    {
      "cell_type": "code",
      "execution_count": 25,
      "metadata": {
        "id": "G-nR4PKQMhNO"
      },
      "outputs": [],
      "source": [
        "#batch_size=128\n",
        "num_classes=6\n",
        "epochs=5\n",
        "img_rows,img_cols=IMG_SIZE,IMG_SIZE\n",
        "input_shape=(img_rows,img_cols,3) #(64,64,3)"
      ]
    },
    {
      "cell_type": "code",
      "execution_count": 26,
      "metadata": {
        "id": "oHXLhk9ZMiHN"
      },
      "outputs": [],
      "source": [
        "# convert class vectors to binary class matrices\n",
        "y = keras.utils.to_categorical(y, num_classes)\n",
        "y_t = keras.utils.to_categorical(y_t, num_classes)"
      ]
    },
    {
      "cell_type": "markdown",
      "source": [
        " Este modelo se compone de varias capas:\n",
        "\n",
        "- Capas convolucionales: Se aplican convoluciones sobre la entrada para extraer características.\n",
        "- Capas de agrupación máxima: Reducen la dimensionalidad de las características extraídas.\n",
        "- Capas densas: Realizan la clasificación final.\n",
        "\n",
        "El modelo también incluye regularización L1 y L2 en una de las capas densas y una capa de dropout para evitar el sobreajuste."
      ],
      "metadata": {
        "id": "5qgykRgvTwfp"
      }
    },
    {
      "cell_type": "code",
      "execution_count": 27,
      "metadata": {
        "id": "9kuX0GUfL2_G"
      },
      "outputs": [],
      "source": [
        "model = keras.Sequential([\n",
        "  keras.layers.Conv2D(32, kernel_size=(3, 3), data_format=\"channels_last\",input_shape=(64, 64, 3), activation='relu'),\n",
        "  keras.layers.MaxPooling2D(pool_size=(2, 2)),\n",
        "  keras.layers.Conv2D(128, kernel_size=(3, 3), activation='relu'),\n",
        "  keras.layers.MaxPooling2D(pool_size=(2, 2)),\n",
        "  keras.layers.Conv2D(512, kernel_size=(3, 3), activation='relu'),\n",
        "  keras.layers.MaxPooling2D(pool_size=(2, 2)),\n",
        "  keras.layers.MaxPooling2D(pool_size=(2, 2)),\n",
        "  keras.layers.Flatten(),\n",
        "  keras.layers.Dense(500, activation='relu', kernel_regularizer=keras.regularizers.L1L2(l1=0.001, l2=0.001)),\n",
        "  keras.layers.Dropout(0.5),\n",
        "  keras.layers.Dense(6, activation='softmax')\n",
        "])\n"
      ]
    },
    {
      "cell_type": "code",
      "execution_count": 28,
      "metadata": {
        "colab": {
          "base_uri": "https://localhost:8080/"
        },
        "id": "Ru5D4ShJL4ak",
        "outputId": "f1882766-32ba-4dfb-9a81-c6320cf99b6e"
      },
      "outputs": [
        {
          "output_type": "stream",
          "name": "stdout",
          "text": [
            "Model: \"sequential\"\n",
            "_________________________________________________________________\n",
            " Layer (type)                Output Shape              Param #   \n",
            "=================================================================\n",
            " conv2d (Conv2D)             (None, 62, 62, 32)        896       \n",
            "                                                                 \n",
            " max_pooling2d (MaxPooling2  (None, 31, 31, 32)        0         \n",
            " D)                                                              \n",
            "                                                                 \n",
            " conv2d_1 (Conv2D)           (None, 29, 29, 128)       36992     \n",
            "                                                                 \n",
            " max_pooling2d_1 (MaxPoolin  (None, 14, 14, 128)       0         \n",
            " g2D)                                                            \n",
            "                                                                 \n",
            " conv2d_2 (Conv2D)           (None, 12, 12, 512)       590336    \n",
            "                                                                 \n",
            " max_pooling2d_2 (MaxPoolin  (None, 6, 6, 512)         0         \n",
            " g2D)                                                            \n",
            "                                                                 \n",
            " max_pooling2d_3 (MaxPoolin  (None, 3, 3, 512)         0         \n",
            " g2D)                                                            \n",
            "                                                                 \n",
            " flatten (Flatten)           (None, 4608)              0         \n",
            "                                                                 \n",
            " dense (Dense)               (None, 500)               2304500   \n",
            "                                                                 \n",
            " dropout (Dropout)           (None, 500)               0         \n",
            "                                                                 \n",
            " dense_1 (Dense)             (None, 6)                 3006      \n",
            "                                                                 \n",
            "=================================================================\n",
            "Total params: 2935730 (11.20 MB)\n",
            "Trainable params: 2935730 (11.20 MB)\n",
            "Non-trainable params: 0 (0.00 Byte)\n",
            "_________________________________________________________________\n"
          ]
        }
      ],
      "source": [
        "model.summary()\n",
        "model.compile(optimizer='adam',\n",
        "loss='categorical_crossentropy',\n",
        "metrics=['accuracy'])"
      ]
    },
    {
      "cell_type": "markdown",
      "metadata": {
        "id": "tHPwdq8nich4"
      },
      "source": [
        "#Entrenamiento"
      ]
    },
    {
      "cell_type": "code",
      "execution_count": 29,
      "metadata": {
        "colab": {
          "base_uri": "https://localhost:8080/"
        },
        "id": "PRtgib55L7Rs",
        "outputId": "6f7698c0-abdc-4741-a68d-61a7b333d655"
      },
      "outputs": [
        {
          "output_type": "stream",
          "name": "stdout",
          "text": [
            "Epoch 1/20\n",
            "108/108 [==============================] - 74s 651ms/step - loss: 7.8464 - accuracy: 0.2668 - val_loss: 2.1188 - val_accuracy: 0.2777\n",
            "Epoch 2/20\n",
            "108/108 [==============================] - 69s 641ms/step - loss: 2.0670 - accuracy: 0.2720 - val_loss: 2.0709 - val_accuracy: 0.2777\n",
            "Epoch 3/20\n",
            "108/108 [==============================] - 70s 648ms/step - loss: 2.0585 - accuracy: 0.2776 - val_loss: 2.0228 - val_accuracy: 0.3197\n",
            "Epoch 4/20\n",
            "108/108 [==============================] - 68s 629ms/step - loss: 2.0022 - accuracy: 0.3100 - val_loss: 1.9993 - val_accuracy: 0.3279\n",
            "Epoch 5/20\n",
            "108/108 [==============================] - 68s 630ms/step - loss: 1.9721 - accuracy: 0.3295 - val_loss: 1.9338 - val_accuracy: 0.3629\n",
            "Epoch 6/20\n",
            "108/108 [==============================] - 69s 640ms/step - loss: 1.9575 - accuracy: 0.3573 - val_loss: 1.9612 - val_accuracy: 0.3571\n",
            "Epoch 7/20\n",
            "108/108 [==============================] - 68s 631ms/step - loss: 1.9208 - accuracy: 0.4031 - val_loss: 1.9216 - val_accuracy: 0.4282\n",
            "Epoch 8/20\n",
            "108/108 [==============================] - 69s 642ms/step - loss: 1.8488 - accuracy: 0.4437 - val_loss: 1.8284 - val_accuracy: 0.4597\n",
            "Epoch 9/20\n",
            "108/108 [==============================] - 67s 623ms/step - loss: 1.7602 - accuracy: 0.4965 - val_loss: 1.7707 - val_accuracy: 0.5018\n",
            "Epoch 10/20\n",
            "108/108 [==============================] - 69s 641ms/step - loss: 1.7131 - accuracy: 0.5283 - val_loss: 1.7056 - val_accuracy: 0.5181\n",
            "Epoch 11/20\n",
            "108/108 [==============================] - 68s 627ms/step - loss: 1.5945 - accuracy: 0.5768 - val_loss: 1.6466 - val_accuracy: 0.5753\n",
            "Epoch 12/20\n",
            "108/108 [==============================] - 66s 613ms/step - loss: 1.5470 - accuracy: 0.6001 - val_loss: 1.6555 - val_accuracy: 0.5624\n",
            "Epoch 13/20\n",
            "108/108 [==============================] - 69s 640ms/step - loss: 1.4356 - accuracy: 0.6500 - val_loss: 1.5696 - val_accuracy: 0.6219\n",
            "Epoch 14/20\n",
            "108/108 [==============================] - 68s 633ms/step - loss: 1.3920 - accuracy: 0.6813 - val_loss: 1.5052 - val_accuracy: 0.6429\n",
            "Epoch 15/20\n",
            "108/108 [==============================] - 69s 638ms/step - loss: 1.3097 - accuracy: 0.7002 - val_loss: 1.4722 - val_accuracy: 0.6873\n",
            "Epoch 16/20\n",
            "108/108 [==============================] - 67s 623ms/step - loss: 1.2481 - accuracy: 0.7350 - val_loss: 1.5446 - val_accuracy: 0.6499\n",
            "Epoch 17/20\n",
            "108/108 [==============================] - 68s 633ms/step - loss: 1.1749 - accuracy: 0.7604 - val_loss: 1.4347 - val_accuracy: 0.6919\n",
            "Epoch 18/20\n",
            "108/108 [==============================] - 68s 630ms/step - loss: 1.1109 - accuracy: 0.7840 - val_loss: 1.4510 - val_accuracy: 0.7083\n",
            "Epoch 19/20\n",
            "108/108 [==============================] - 69s 638ms/step - loss: 1.0850 - accuracy: 0.7992 - val_loss: 1.4874 - val_accuracy: 0.7071\n",
            "Epoch 20/20\n",
            "108/108 [==============================] - 67s 618ms/step - loss: 1.0487 - accuracy: 0.8190 - val_loss: 1.4155 - val_accuracy: 0.7328\n"
          ]
        }
      ],
      "source": [
        "history = model.fit(X, y, epochs=20, validation_split = 0.2)"
      ]
    },
    {
      "cell_type": "code",
      "execution_count": 30,
      "metadata": {
        "id": "67mBpRuLMAW-"
      },
      "outputs": [],
      "source": [
        "def plot_acc(history, title=\"Model Accuracy\"):\n",
        "  \"\"\"Imprime una gráfica mostrando la accuracy por epoch obtenida en un entrenamiento\"\"\"\n",
        "  plt.plot(history.history['accuracy'])\n",
        "  plt.plot(history.history['val_accuracy'])\n",
        "  plt.title(title)\n",
        "  plt.ylabel('Accuracy')\n",
        "  plt.xlabel('Epoch')\n",
        "  plt.legend(['Train', 'Val'], loc='upper left')\n",
        "  plt.show()"
      ]
    },
    {
      "cell_type": "code",
      "execution_count": 31,
      "metadata": {
        "colab": {
          "base_uri": "https://localhost:8080/",
          "height": 472
        },
        "id": "D08aVV_WCHQc",
        "outputId": "d45b36a5-a148-4b18-b044-feb84d00b2ee"
      },
      "outputs": [
        {
          "output_type": "display_data",
          "data": {
            "text/plain": [
              "<Figure size 640x480 with 1 Axes>"
            ],
            "image/png": "[encoded data removed]"
          },
          "metadata": {}
        }
      ],
      "source": [
        "plot_acc(history)"
      ]
    },
    {
      "cell_type": "code",
      "execution_count": 32,
      "metadata": {
        "id": "N7_DhJlrNdsX"
      },
      "outputs": [],
      "source": [
        "def plot_loss(history, title=\"Model Loss\"):\n",
        "  \"\"\"Imprime una gráfica mostrando la pérdida por epoch obtenida en un entrenamiento\"\"\"\n",
        "  plt.plot(history.history['loss'])\n",
        "  plt.plot(history.history['val_loss'])\n",
        "  plt.title(title)\n",
        "  plt.ylabel('Loss')\n",
        "  plt.xlabel('Epoch')\n",
        "  plt.legend(['Train', 'Val'], loc='upper right')\n",
        "  plt.show()"
      ]
    },
    {
      "cell_type": "code",
      "execution_count": 33,
      "metadata": {
        "colab": {
          "base_uri": "https://localhost:8080/",
          "height": 472
        },
        "id": "nkRVxN7GCIHc",
        "outputId": "337bb9bc-7ced-4f49-c5f4-9b3f188ef5d6"
      },
      "outputs": [
        {
          "output_type": "display_data",
          "data": {
            "text/plain": [
              "<Figure size 640x480 with 1 Axes>"
            ],
            "image/png": "[encoded data removed]"
          },
          "metadata": {}
        }
      ],
      "source": [
        "plot_loss(history)"
      ]
    },
    {
      "cell_type": "markdown",
      "source": [
        "Evaluamos el rendimiento"
      ],
      "metadata": {
        "id": "ncObVCUUWBYD"
      }
    },
    {
      "cell_type": "code",
      "execution_count": 34,
      "metadata": {
        "colab": {
          "base_uri": "https://localhost:8080/"
        },
        "id": "jVdJAXpQOEV-",
        "outputId": "250fcd5c-020f-429a-b20b-143207c04376"
      },
      "outputs": [
        {
          "output_type": "stream",
          "name": "stdout",
          "text": [
            "4/4 [==============================] - 1s 131ms/step - loss: 2.3486 - accuracy: 0.4397\n"
          ]
        },
        {
          "output_type": "execute_result",
          "data": {
            "text/plain": [
              "[2.3485851287841797, 0.4396551847457886]"
            ]
          },
          "metadata": {},
          "execution_count": 34
        }
      ],
      "source": [
        "model.evaluate(X_t, y_t, batch_size=32, verbose=1)"
      ]
    },
    {
      "cell_type": "markdown",
      "source": [
        "Hacemos una predicción"
      ],
      "metadata": {
        "id": "h5j03FDeWCuy"
      }
    },
    {
      "cell_type": "code",
      "execution_count": 35,
      "metadata": {
        "colab": {
          "base_uri": "https://localhost:8080/"
        },
        "id": "SvkOT5gROF5G",
        "outputId": "72f0b251-08ff-434d-8874-27598f408734"
      },
      "outputs": [
        {
          "output_type": "stream",
          "name": "stdout",
          "text": [
            "4/4 [==============================] - 1s 125ms/step\n"
          ]
        }
      ],
      "source": [
        "prediccion = model.predict(X_t, batch_size=32, verbose=1)"
      ]
    },
    {
      "cell_type": "markdown",
      "source": [
        "Vemos los resultados de la predicción"
      ],
      "metadata": {
        "id": "rPRja2p-WD-T"
      }
    },
    {
      "cell_type": "code",
      "execution_count": 36,
      "metadata": {
        "colab": {
          "base_uri": "https://localhost:8080/"
        },
        "id": "dfqJB9BlPcym",
        "outputId": "bd6ea76e-1f89-4f07-ad80-4e134e353401"
      },
      "outputs": [
        {
          "output_type": "stream",
          "name": "stdout",
          "text": [
            "[[8.99353325e-01 9.14279372e-02 2.63549628e-05 9.06607136e-03\n",
            "  1.25988168e-04 1.93177570e-07]\n",
            " [8.23763832e-02 3.19691535e-05 1.67079115e-08 9.17154133e-01\n",
            "  4.25267499e-04 1.22685415e-05]\n",
            " [9.84155536e-01 1.68390732e-04 3.69349837e-05 1.27581768e-02\n",
            "  2.87655578e-03 4.29676538e-06]\n",
            " [7.52120793e-01 2.75429076e-04 4.11032845e-04 2.44738728e-01\n",
            "  2.32243212e-03 1.31497713e-04]\n",
            " [8.60871911e-01 1.32260367e-01 8.17603996e-06 2.98087602e-03\n",
            "  3.87702067e-03 1.53337953e-06]\n",
            " [5.42830110e-01 1.79356504e-02 1.10716312e-04 3.57887782e-02\n",
            "  3.99493277e-01 3.84146534e-03]\n",
            " [3.72728795e-01 5.01494944e-01 1.43162999e-03 2.31084768e-02\n",
            "  9.95392650e-02 1.69687602e-03]\n",
            " [9.71444309e-01 1.91691220e-02 9.67569667e-06 8.08294024e-03\n",
            "  1.29289553e-03 9.18586807e-07]\n",
            " [9.76264894e-01 1.97026040e-03 1.45359794e-02 6.74569979e-03\n",
            "  2.30451682e-04 2.52673577e-04]\n",
            " [9.09677939e-04 8.15505791e-06 1.10324094e-04 7.30902195e-01\n",
            "  6.65191934e-03 2.61417717e-01]\n",
            " [2.75276750e-01 2.48644711e-03 1.76215649e-03 6.99874461e-01\n",
            "  1.83402952e-02 2.25989567e-03]\n",
            " [1.17938481e-01 7.81423450e-01 9.61514340e-11 5.88420313e-03\n",
            "  9.47538987e-02 1.20481500e-08]\n",
            " [5.87018192e-01 1.66207482e-03 1.27980812e-07 4.10989672e-01\n",
            "  3.24879366e-04 4.99609132e-06]\n",
            " [9.12594274e-02 1.44928424e-02 5.95907698e-11 1.28260860e-02\n",
            "  8.81421506e-01 1.69367851e-07]\n",
            " [2.81304777e-01 1.92156527e-02 1.45430053e-02 4.52733010e-01\n",
            "  1.88496739e-01 4.37067375e-02]\n",
            " [2.99754113e-01 3.28525057e-04 3.39420338e-04 3.88383418e-01\n",
            "  3.06189835e-01 5.00473659e-03]\n",
            " [5.81389248e-01 1.55261189e-01 9.72375623e-04 3.72347161e-02\n",
            "  2.16591865e-01 8.55058804e-03]\n",
            " [6.90689206e-01 2.02010144e-02 6.67431388e-11 2.77286381e-01\n",
            "  1.18233720e-02 1.31378808e-09]\n",
            " [1.58945397e-01 3.95894378e-01 3.50372318e-08 5.10005187e-03\n",
            "  4.40058231e-01 1.74124420e-06]\n",
            " [4.91372406e-01 6.14202023e-02 9.17796418e-02 1.19914629e-01\n",
            "  2.15486526e-01 2.00265329e-02]\n",
            " [3.38696510e-01 3.49019825e-01 7.27972481e-04 2.80308127e-02\n",
            "  2.80062675e-01 3.46223800e-03]\n",
            " [1.34017821e-02 3.36055130e-01 3.24994187e-09 2.54272763e-03\n",
            "  6.47971153e-01 2.92659006e-05]\n",
            " [7.85564601e-01 9.06422511e-02 4.48291503e-05 7.25401333e-03\n",
            "  1.16401084e-01 9.31127288e-05]\n",
            " [1.01036665e-06 1.38920332e-05 5.90344273e-10 1.36433728e-05\n",
            "  9.98903334e-01 1.06804271e-03]\n",
            " [7.00294739e-04 3.06831527e-04 1.91228295e-08 5.28914563e-04\n",
            "  9.98446465e-01 1.76640424e-05]\n",
            " [3.29401433e-01 6.69095457e-01 3.80868170e-10 3.21045263e-05\n",
            "  1.47087604e-03 4.14937112e-11]\n",
            " [2.63029913e-04 5.90818405e-01 1.78563437e-18 2.19945400e-06\n",
            "  4.08916324e-01 2.07839009e-13]\n",
            " [1.21608377e-02 2.27400348e-01 1.23971517e-06 7.69111374e-03\n",
            "  7.52731144e-01 1.53597466e-05]\n",
            " [8.95223673e-03 1.96567066e-02 8.03377200e-17 1.50788401e-03\n",
            "  9.69883144e-01 8.76509490e-11]\n",
            " [8.84194851e-01 2.30191788e-03 3.01270643e-06 4.04859073e-02\n",
            "  7.29860365e-02 2.82342698e-05]\n",
            " [2.10199654e-01 2.65106428e-02 1.25794411e-02 1.87289879e-01\n",
            "  4.39024210e-01 1.24396116e-01]\n",
            " [5.26091259e-04 7.18728125e-01 1.36338095e-15 3.42369816e-07\n",
            "  2.80745417e-01 1.09240065e-11]\n",
            " [2.76066898e-03 2.42375489e-02 4.27419451e-08 1.03197480e-02\n",
            "  9.62117374e-01 5.64658316e-04]\n",
            " [1.76185012e-01 5.69448411e-01 3.73996656e-08 2.30592620e-02\n",
            "  2.31306583e-01 5.88274190e-07]\n",
            " [1.81340933e-04 6.74254608e-09 9.88685906e-01 1.09330360e-02\n",
            "  5.44973275e-08 1.99743081e-04]\n",
            " [1.68705992e-06 8.21857946e-12 9.99990642e-01 6.38118308e-06\n",
            "  1.33403080e-10 1.16828028e-06]\n",
            " [9.09471637e-05 1.94329375e-09 9.99439597e-01 4.56581358e-04\n",
            "  3.02017744e-09 1.30174521e-05]\n",
            " [4.33376998e-01 5.08366302e-02 6.16109334e-02 3.94409329e-01\n",
            "  3.02069616e-02 2.95590684e-02]\n",
            " [3.83354872e-02 9.34941287e-04 8.66819859e-01 7.70012513e-02\n",
            "  1.49889709e-03 1.54094901e-02]\n",
            " [2.47451942e-02 4.59220354e-03 7.79471636e-01 1.15042239e-01\n",
            "  1.12699335e-02 6.48787394e-02]\n",
            " [1.81504153e-02 1.07923101e-04 2.07421258e-02 6.60740793e-01\n",
            "  4.78749946e-02 2.52383769e-01]\n",
            " [3.93541839e-08 1.99108859e-16 9.99999464e-01 5.16091063e-07\n",
            "  1.01436040e-16 2.67210476e-10]\n",
            " [6.67526647e-02 5.89697273e-04 5.64435244e-01 5.71297519e-02\n",
            "  7.27598816e-02 2.38332763e-01]\n",
            " [1.37754241e-05 3.29175771e-12 9.22334120e-02 3.43409598e-01\n",
            "  1.34607114e-06 5.64341724e-01]\n",
            " [3.46928049e-04 5.22334898e-10 2.24070828e-02 9.76245344e-01\n",
            "  4.63703373e-07 1.00016908e-03]\n",
            " [1.15628104e-07 2.19926650e-14 9.99987900e-01 1.15196553e-05\n",
            "  4.80507181e-13 3.89523166e-07]\n",
            " [5.64204045e-02 9.35321208e-04 5.36317229e-01 3.42610747e-01\n",
            "  8.96211434e-03 5.47540933e-02]\n",
            " [1.75976532e-03 7.71806242e-07 9.94754553e-01 2.92196055e-03\n",
            "  1.79218860e-05 5.45093208e-04]\n",
            " [1.17018935e-04 7.97676785e-06 2.83906490e-01 4.18936461e-03\n",
            "  1.68218976e-03 7.10097015e-01]\n",
            " [1.14336335e-05 3.30247318e-09 9.99649882e-01 2.75804283e-04\n",
            "  4.57721860e-09 6.29406059e-05]\n",
            " [9.97150084e-04 5.75532718e-03 2.01150790e-01 2.30092779e-02\n",
            "  3.36048775e-03 7.65726984e-01]\n",
            " [1.85681367e-03 1.71228967e-05 2.28893384e-01 3.70501548e-01\n",
            "  7.77957262e-04 3.97953063e-01]\n",
            " [3.21654184e-03 2.24217856e-05 1.23346500e-01 4.20048349e-02\n",
            "  8.90170317e-03 8.22507858e-01]\n",
            " [1.48468884e-04 7.37811021e-08 8.49252284e-01 5.23823611e-02\n",
            "  1.04309591e-04 9.81126428e-02]\n",
            " [4.25203890e-03 2.17061079e-05 9.59176421e-01 1.64795425e-02\n",
            "  2.99864565e-04 1.97702255e-02]\n",
            " [2.66387127e-04 6.73700296e-09 9.63809967e-01 3.19598652e-02\n",
            "  4.95136533e-07 3.96313844e-03]\n",
            " [7.14923143e-02 1.73823275e-02 9.95566836e-04 4.82148349e-01\n",
            "  2.22862974e-01 2.05118388e-01]\n",
            " [1.23990119e-01 2.87277787e-03 5.67273200e-01 3.03110152e-01\n",
            "  2.75155500e-04 2.47863960e-03]\n",
            " [7.85981417e-01 1.40714318e-01 3.00447255e-06 1.73526478e-03\n",
            "  7.15606287e-02 5.36102834e-06]\n",
            " [2.15504505e-02 9.27139554e-05 5.14316261e-01 2.51720339e-01\n",
            "  4.20540804e-03 2.08114848e-01]\n",
            " [8.65159184e-02 1.04945004e-02 4.13029396e-04 7.48777151e-01\n",
            "  1.34574890e-01 1.92245226e-02]\n",
            " [7.64632924e-03 3.59370938e-06 9.79562640e-01 1.27414213e-02\n",
            "  1.40338466e-06 4.45636106e-05]\n",
            " [4.24709693e-02 9.15117681e-01 6.57583525e-13 8.00245914e-07\n",
            "  4.24104594e-02 6.62211286e-10]\n",
            " [2.06545787e-03 3.21293953e-07 1.88199012e-10 9.97910976e-01\n",
            "  2.27989567e-05 4.64342094e-07]\n",
            " [5.87126732e-01 1.75140634e-01 9.30992737e-02 6.98032305e-02\n",
            "  2.67162118e-02 4.81138639e-02]\n",
            " [1.30848988e-04 9.96036604e-08 1.54092239e-04 1.04448617e-01\n",
            "  2.41312105e-03 8.92853200e-01]\n",
            " [3.19422595e-03 2.59622453e-07 1.40720147e-07 9.96804893e-01\n",
            "  3.95582958e-07 1.04520481e-07]\n",
            " [1.88264072e-01 9.60038695e-03 7.24075466e-09 5.72552860e-01\n",
            "  2.29568869e-01 1.38409077e-05]\n",
            " [8.70027959e-01 4.96239476e-02 1.15317116e-08 1.05797751e-02\n",
            "  6.97678104e-02 4.11213136e-07]\n",
            " [8.25852156e-03 7.00992532e-04 1.85766965e-01 6.23205677e-02\n",
            "  1.34548530e-01 6.08404517e-01]\n",
            " [8.27749893e-02 3.32442485e-02 2.29789510e-01 1.42999768e-01\n",
            "  1.28281206e-01 3.82910311e-01]\n",
            " [6.55299276e-02 5.33280797e-07 4.34060436e-04 9.34035182e-01\n",
            "  3.48552547e-08 3.17994079e-07]\n",
            " [1.95944935e-01 9.09146736e-04 8.53833929e-03 6.94030344e-01\n",
            "  4.04807813e-02 6.00964800e-02]\n",
            " [7.50098705e-01 2.07026843e-02 3.73134762e-03 1.37978107e-01\n",
            "  7.84815401e-02 9.00746975e-03]\n",
            " [6.55155003e-01 1.31435856e-01 2.15888067e-04 5.50584942e-02\n",
            "  1.56305909e-01 1.82878354e-03]\n",
            " [4.33224738e-02 1.28735993e-02 2.04035267e-01 2.06708446e-01\n",
            "  1.64781630e-01 3.68278593e-01]\n",
            " [9.96024068e-03 1.38650304e-02 7.14704394e-02 1.50885850e-01\n",
            "  2.07758620e-01 5.46059668e-01]\n",
            " [8.80669117e-01 4.51572960e-05 2.31023849e-04 1.19043268e-01\n",
            "  7.67932852e-06 3.73055741e-06]\n",
            " [8.35680306e-01 2.32003387e-02 1.00801934e-07 1.00645378e-01\n",
            "  4.04734351e-02 4.86469901e-07]\n",
            " [6.87622949e-02 4.83482666e-02 4.79962691e-05 2.12338671e-01\n",
            "  6.59498334e-01 1.10043036e-02]\n",
            " [1.60195282e-06 2.62777612e-05 1.43080827e-12 9.02397460e-06\n",
            "  9.99950111e-01 1.29112905e-05]\n",
            " [3.95673722e-01 2.38101214e-01 1.01222505e-03 1.48984808e-02\n",
            "  3.48752856e-01 1.56146125e-03]\n",
            " [2.87499819e-02 7.57563189e-02 2.20669690e-03 7.28959084e-01\n",
            "  1.19820915e-01 4.45070229e-02]\n",
            " [6.73284428e-03 2.38262136e-02 1.45048864e-06 5.80990594e-03\n",
            "  9.58541811e-01 5.08775329e-03]\n",
            " [1.36535436e-01 4.33522044e-03 2.31354218e-03 2.36614063e-01\n",
            "  5.75358689e-01 4.48431000e-02]\n",
            " [2.49564997e-03 2.42638141e-02 1.28003663e-09 6.81264000e-03\n",
            "  9.66414809e-01 1.31427441e-05]\n",
            " [1.37746289e-01 6.07840391e-03 6.75088823e-01 1.67895526e-01\n",
            "  3.19189043e-03 9.99908336e-03]\n",
            " [2.24149495e-01 6.03848994e-01 2.37201984e-05 1.04049621e-02\n",
            "  1.61342472e-01 2.30214733e-04]\n",
            " [3.35381836e-01 2.94436306e-01 2.03128369e-03 4.20355164e-02\n",
            "  3.22907746e-01 3.20733013e-03]\n",
            " [1.48801524e-02 3.51133244e-03 3.11397821e-01 1.71574116e-01\n",
            "  3.49636562e-02 4.63672966e-01]\n",
            " [1.94014038e-03 9.83981183e-04 1.99004745e-07 3.46956886e-02\n",
            "  9.60644901e-01 1.73510006e-03]\n",
            " [7.04031918e-05 2.36667064e-03 1.43606183e-10 8.87070782e-05\n",
            "  9.97445226e-01 2.88362098e-05]\n",
            " [3.58102620e-02 1.95790126e-04 2.06095517e-13 9.49291825e-01\n",
            "  1.47019308e-02 6.28207744e-08]\n",
            " [1.02875665e-01 1.59475848e-03 1.44205224e-02 5.48962653e-01\n",
            "  1.37999639e-01 1.94146737e-01]\n",
            " [4.29887399e-02 2.48443540e-02 2.18026917e-02 1.42463848e-01\n",
            "  2.75557816e-01 4.92342532e-01]\n",
            " [8.28522570e-06 8.55380051e-07 7.17054936e-05 8.28892551e-03\n",
            "  3.07628955e-03 9.88554001e-01]\n",
            " [5.12187853e-02 2.23413832e-03 6.29320815e-02 4.78716880e-01\n",
            "  3.85006443e-02 3.66397470e-01]\n",
            " [1.29925504e-09 1.52354060e-10 2.32700288e-04 7.26511132e-07\n",
            "  3.49212714e-05 9.99731660e-01]\n",
            " [1.09611335e-06 1.02752189e-07 1.23678619e-04 2.15098099e-03\n",
            "  5.40645095e-04 9.97183561e-01]\n",
            " [2.74235815e-01 3.35727669e-02 2.15191036e-01 1.29347652e-01\n",
            "  9.90369320e-02 2.48615637e-01]\n",
            " [5.75320125e-01 3.54619741e-01 1.67909190e-02 2.60273945e-02\n",
            "  2.66553275e-02 5.86452719e-04]\n",
            " [2.81129539e-01 7.01150671e-02 2.01607108e-01 2.11905867e-01\n",
            "  1.65428221e-01 6.98142797e-02]\n",
            " [5.12519106e-02 1.48357544e-02 7.03465950e-04 6.21633604e-02\n",
            "  7.95867085e-01 7.51784220e-02]\n",
            " [6.96188181e-06 1.72346108e-06 2.74065059e-11 3.12399287e-02\n",
            "  6.75418735e-01 2.93332577e-01]\n",
            " [1.59436735e-11 9.68521692e-17 4.37328721e-13 2.37690518e-04\n",
            "  3.61498735e-07 9.99762058e-01]\n",
            " [4.18796111e-03 3.94110248e-05 2.60174065e-03 1.82535887e-01\n",
            "  7.25477329e-03 8.03380251e-01]\n",
            " [1.83079671e-02 5.96281432e-04 4.10029927e-04 8.65538239e-01\n",
            "  4.25596498e-02 7.25877658e-02]\n",
            " [1.48302399e-06 1.01779924e-05 5.93880500e-11 1.78348832e-02\n",
            "  9.81407106e-01 7.46244215e-04]\n",
            " [3.29286791e-02 1.81804560e-02 1.61662009e-02 5.28602362e-01\n",
            "  8.50749835e-02 3.19047302e-01]\n",
            " [3.78652680e-04 1.52940120e-05 1.06608612e-03 1.41537488e-01\n",
            "  2.77663954e-02 8.29236090e-01]\n",
            " [6.57648265e-01 1.50685338e-02 8.25128630e-02 1.65040955e-01\n",
            "  1.45559153e-02 6.51734993e-02]\n",
            " [2.12061238e-02 5.79230546e-04 4.08399075e-01 2.42808372e-01\n",
            "  7.57314544e-03 3.19434077e-01]\n",
            " [3.47983181e-01 8.04115906e-02 2.10070491e-01 4.78208065e-02\n",
            "  2.57824212e-01 5.58896847e-02]\n",
            " [1.60017541e-10 4.17326092e-16 4.79425610e-10 4.61756194e-04\n",
            "  9.67507731e-07 9.99537349e-01]\n",
            " [5.07650780e-04 4.12489896e-07 1.76680132e-05 1.95095763e-01\n",
            "  2.84321536e-03 8.01535308e-01]\n",
            " [3.75796072e-02 3.35587002e-03 9.18147624e-01 2.76389979e-02\n",
            "  3.01837409e-03 1.02595305e-02]]\n"
          ]
        },
        {
          "output_type": "execute_result",
          "data": {
            "text/plain": [
              "(116, 6)"
            ]
          },
          "metadata": {},
          "execution_count": 36
        }
      ],
      "source": [
        "print(prediccion)\n",
        "prediccion.shape"
      ]
    },
    {
      "cell_type": "markdown",
      "source": [
        "Generamos un informe de clasificación que resume las métricas de rendimiento del modelo"
      ],
      "metadata": {
        "id": "tmyCHhwTWLqH"
      }
    },
    {
      "cell_type": "code",
      "execution_count": 37,
      "metadata": {
        "colab": {
          "base_uri": "https://localhost:8080/"
        },
        "id": "DKLgPMm9Pvg2",
        "outputId": "26081eb7-ef88-469c-e562-42027ed538cb"
      },
      "outputs": [
        {
          "output_type": "stream",
          "name": "stdout",
          "text": [
            "              precision    recall  f1-score   support\n",
            "\n",
            "      Bishop       0.36      0.56      0.43        18\n",
            "        King       0.56      0.31      0.40        16\n",
            "      Knight       0.70      0.64      0.67        22\n",
            "        Pawn       0.35      0.32      0.33        22\n",
            "       Queen       0.37      0.41      0.39        17\n",
            "        Rook       0.40      0.38      0.39        21\n",
            "\n",
            "    accuracy                           0.44       116\n",
            "   macro avg       0.46      0.44      0.44       116\n",
            "weighted avg       0.46      0.44      0.44       116\n",
            "\n"
          ]
        }
      ],
      "source": [
        "LIST_FIGURES = ['Bishop', 'King', 'Knight', 'Pawn', 'Queen', 'Rook']\n",
        "informe = classification_report(np.argmax(y_t,axis=1), np.argmax(prediccion,axis=1), target_names=LIST_FIGURES)\n",
        "print(informe)"
      ]
    },
    {
      "cell_type": "markdown",
      "source": [
        "Mostramos la matriz de confusión mencionada anteriormente"
      ],
      "metadata": {
        "id": "hosfN9QeWPrq"
      }
    },
    {
      "cell_type": "code",
      "source": [
        "# Calcular la matriz de confusión para clasificación multi-label\n",
        "matriz_confusion = confusion_matrix(np.argmax(y_t,axis=1), np.argmax(prediccion,axis=1))\n",
        "\n",
        "# Crear una figura y ejes\n",
        "fig, ax = plt.subplots()\n",
        "im = ax.imshow(matriz_confusion, cmap='Blues')\n",
        "\n",
        "# Mostrar las etiquetas en los ejes\n",
        "ax.set_xticks(np.arange(len(LIST_FIGURES)))\n",
        "ax.set_yticks(np.arange(len(LIST_FIGURES)))\n",
        "ax.set_xticklabels(LIST_FIGURES)\n",
        "ax.set_yticklabels(LIST_FIGURES)\n",
        "\n",
        "# Rotar las etiquetas y ajustar la posición\n",
        "plt.setp(ax.get_xticklabels(), rotation=45, ha=\"right\", rotation_mode=\"anchor\")\n",
        "\n",
        "# Mostrar los valores en cada celda\n",
        "for i in range(len(LIST_FIGURES)):\n",
        "    for j in range(len(LIST_FIGURES)):\n",
        "        text = ax.text(j, i, matriz_confusion[i, j], ha=\"center\", va=\"center\", color=\"black\")\n",
        "\n",
        "plt.show()"
      ],
      "metadata": {
        "colab": {
          "base_uri": "https://localhost:8080/",
          "height": 459
        },
        "id": "4yeNiQUMXpSa",
        "outputId": "85626721-974e-4389-c79d-d910a553b496"
      },
      "execution_count": 38,
      "outputs": [
        {
          "output_type": "display_data",
          "data": {
            "text/plain": [
              "<Figure size 640x480 with 1 Axes>"
            ],
            "image/png": "[encoded data removed]"
          },
          "metadata": {}
        }
      ]
    },
    {
      "cell_type": "markdown",
      "source": [
        "# Conversión del notebook a PDF para su entrega"
      ],
      "metadata": {
        "id": "6JmKWtvxgJQu"
      }
    },
    {
      "cell_type": "code",
      "source": [
        "!apt-get install texlive texlive-xetex texlive-latex-extra pandoc\n",
        "!pip install pypandoc"
      ],
      "metadata": {
        "colab": {
          "base_uri": "https://localhost:8080/"
        },
        "outputId": "2b289ad9-b6a9-45a2-d0ce-26b7ac83f9c2",
        "id": "TDTeOvVcgDw3"
      },
      "execution_count": null,
      "outputs": [
        {
          "output_type": "stream",
          "name": "stdout",
          "text": [
            "Reading package lists... Done\n",
            "Building dependency tree... Done\n",
            "Reading state information... Done\n",
            "pandoc is already the newest version (2.9.2.1-3ubuntu2).\n",
            "pandoc set to manually installed.\n",
            "The following additional packages will be installed:\n",
            "  dvisvgm fonts-droid-fallback fonts-lato fonts-lmodern fonts-noto-mono fonts-texgyre\n",
            "  fonts-urw-base35 libapache-pom-java libcommons-logging-java libcommons-parent-java\n",
            "  libfontbox-java libfontenc1 libgs9 libgs9-common libidn12 libijs-0.35 libjbig2dec0 libkpathsea6\n",
            "  libpdfbox-java libptexenc1 libruby3.0 libsynctex2 libteckit0 libtexlua53 libtexluajit2 libwoff1\n",
            "  libzzip-0-13 lmodern poppler-data preview-latex-style rake ruby ruby-net-telnet ruby-rubygems\n",
            "  ruby-webrick ruby-xmlrpc ruby3.0 rubygems-integration t1utils teckit tex-common tex-gyre\n",
            "  texlive-base texlive-binaries texlive-fonts-recommended texlive-latex-base\n",
            "  texlive-latex-recommended texlive-pictures texlive-plain-generic tipa xfonts-encodings\n",
            "  xfonts-utils\n",
            "Suggested packages:\n",
            "  fonts-noto fonts-freefont-otf | fonts-freefont-ttf libavalon-framework-java\n",
            "  libcommons-logging-java-doc libexcalibur-logkit-java liblog4j1.2-java poppler-utils ghostscript\n",
            "  fonts-japanese-mincho | fonts-ipafont-mincho fonts-japanese-gothic | fonts-ipafont-gothic\n",
            "  fonts-arphic-ukai fonts-arphic-uming fonts-nanum ri ruby-dev bundler debhelper gv\n",
            "  | postscript-viewer perl-tk xpdf | pdf-viewer xzdec texlive-fonts-recommended-doc\n",
            "  texlive-latex-base-doc python3-pygments icc-profiles libfile-which-perl\n",
            "  libspreadsheet-parseexcel-perl texlive-latex-extra-doc texlive-latex-recommended-doc\n",
            "  texlive-luatex texlive-pstricks dot2tex prerex texlive-pictures-doc vprerex default-jre-headless\n",
            "  tipa-doc\n",
            "The following NEW packages will be installed:\n",
            "  dvisvgm fonts-droid-fallback fonts-lato fonts-lmodern fonts-noto-mono fonts-texgyre\n",
            "  fonts-urw-base35 libapache-pom-java libcommons-logging-java libcommons-parent-java\n",
            "  libfontbox-java libfontenc1 libgs9 libgs9-common libidn12 libijs-0.35 libjbig2dec0 libkpathsea6\n",
            "  libpdfbox-java libptexenc1 libruby3.0 libsynctex2 libteckit0 libtexlua53 libtexluajit2 libwoff1\n",
            "  libzzip-0-13 lmodern poppler-data preview-latex-style rake ruby ruby-net-telnet ruby-rubygems\n",
            "  ruby-webrick ruby-xmlrpc ruby3.0 rubygems-integration t1utils teckit tex-common tex-gyre texlive\n",
            "  texlive-base texlive-binaries texlive-fonts-recommended texlive-latex-base texlive-latex-extra\n",
            "  texlive-latex-recommended texlive-pictures texlive-plain-generic texlive-xetex tipa\n",
            "  xfonts-encodings xfonts-utils\n",
            "0 upgraded, 55 newly installed, 0 to remove and 38 not upgraded.\n",
            "Need to get 182 MB of archives.\n",
            "After this operation, 572 MB of additional disk space will be used.\n",
            "Get:1 http://security.ubuntu.com/ubuntu jammy-security/main amd64 libkpathsea6 amd64 2021.20210626.59705-1ubuntu0.2 [60.4 kB]\n",
            "Get:2 http://archive.ubuntu.com/ubuntu jammy/main amd64 fonts-droid-fallback all 1:6.0.1r16-1.1build1 [1,805 kB]\n",
            "Get:3 http://security.ubuntu.com/ubuntu jammy-security/main amd64 libptexenc1 amd64 2021.20210626.59705-1ubuntu0.2 [39.1 kB]\n",
            "Get:4 http://security.ubuntu.com/ubuntu jammy-security/main amd64 libsynctex2 amd64 2021.20210626.59705-1ubuntu0.2 [55.6 kB]\n",
            "Get:5 http://security.ubuntu.com/ubuntu jammy-security/main amd64 libtexlua53 amd64 2021.20210626.59705-1ubuntu0.2 [120 kB]\n",
            "Get:6 http://security.ubuntu.com/ubuntu jammy-security/main amd64 libtexluajit2 amd64 2021.20210626.59705-1ubuntu0.2 [267 kB]\n",
            "Get:7 http://security.ubuntu.com/ubuntu jammy-security/universe amd64 texlive-binaries amd64 2021.20210626.59705-1ubuntu0.2 [9,860 kB]\n",
            "Get:8 http://archive.ubuntu.com/ubuntu jammy/main amd64 fonts-lato all 2.0-2.1 [2,696 kB]\n",
            "Get:9 http://archive.ubuntu.com/ubuntu jammy/main amd64 poppler-data all 0.4.11-1 [2,171 kB]\n",
            "Get:10 http://archive.ubuntu.com/ubuntu jammy/universe amd64 tex-common all 6.17 [33.7 kB]\n",
            "Get:11 http://archive.ubuntu.com/ubuntu jammy/main amd64 fonts-urw-base35 all 20200910-1 [6,367 kB]\n",
            "Get:12 http://archive.ubuntu.com/ubuntu jammy-updates/main amd64 libgs9-common all 9.55.0~dfsg1-0ubuntu5.6 [751 kB]\n",
            "Get:13 http://archive.ubuntu.com/ubuntu jammy-updates/main amd64 libidn12 amd64 1.38-4ubuntu1 [60.0 kB]\n",
            "Get:14 http://archive.ubuntu.com/ubuntu jammy/main amd64 libijs-0.35 amd64 0.35-15build2 [16.5 kB]\n",
            "Get:15 http://archive.ubuntu.com/ubuntu jammy/main amd64 libjbig2dec0 amd64 0.19-3build2 [64.7 kB]\n",
            "Get:16 http://archive.ubuntu.com/ubuntu jammy-updates/main amd64 libgs9 amd64 9.55.0~dfsg1-0ubuntu5.6 [5,031 kB]\n",
            "Get:17 http://archive.ubuntu.com/ubuntu jammy/main amd64 libwoff1 amd64 1.0.2-1build4 [45.2 kB]\n",
            "Get:18 http://archive.ubuntu.com/ubuntu jammy/universe amd64 dvisvgm amd64 2.13.1-1 [1,221 kB]\n",
            "Get:19 http://archive.ubuntu.com/ubuntu jammy/universe amd64 fonts-lmodern all 2.004.5-6.1 [4,532 kB]\n",
            "Get:20 http://archive.ubuntu.com/ubuntu jammy/main amd64 fonts-noto-mono all 20201225-1build1 [397 kB]\n",
            "Get:21 http://archive.ubuntu.com/ubuntu jammy/universe amd64 fonts-texgyre all 20180621-3.1 [10.2 MB]\n",
            "Get:22 http://archive.ubuntu.com/ubuntu jammy/universe amd64 libapache-pom-java all 18-1 [4,720 B]\n",
            "Get:23 http://archive.ubuntu.com/ubuntu jammy/universe amd64 libcommons-parent-java all 43-1 [10.8 kB]\n",
            "Get:24 http://archive.ubuntu.com/ubuntu jammy/universe amd64 libcommons-logging-java all 1.2-2 [60.3 kB]\n",
            "Get:25 http://archive.ubuntu.com/ubuntu jammy/main amd64 libfontenc1 amd64 1:1.1.4-1build3 [14.7 kB]\n",
            "Get:26 http://archive.ubuntu.com/ubuntu jammy/main amd64 rubygems-integration all 1.18 [5,336 B]\n",
            "Get:27 http://archive.ubuntu.com/ubuntu jammy-updates/main amd64 ruby3.0 amd64 3.0.2-7ubuntu2.4 [50.1 kB]\n",
            "Get:28 http://archive.ubuntu.com/ubuntu jammy/main amd64 ruby-rubygems all 3.3.5-2 [228 kB]\n",
            "Get:29 http://archive.ubuntu.com/ubuntu jammy/main amd64 ruby amd64 1:3.0~exp1 [5,100 B]\n",
            "Get:30 http://archive.ubuntu.com/ubuntu jammy/main amd64 rake all 13.0.6-2 [61.7 kB]\n",
            "Get:31 http://archive.ubuntu.com/ubuntu jammy/main amd64 ruby-net-telnet all 0.1.1-2 [12.6 kB]\n",
            "Get:32 http://archive.ubuntu.com/ubuntu jammy/universe amd64 ruby-webrick all 1.7.0-3 [51.8 kB]\n",
            "Get:33 http://archive.ubuntu.com/ubuntu jammy-updates/main amd64 ruby-xmlrpc all 0.3.2-1ubuntu0.1 [24.9 kB]\n",
            "Get:34 http://archive.ubuntu.com/ubuntu jammy-updates/main amd64 libruby3.0 amd64 3.0.2-7ubuntu2.4 [5,113 kB]\n",
            "Get:35 http://archive.ubuntu.com/ubuntu jammy/universe amd64 libteckit0 amd64 2.5.11+ds1-1 [421 kB]\n",
            "Get:36 http://archive.ubuntu.com/ubuntu jammy/universe amd64 libzzip-0-13 amd64 0.13.72+dfsg.1-1.1 [27.0 kB]\n",
            "Get:37 http://archive.ubuntu.com/ubuntu jammy/main amd64 xfonts-encodings all 1:1.0.5-0ubuntu2 [578 kB]\n",
            "Get:38 http://archive.ubuntu.com/ubuntu jammy/main amd64 xfonts-utils amd64 1:7.7+6build2 [94.6 kB]\n",
            "Get:39 http://archive.ubuntu.com/ubuntu jammy/universe amd64 lmodern all 2.004.5-6.1 [9,471 kB]\n",
            "Get:40 http://archive.ubuntu.com/ubuntu jammy/universe amd64 preview-latex-style all 12.2-1ubuntu1 [185 kB]\n",
            "Get:41 http://archive.ubuntu.com/ubuntu jammy/main amd64 t1utils amd64 1.41-4build2 [61.3 kB]\n",
            "Get:42 http://archive.ubuntu.com/ubuntu jammy/universe amd64 teckit amd64 2.5.11+ds1-1 [699 kB]\n",
            "Get:43 http://archive.ubuntu.com/ubuntu jammy/universe amd64 tex-gyre all 20180621-3.1 [6,209 kB]\n",
            "Get:44 http://archive.ubuntu.com/ubuntu jammy/universe amd64 texlive-base all 2021.20220204-1 [21.0 MB]\n",
            "Get:45 http://archive.ubuntu.com/ubuntu jammy/universe amd64 texlive-fonts-recommended all 2021.20220204-1 [4,972 kB]\n",
            "Get:46 http://archive.ubuntu.com/ubuntu jammy/universe amd64 texlive-latex-base all 2021.20220204-1 [1,128 kB]\n",
            "Get:47 http://archive.ubuntu.com/ubuntu jammy/universe amd64 texlive-latex-recommended all 2021.20220204-1 [14.4 MB]\n",
            "Get:48 http://archive.ubuntu.com/ubuntu jammy/universe amd64 texlive all 2021.20220204-1 [14.3 kB]\n",
            "Get:49 http://archive.ubuntu.com/ubuntu jammy/universe amd64 libfontbox-java all 1:1.8.16-2 [207 kB]\n",
            "Get:50 http://archive.ubuntu.com/ubuntu jammy/universe amd64 libpdfbox-java all 1:1.8.16-2 [5,199 kB]\n",
            "Get:51 http://archive.ubuntu.com/ubuntu jammy/universe amd64 texlive-pictures all 2021.20220204-1 [8,720 kB]\n",
            "Get:52 http://archive.ubuntu.com/ubuntu jammy/universe amd64 texlive-latex-extra all 2021.20220204-1 [13.9 MB]\n",
            "Get:53 http://archive.ubuntu.com/ubuntu jammy/universe amd64 texlive-plain-generic all 2021.20220204-1 [27.5 MB]\n",
            "Get:54 http://archive.ubuntu.com/ubuntu jammy/universe amd64 tipa all 2:1.3-21 [2,967 kB]\n",
            "Get:55 http://archive.ubuntu.com/ubuntu jammy/universe amd64 texlive-xetex all 2021.20220204-1 [12.4 MB]\n",
            "Fetched 182 MB in 7s (25.5 MB/s)\n",
            "Extracting templates from packages: 100%\n",
            "Preconfiguring packages ...\n",
            "Selecting previously unselected package fonts-droid-fallback.\n",
            "(Reading database ... 121752 files and directories currently installed.)\n",
            "Preparing to unpack .../00-fonts-droid-fallback_1%3a6.0.1r16-1.1build1_all.deb ...\n",
            "Unpacking fonts-droid-fallback (1:6.0.1r16-1.1build1) ...\n",
            "Selecting previously unselected package fonts-lato.\n",
            "Preparing to unpack .../01-fonts-lato_2.0-2.1_all.deb ...\n",
            "Unpacking fonts-lato (2.0-2.1) ...\n",
            "Selecting previously unselected package poppler-data.\n",
            "Preparing to unpack .../02-poppler-data_0.4.11-1_all.deb ...\n",
            "Unpacking poppler-data (0.4.11-1) ...\n",
            "Selecting previously unselected package tex-common.\n",
            "Preparing to unpack .../03-tex-common_6.17_all.deb ...\n",
            "Unpacking tex-common (6.17) ...\n",
            "Selecting previously unselected package fonts-urw-base35.\n",
            "Preparing to unpack .../04-fonts-urw-base35_20200910-1_all.deb ...\n",
            "Unpacking fonts-urw-base35 (20200910-1) ...\n",
            "Selecting previously unselected package libgs9-common.\n",
            "Preparing to unpack .../05-libgs9-common_9.55.0~dfsg1-0ubuntu5.6_all.deb ...\n",
            "Unpacking libgs9-common (9.55.0~dfsg1-0ubuntu5.6) ...\n",
            "Selecting previously unselected package libidn12:amd64.\n",
            "Preparing to unpack .../06-libidn12_1.38-4ubuntu1_amd64.deb ...\n",
            "Unpacking libidn12:amd64 (1.38-4ubuntu1) ...\n",
            "Selecting previously unselected package libijs-0.35:amd64.\n",
            "Preparing to unpack .../07-libijs-0.35_0.35-15build2_amd64.deb ...\n",
            "Unpacking libijs-0.35:amd64 (0.35-15build2) ...\n",
            "Selecting previously unselected package libjbig2dec0:amd64.\n",
            "Preparing to unpack .../08-libjbig2dec0_0.19-3build2_amd64.deb ...\n",
            "Unpacking libjbig2dec0:amd64 (0.19-3build2) ...\n",
            "Selecting previously unselected package libgs9:amd64.\n",
            "Preparing to unpack .../09-libgs9_9.55.0~dfsg1-0ubuntu5.6_amd64.deb ...\n",
            "Unpacking libgs9:amd64 (9.55.0~dfsg1-0ubuntu5.6) ...\n",
            "Selecting previously unselected package libkpathsea6:amd64.\n",
            "Preparing to unpack .../10-libkpathsea6_2021.20210626.59705-1ubuntu0.2_amd64.deb ...\n",
            "Unpacking libkpathsea6:amd64 (2021.20210626.59705-1ubuntu0.2) ...\n",
            "Selecting previously unselected package libwoff1:amd64.\n",
            "Preparing to unpack .../11-libwoff1_1.0.2-1build4_amd64.deb ...\n",
            "Unpacking libwoff1:amd64 (1.0.2-1build4) ...\n",
            "Selecting previously unselected package dvisvgm.\n",
            "Preparing to unpack .../12-dvisvgm_2.13.1-1_amd64.deb ...\n",
            "Unpacking dvisvgm (2.13.1-1) ...\n",
            "Selecting previously unselected package fonts-lmodern.\n",
            "Preparing to unpack .../13-fonts-lmodern_2.004.5-6.1_all.deb ...\n",
            "Unpacking fonts-lmodern (2.004.5-6.1) ...\n",
            "Selecting previously unselected package fonts-noto-mono.\n",
            "Preparing to unpack .../14-fonts-noto-mono_20201225-1build1_all.deb ...\n",
            "Unpacking fonts-noto-mono (20201225-1build1) ...\n",
            "Selecting previously unselected package fonts-texgyre.\n",
            "Preparing to unpack .../15-fonts-texgyre_20180621-3.1_all.deb ...\n",
            "Unpacking fonts-texgyre (20180621-3.1) ...\n",
            "Selecting previously unselected package libapache-pom-java.\n",
            "Preparing to unpack .../16-libapache-pom-java_18-1_all.deb ...\n",
            "Unpacking libapache-pom-java (18-1) ...\n",
            "Selecting previously unselected package libcommons-parent-java.\n",
            "Preparing to unpack .../17-libcommons-parent-java_43-1_all.deb ...\n",
            "Unpacking libcommons-parent-java (43-1) ...\n",
            "Selecting previously unselected package libcommons-logging-java.\n",
            "Preparing to unpack .../18-libcommons-logging-java_1.2-2_all.deb ...\n",
            "Unpacking libcommons-logging-java (1.2-2) ...\n",
            "Selecting previously unselected package libfontenc1:amd64.\n",
            "Preparing to unpack .../19-libfontenc1_1%3a1.1.4-1build3_amd64.deb ...\n",
            "Unpacking libfontenc1:amd64 (1:1.1.4-1build3) ...\n",
            "Selecting previously unselected package libptexenc1:amd64.\n",
            "Preparing to unpack .../20-libptexenc1_2021.20210626.59705-1ubuntu0.2_amd64.deb ...\n",
            "Unpacking libptexenc1:amd64 (2021.20210626.59705-1ubuntu0.2) ...\n",
            "Selecting previously unselected package rubygems-integration.\n",
            "Preparing to unpack .../21-rubygems-integration_1.18_all.deb ...\n",
            "Unpacking rubygems-integration (1.18) ...\n",
            "Selecting previously unselected package ruby3.0.\n",
            "Preparing to unpack .../22-ruby3.0_3.0.2-7ubuntu2.4_amd64.deb ...\n",
            "Unpacking ruby3.0 (3.0.2-7ubuntu2.4) ...\n",
            "Selecting previously unselected package ruby-rubygems.\n",
            "Preparing to unpack .../23-ruby-rubygems_3.3.5-2_all.deb ...\n",
            "Unpacking ruby-rubygems (3.3.5-2) ...\n",
            "Selecting previously unselected package ruby.\n",
            "Preparing to unpack .../24-ruby_1%3a3.0~exp1_amd64.deb ...\n",
            "Unpacking ruby (1:3.0~exp1) ...\n",
            "Selecting previously unselected package rake.\n",
            "Preparing to unpack .../25-rake_13.0.6-2_all.deb ...\n",
            "Unpacking rake (13.0.6-2) ...\n",
            "Selecting previously unselected package ruby-net-telnet.\n",
            "Preparing to unpack .../26-ruby-net-telnet_0.1.1-2_all.deb ...\n",
            "Unpacking ruby-net-telnet (0.1.1-2) ...\n",
            "Selecting previously unselected package ruby-webrick.\n",
            "Preparing to unpack .../27-ruby-webrick_1.7.0-3_all.deb ...\n",
            "Unpacking ruby-webrick (1.7.0-3) ...\n",
            "Selecting previously unselected package ruby-xmlrpc.\n",
            "Preparing to unpack .../28-ruby-xmlrpc_0.3.2-1ubuntu0.1_all.deb ...\n",
            "Unpacking ruby-xmlrpc (0.3.2-1ubuntu0.1) ...\n",
            "Selecting previously unselected package libruby3.0:amd64.\n",
            "Preparing to unpack .../29-libruby3.0_3.0.2-7ubuntu2.4_amd64.deb ...\n",
            "Unpacking libruby3.0:amd64 (3.0.2-7ubuntu2.4) ...\n",
            "Selecting previously unselected package libsynctex2:amd64.\n",
            "Preparing to unpack .../30-libsynctex2_2021.20210626.59705-1ubuntu0.2_amd64.deb ...\n",
            "Unpacking libsynctex2:amd64 (2021.20210626.59705-1ubuntu0.2) ...\n",
            "Selecting previously unselected package libteckit0:amd64.\n",
            "Preparing to unpack .../31-libteckit0_2.5.11+ds1-1_amd64.deb ...\n",
            "Unpacking libteckit0:amd64 (2.5.11+ds1-1) ...\n",
            "Selecting previously unselected package libtexlua53:amd64.\n",
            "Preparing to unpack .../32-libtexlua53_2021.20210626.59705-1ubuntu0.2_amd64.deb ...\n",
            "Unpacking libtexlua53:amd64 (2021.20210626.59705-1ubuntu0.2) ...\n",
            "Selecting previously unselected package libtexluajit2:amd64.\n",
            "Preparing to unpack .../33-libtexluajit2_2021.20210626.59705-1ubuntu0.2_amd64.deb ...\n",
            "Unpacking libtexluajit2:amd64 (2021.20210626.59705-1ubuntu0.2) ...\n",
            "Selecting previously unselected package libzzip-0-13:amd64.\n",
            "Preparing to unpack .../34-libzzip-0-13_0.13.72+dfsg.1-1.1_amd64.deb ...\n",
            "Unpacking libzzip-0-13:amd64 (0.13.72+dfsg.1-1.1) ...\n",
            "Selecting previously unselected package xfonts-encodings.\n",
            "Preparing to unpack .../35-xfonts-encodings_1%3a1.0.5-0ubuntu2_all.deb ...\n",
            "Unpacking xfonts-encodings (1:1.0.5-0ubuntu2) ...\n",
            "Selecting previously unselected package xfonts-utils.\n",
            "Preparing to unpack .../36-xfonts-utils_1%3a7.7+6build2_amd64.deb ...\n",
            "Unpacking xfonts-utils (1:7.7+6build2) ...\n",
            "Selecting previously unselected package lmodern.\n",
            "Preparing to unpack .../37-lmodern_2.004.5-6.1_all.deb ...\n",
            "Unpacking lmodern (2.004.5-6.1) ...\n",
            "Selecting previously unselected package preview-latex-style.\n",
            "Preparing to unpack .../38-preview-latex-style_12.2-1ubuntu1_all.deb ...\n",
            "Unpacking preview-latex-style (12.2-1ubuntu1) ...\n",
            "Selecting previously unselected package t1utils.\n",
            "Preparing to unpack .../39-t1utils_1.41-4build2_amd64.deb ...\n",
            "Unpacking t1utils (1.41-4build2) ...\n",
            "Selecting previously unselected package teckit.\n",
            "Preparing to unpack .../40-teckit_2.5.11+ds1-1_amd64.deb ...\n",
            "Unpacking teckit (2.5.11+ds1-1) ...\n",
            "Selecting previously unselected package tex-gyre.\n",
            "Preparing to unpack .../41-tex-gyre_20180621-3.1_all.deb ...\n",
            "Unpacking tex-gyre (20180621-3.1) ...\n",
            "Selecting previously unselected package texlive-binaries.\n",
            "Preparing to unpack .../42-texlive-binaries_2021.20210626.59705-1ubuntu0.2_amd64.deb ...\n",
            "Unpacking texlive-binaries (2021.20210626.59705-1ubuntu0.2) ...\n",
            "Selecting previously unselected package texlive-base.\n",
            "Preparing to unpack .../43-texlive-base_2021.20220204-1_all.deb ...\n",
            "Unpacking texlive-base (2021.20220204-1) ...\n",
            "Selecting previously unselected package texlive-fonts-recommended.\n",
            "Preparing to unpack .../44-texlive-fonts-recommended_2021.20220204-1_all.deb ...\n",
            "Unpacking texlive-fonts-recommended (2021.20220204-1) ...\n",
            "Selecting previously unselected package texlive-latex-base.\n",
            "Preparing to unpack .../45-texlive-latex-base_2021.20220204-1_all.deb ...\n",
            "Unpacking texlive-latex-base (2021.20220204-1) ...\n",
            "Selecting previously unselected package texlive-latex-recommended.\n",
            "Preparing to unpack .../46-texlive-latex-recommended_2021.20220204-1_all.deb ...\n",
            "Unpacking texlive-latex-recommended (2021.20220204-1) ...\n",
            "Selecting previously unselected package texlive.\n",
            "Preparing to unpack .../47-texlive_2021.20220204-1_all.deb ...\n",
            "Unpacking texlive (2021.20220204-1) ...\n",
            "Selecting previously unselected package libfontbox-java.\n",
            "Preparing to unpack .../48-libfontbox-java_1%3a1.8.16-2_all.deb ...\n",
            "Unpacking libfontbox-java (1:1.8.16-2) ...\n",
            "Selecting previously unselected package libpdfbox-java.\n",
            "Preparing to unpack .../49-libpdfbox-java_1%3a1.8.16-2_all.deb ...\n",
            "Unpacking libpdfbox-java (1:1.8.16-2) ...\n",
            "Selecting previously unselected package texlive-pictures.\n",
            "Preparing to unpack .../50-texlive-pictures_2021.20220204-1_all.deb ...\n",
            "Unpacking texlive-pictures (2021.20220204-1) ...\n",
            "Selecting previously unselected package texlive-latex-extra.\n",
            "Preparing to unpack .../51-texlive-latex-extra_2021.20220204-1_all.deb ...\n",
            "Unpacking texlive-latex-extra (2021.20220204-1) ...\n",
            "Selecting previously unselected package texlive-plain-generic.\n",
            "Preparing to unpack .../52-texlive-plain-generic_2021.20220204-1_all.deb ...\n",
            "Unpacking texlive-plain-generic (2021.20220204-1) ...\n",
            "Selecting previously unselected package tipa.\n",
            "Preparing to unpack .../53-tipa_2%3a1.3-21_all.deb ...\n",
            "Unpacking tipa (2:1.3-21) ...\n",
            "Selecting previously unselected package texlive-xetex.\n",
            "Preparing to unpack .../54-texlive-xetex_2021.20220204-1_all.deb ...\n",
            "Unpacking texlive-xetex (2021.20220204-1) ...\n",
            "Setting up fonts-lato (2.0-2.1) ...\n",
            "Setting up fonts-noto-mono (20201225-1build1) ...\n",
            "Setting up libwoff1:amd64 (1.0.2-1build4) ...\n",
            "Setting up libtexlua53:amd64 (2021.20210626.59705-1ubuntu0.2) ...\n",
            "Setting up libijs-0.35:amd64 (0.35-15build2) ...\n",
            "Setting up libtexluajit2:amd64 (2021.20210626.59705-1ubuntu0.2) ...\n",
            "Setting up libfontbox-java (1:1.8.16-2) ...\n",
            "Setting up rubygems-integration (1.18) ...\n",
            "Setting up libzzip-0-13:amd64 (0.13.72+dfsg.1-1.1) ...\n",
            "Setting up fonts-urw-base35 (20200910-1) ...\n",
            "Setting up poppler-data (0.4.11-1) ...\n",
            "Setting up tex-common (6.17) ...\n",
            "update-language: texlive-base not installed and configured, doing nothing!\n",
            "Setting up libfontenc1:amd64 (1:1.1.4-1build3) ...\n",
            "Setting up libjbig2dec0:amd64 (0.19-3build2) ...\n",
            "Setting up libteckit0:amd64 (2.5.11+ds1-1) ...\n",
            "Setting up libapache-pom-java (18-1) ...\n",
            "Setting up ruby-net-telnet (0.1.1-2) ...\n",
            "Setting up xfonts-encodings (1:1.0.5-0ubuntu2) ...\n",
            "Setting up t1utils (1.41-4build2) ...\n",
            "Setting up libidn12:amd64 (1.38-4ubuntu1) ...\n",
            "Setting up fonts-texgyre (20180621-3.1) ...\n",
            "Setting up libkpathsea6:amd64 (2021.20210626.59705-1ubuntu0.2) ...\n",
            "Setting up ruby-webrick (1.7.0-3) ...\n",
            "Setting up fonts-lmodern (2.004.5-6.1) ...\n",
            "Setting up fonts-droid-fallback (1:6.0.1r16-1.1build1) ...\n",
            "Setting up ruby-xmlrpc (0.3.2-1ubuntu0.1) ...\n",
            "Setting up libsynctex2:amd64 (2021.20210626.59705-1ubuntu0.2) ...\n",
            "Setting up libgs9-common (9.55.0~dfsg1-0ubuntu5.6) ...\n",
            "Setting up teckit (2.5.11+ds1-1) ...\n",
            "Setting up libpdfbox-java (1:1.8.16-2) ...\n",
            "Setting up libgs9:amd64 (9.55.0~dfsg1-0ubuntu5.6) ...\n",
            "Setting up preview-latex-style (12.2-1ubuntu1) ...\n",
            "Setting up libcommons-parent-java (43-1) ...\n",
            "Setting up dvisvgm (2.13.1-1) ...\n",
            "Setting up libcommons-logging-java (1.2-2) ...\n",
            "Setting up xfonts-utils (1:7.7+6build2) ...\n",
            "Setting up libptexenc1:amd64 (2021.20210626.59705-1ubuntu0.2) ...\n",
            "Setting up texlive-binaries (2021.20210626.59705-1ubuntu0.2) ...\n",
            "update-alternatives: using /usr/bin/xdvi-xaw to provide /usr/bin/xdvi.bin (xdvi.bin) in auto mode\n",
            "update-alternatives: using /usr/bin/bibtex.original to provide /usr/bin/bibtex (bibtex) in auto mode\n",
            "Setting up lmodern (2.004.5-6.1) ...\n",
            "Setting up texlive-base (2021.20220204-1) ...\n",
            "/usr/bin/ucfr\n",
            "/usr/bin/ucfr\n",
            "/usr/bin/ucfr\n",
            "/usr/bin/ucfr\n",
            "mktexlsr: Updating /var/lib/texmf/ls-R-TEXLIVEDIST... \n",
            "mktexlsr: Updating /var/lib/texmf/ls-R-TEXMFMAIN... \n",
            "mktexlsr: Updating /var/lib/texmf/ls-R... \n",
            "mktexlsr: Done.\n",
            "tl-paper: setting paper size for dvips to a4: /var/lib/texmf/dvips/config/config-paper.ps\n",
            "tl-paper: setting paper size for dvipdfmx to a4: /var/lib/texmf/dvipdfmx/dvipdfmx-paper.cfg\n",
            "tl-paper: setting paper size for xdvi to a4: /var/lib/texmf/xdvi/XDvi-paper\n",
            "tl-paper: setting paper size for pdftex to a4: /var/lib/texmf/tex/generic/tex-ini-files/pdftexconfig.tex\n",
            "Setting up tex-gyre (20180621-3.1) ...\n",
            "Setting up texlive-plain-generic (2021.20220204-1) ...\n",
            "Setting up texlive-latex-base (2021.20220204-1) ...\n",
            "Setting up texlive-latex-recommended (2021.20220204-1) ...\n",
            "Setting up texlive-pictures (2021.20220204-1) ...\n",
            "Setting up texlive-fonts-recommended (2021.20220204-1) ...\n",
            "Setting up tipa (2:1.3-21) ...\n",
            "Setting up texlive (2021.20220204-1) ...\n",
            "Setting up texlive-latex-extra (2021.20220204-1) ...\n",
            "Setting up texlive-xetex (2021.20220204-1) ...\n",
            "Setting up rake (13.0.6-2) ...\n",
            "Setting up libruby3.0:amd64 (3.0.2-7ubuntu2.4) ...\n",
            "Setting up ruby3.0 (3.0.2-7ubuntu2.4) ...\n",
            "Setting up ruby (1:3.0~exp1) ...\n",
            "Setting up ruby-rubygems (3.3.5-2) ...\n",
            "Processing triggers for man-db (2.10.2-1) ...\n",
            "Processing triggers for fontconfig (2.13.1-4.2ubuntu5) ...\n",
            "Processing triggers for libc-bin (2.35-0ubuntu3.4) ...\n",
            "/sbin/ldconfig.real: /usr/local/lib/libtbbmalloc.so.2 is not a symbolic link\n",
            "\n",
            "/sbin/ldconfig.real: /usr/local/lib/libtbb.so.12 is not a symbolic link\n",
            "\n",
            "/sbin/ldconfig.real: /usr/local/lib/libtbbbind_2_0.so.3 is not a symbolic link\n",
            "\n",
            "/sbin/ldconfig.real: /usr/local/lib/libtbbbind.so.3 is not a symbolic link\n",
            "\n",
            "/sbin/ldconfig.real: /usr/local/lib/libtbbbind_2_5.so.3 is not a symbolic link\n",
            "\n",
            "/sbin/ldconfig.real: /usr/local/lib/libtbbmalloc_proxy.so.2 is not a symbolic link\n",
            "\n",
            "Processing triggers for tex-common (6.17) ...\n",
            "Running updmap-sys. This may take some time... done.\n",
            "Running mktexlsr /var/lib/texmf ... done.\n",
            "Building format(s) --all.\n",
            "\tThis may take some time... done.\n",
            "Collecting pypandoc\n",
            "  Downloading pypandoc-1.13-py3-none-any.whl (21 kB)\n",
            "Installing collected packages: pypandoc\n",
            "Successfully installed pypandoc-1.13\n"
          ]
        }
      ]
    },
    {
      "cell_type": "code",
      "source": [
        "from google.colab import drive\n",
        "drive.mount('/content/drive')"
      ],
      "metadata": {
        "colab": {
          "base_uri": "https://localhost:8080/"
        },
        "id": "46MvKTdpfCv2",
        "outputId": "1ac1d5d1-a781-4c22-c3ef-a67d667b0892"
      },
      "execution_count": null,
      "outputs": [
        {
          "output_type": "stream",
          "name": "stdout",
          "text": [
            "Mounted at /content/drive\n"
          ]
        }
      ]
    },
    {
      "cell_type": "code",
      "source": [
        "!cp \"/content/drive/MyDrive/CURSO IA/7RO/TAREAS/TAREA 6 CNN (Chess Data Set)/7RO_TAREA_6_23-24_CNN_ChessDataSet_AaronMedinaMelian.ipynb\" ./"
      ],
      "metadata": {
        "id": "pUbPbyUCfdYe",
        "colab": {
          "base_uri": "https://localhost:8080/"
        },
        "outputId": "d5e2243e-7d28-47e9-cea9-5e205a2ec338"
      },
      "execution_count": null,
      "outputs": [
        {
          "output_type": "stream",
          "name": "stdout",
          "text": [
            "cp: cannot stat '/content/drive/MyDrive/CURSO IA/7RO/TAREAS/TAREA 6 CNN (Chess Data Set)/TAREA_CNN.ipynb': No such file or directory\n"
          ]
        }
      ]
    },
    {
      "cell_type": "code",
      "source": [
        "!jupyter nbconvert --to PDF \"TAREA 6 (23-24) CNN Chess Data Set.ipynb\""
      ],
      "metadata": {
        "colab": {
          "base_uri": "https://localhost:8080/"
        },
        "id": "FEvIyxxxfMj-",
        "outputId": "40651f82-974c-4703-8981-3ebde5912ecb"
      },
      "execution_count": null,
      "outputs": [
        {
          "output_type": "stream",
          "name": "stdout",
          "text": [
            "[NbConvertApp] WARNING | pattern 'TAREA_CNN.ipynb' matched no files\n",
            "This application is used to convert notebook files (*.ipynb)\n",
            "        to various other formats.\n",
            "\n",
            "        WARNING: THE COMMANDLINE INTERFACE MAY CHANGE IN FUTURE RELEASES.\n",
            "\n",
            "Options\n",
            "=======\n",
            "The options below are convenience aliases to configurable class-options,\n",
            "as listed in the \"Equivalent to\" description-line of the aliases.\n",
            "To see all configurable class-options for some <cmd>, use:\n",
            "    <cmd> --help-all\n",
            "\n",
            "--debug\n",
            "    set log level to logging.DEBUG (maximize logging output)\n",
            "    Equivalent to: [--Application.log_level=10]\n",
            "--show-config\n",
            "    Show the application's configuration (human-readable format)\n",
            "    Equivalent to: [--Application.show_config=True]\n",
            "--show-config-json\n",
            "    Show the application's configuration (json format)\n",
            "    Equivalent to: [--Application.show_config_json=True]\n",
            "--generate-config\n",
            "    generate default config file\n",
            "    Equivalent to: [--JupyterApp.generate_config=True]\n",
            "-y\n",
            "    Answer yes to any questions instead of prompting.\n",
            "    Equivalent to: [--JupyterApp.answer_yes=True]\n",
            "--execute\n",
            "    Execute the notebook prior to export.\n",
            "    Equivalent to: [--ExecutePreprocessor.enabled=True]\n",
            "--allow-errors\n",
            "    Continue notebook execution even if one of the cells throws an error and include the error message in the cell output (the default behaviour is to abort conversion). This flag is only relevant if '--execute' was specified, too.\n",
            "    Equivalent to: [--ExecutePreprocessor.allow_errors=True]\n",
            "--stdin\n",
            "    read a single notebook file from stdin. Write the resulting notebook with default basename 'notebook.*'\n",
            "    Equivalent to: [--NbConvertApp.from_stdin=True]\n",
            "--stdout\n",
            "    Write notebook output to stdout instead of files.\n",
            "    Equivalent to: [--NbConvertApp.writer_class=StdoutWriter]\n",
            "--inplace\n",
            "    Run nbconvert in place, overwriting the existing notebook (only\n",
            "            relevant when converting to notebook format)\n",
            "    Equivalent to: [--NbConvertApp.use_output_suffix=False --NbConvertApp.export_format=notebook --FilesWriter.build_directory=]\n",
            "--clear-output\n",
            "    Clear output of current file and save in place,\n",
            "            overwriting the existing notebook.\n",
            "    Equivalent to: [--NbConvertApp.use_output_suffix=False --NbConvertApp.export_format=notebook --FilesWriter.build_directory= --ClearOutputPreprocessor.enabled=True]\n",
            "--no-prompt\n",
            "    Exclude input and output prompts from converted document.\n",
            "    Equivalent to: [--TemplateExporter.exclude_input_prompt=True --TemplateExporter.exclude_output_prompt=True]\n",
            "--no-input\n",
            "    Exclude input cells and output prompts from converted document.\n",
            "            This mode is ideal for generating code-free reports.\n",
            "    Equivalent to: [--TemplateExporter.exclude_output_prompt=True --TemplateExporter.exclude_input=True --TemplateExporter.exclude_input_prompt=True]\n",
            "--allow-chromium-download\n",
            "    Whether to allow downloading chromium if no suitable version is found on the system.\n",
            "    Equivalent to: [--WebPDFExporter.allow_chromium_download=True]\n",
            "--disable-chromium-sandbox\n",
            "    Disable chromium security sandbox when converting to PDF..\n",
            "    Equivalent to: [--WebPDFExporter.disable_sandbox=True]\n",
            "--show-input\n",
            "    Shows code input. This flag is only useful for dejavu users.\n",
            "    Equivalent to: [--TemplateExporter.exclude_input=False]\n",
            "--embed-images\n",
            "    Embed the images as base64 dataurls in the output. This flag is only useful for the HTML/WebPDF/Slides exports.\n",
            "    Equivalent to: [--HTMLExporter.embed_images=True]\n",
            "--sanitize-html\n",
            "    Whether the HTML in Markdown cells and cell outputs should be sanitized..\n",
            "    Equivalent to: [--HTMLExporter.sanitize_html=True]\n",
            "--log-level=<Enum>\n",
            "    Set the log level by value or name.\n",
            "    Choices: any of [0, 10, 20, 30, 40, 50, 'DEBUG', 'INFO', 'WARN', 'ERROR', 'CRITICAL']\n",
            "    Default: 30\n",
            "    Equivalent to: [--Application.log_level]\n",
            "--config=<Unicode>\n",
            "    Full path of a config file.\n",
            "    Default: ''\n",
            "    Equivalent to: [--JupyterApp.config_file]\n",
            "--to=<Unicode>\n",
            "    The export format to be used, either one of the built-in formats\n",
            "            ['asciidoc', 'custom', 'html', 'latex', 'markdown', 'notebook', 'pdf', 'python', 'rst', 'script', 'slides', 'webpdf']\n",
            "            or a dotted object name that represents the import path for an\n",
            "            ``Exporter`` class\n",
            "    Default: ''\n",
            "    Equivalent to: [--NbConvertApp.export_format]\n",
            "--template=<Unicode>\n",
            "    Name of the template to use\n",
            "    Default: ''\n",
            "    Equivalent to: [--TemplateExporter.template_name]\n",
            "--template-file=<Unicode>\n",
            "    Name of the template file to use\n",
            "    Default: None\n",
            "    Equivalent to: [--TemplateExporter.template_file]\n",
            "--theme=<Unicode>\n",
            "    Template specific theme(e.g. the name of a JupyterLab CSS theme distributed\n",
            "    as prebuilt extension for the lab template)\n",
            "    Default: 'light'\n",
            "    Equivalent to: [--HTMLExporter.theme]\n",
            "--sanitize_html=<Bool>\n",
            "    Whether the HTML in Markdown cells and cell outputs should be sanitized.This\n",
            "    should be set to True by nbviewer or similar tools.\n",
            "    Default: False\n",
            "    Equivalent to: [--HTMLExporter.sanitize_html]\n",
            "--writer=<DottedObjectName>\n",
            "    Writer class used to write the\n",
            "                                        results of the conversion\n",
            "    Default: 'FilesWriter'\n",
            "    Equivalent to: [--NbConvertApp.writer_class]\n",
            "--post=<DottedOrNone>\n",
            "    PostProcessor class used to write the\n",
            "                                        results of the conversion\n",
            "    Default: ''\n",
            "    Equivalent to: [--NbConvertApp.postprocessor_class]\n",
            "--output=<Unicode>\n",
            "    overwrite base name use for output files.\n",
            "                can only be used when converting one notebook at a time.\n",
            "    Default: ''\n",
            "    Equivalent to: [--NbConvertApp.output_base]\n",
            "--output-dir=<Unicode>\n",
            "    Directory to write output(s) to. Defaults\n",
            "                                  to output to the directory of each notebook. To recover\n",
            "                                  previous default behaviour (outputting to the current\n",
            "                                  working directory) use . as the flag value.\n",
            "    Default: ''\n",
            "    Equivalent to: [--FilesWriter.build_directory]\n",
            "--reveal-prefix=<Unicode>\n",
            "    The URL prefix for reveal.js (version 3.x).\n",
            "            This defaults to the reveal CDN, but can be any url pointing to a copy\n",
            "            of reveal.js.\n",
            "            For speaker notes to work, this must be a relative path to a local\n",
            "            copy of reveal.js: e.g., \"reveal.js\".\n",
            "            If a relative path is given, it must be a subdirectory of the\n",
            "            current directory (from which the server is run).\n",
            "            See the usage documentation\n",
            "            (https://nbconvert.readthedocs.io/en/latest/usage.html#reveal-js-html-slideshow)\n",
            "            for more details.\n",
            "    Default: ''\n",
            "    Equivalent to: [--SlidesExporter.reveal_url_prefix]\n",
            "--nbformat=<Enum>\n",
            "    The nbformat version to write.\n",
            "            Use this to downgrade notebooks.\n",
            "    Choices: any of [1, 2, 3, 4]\n",
            "    Default: 4\n",
            "    Equivalent to: [--NotebookExporter.nbformat_version]\n",
            "\n",
            "Examples\n",
            "--------\n",
            "\n",
            "    The simplest way to use nbconvert is\n",
            "\n",
            "            > jupyter nbconvert mynotebook.ipynb --to html\n",
            "\n",
            "            Options include ['asciidoc', 'custom', 'html', 'latex', 'markdown', 'notebook', 'pdf', 'python', 'rst', 'script', 'slides', 'webpdf'].\n",
            "\n",
            "            > jupyter nbconvert --to latex mynotebook.ipynb\n",
            "\n",
            "            Both HTML and LaTeX support multiple output templates. LaTeX includes\n",
            "            'base', 'article' and 'report'.  HTML includes 'basic', 'lab' and\n",
            "            'classic'. You can specify the flavor of the format used.\n",
            "\n",
            "            > jupyter nbconvert --to html --template lab mynotebook.ipynb\n",
            "\n",
            "            You can also pipe the output to stdout, rather than a file\n",
            "\n",
            "            > jupyter nbconvert mynotebook.ipynb --stdout\n",
            "\n",
            "            PDF is generated via latex\n",
            "\n",
            "            > jupyter nbconvert mynotebook.ipynb --to pdf\n",
            "\n",
            "            You can get (and serve) a Reveal.js-powered slideshow\n",
            "\n",
            "            > jupyter nbconvert myslides.ipynb --to slides --post serve\n",
            "\n",
            "            Multiple notebooks can be given at the command line in a couple of\n",
            "            different ways:\n",
            "\n",
            "            > jupyter nbconvert notebook*.ipynb\n",
            "            > jupyter nbconvert notebook1.ipynb notebook2.ipynb\n",
            "\n",
            "            or you can specify the notebooks list in a config file, containing::\n",
            "\n",
            "                c.NbConvertApp.notebooks = [\"my_notebook.ipynb\"]\n",
            "\n",
            "            > jupyter nbconvert --config mycfg.py\n",
            "\n",
            "To see all available configurables, use `--help-all`.\n",
            "\n"
          ]
        }
      ]
    }
  ],
  "metadata": {
    "accelerator": "GPU",
    "colab": {
      "gpuType": "T4",
      "provenance": []
    },
    "kernelspec": {
      "display_name": "Python 3",
      "name": "python3"
    },
    "language_info": {
      "name": "python"
    }
  },
  "nbformat": 4,
  "nbformat_minor": 0
}